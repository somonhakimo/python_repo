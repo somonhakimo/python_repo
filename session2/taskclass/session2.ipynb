{
 "cells": [
  {
   "cell_type": "code",
   "execution_count": null,
   "id": "fd5befe3",
   "metadata": {},
   "outputs": [],
   "source": [
    "# what we learned in last class\n",
    "\n",
    "# python is a programming language\n",
    "# python is an interpreted language\n",
    "\n",
    "\n",
    "\n",
    "# compiled:\n",
    "# runs only if the syntax is correct in the whole file\n",
    "# faster\n",
    "# creates a seperate binary File \n",
    "\n",
    "\n",
    "\n",
    "# variables: holds specific data type value (10, 10.9, \"hello\")\n",
    "\n",
    "# data types:\n",
    "# strings\n",
    "# integers\n",
    "# floats\n",
    "\n",
    "# numeric data types:\n",
    "# all sort of mathmatical equations (+, -, *, /, //, %, **)\n",
    "\n",
    "# strings:\n",
    "# takes plain text (alphanumeric)\n",
    "# input function is by default string data type\n",
    "# int(), float()\n",
    "# string indexing --> always starts from 0\n"
   ]
  },
  {
   "cell_type": "code",
   "execution_count": null,
   "id": "51c877d1",
   "metadata": {},
   "outputs": [
    {
     "name": "stdout",
     "output_type": "stream",
     "text": [
      "1195987\n",
      "0x64\n",
      "31167\n",
      "1398117\n"
     ]
    }
   ],
   "source": [
    "# numeric data types\n",
    "#Binary\n",
    "# binary are 1 and 0\n",
    "# binary representation of a number in python is 0b\n",
    "# print(0b00010101)\n",
    "# 2^0 * 1\n",
    "# 2^1 * 0\n",
    "# 2^2 * 1\n",
    "# 2^3 * 0\n",
    "# 2^4 * 1\n",
    "# 2^5 * 0\n",
    "# 2^5 * 0\n",
    "# 2^6 * 0  if you add all of the results you will get 21 \n",
    "# print(0b1)\n",
    "# print(bin(21))\n",
    "\n",
    "# Hexadecimal\n",
    "# hexidecimal = 16 0x (0-9) (a-f)\n",
    "# hex function translates from decimal to hex\n",
    "# print(0x123fd3)\n",
    "# print(hex(100))\n",
    "# # Octal\n",
    "# # octal 8 0-7\n",
    "# # 0o\n",
    "# print(0o74677)\n",
    "# print(0o5252545)\n"
   ]
  },
  {
   "cell_type": "code",
   "execution_count": 13,
   "id": "092074cf",
   "metadata": {},
   "outputs": [],
   "source": [
    "# variable convetions (best practices)\n",
    "# snake_casing, camelCasing\n",
    "# last_name --> Snake Casing\n",
    "# lastName --> Camel Casing\n",
    "\n",
    "# # in python we use mostly snake_case this is the best practice.\n",
    "# regular_variable = \"hello\"\n",
    "# _hidden_variable = meaning do not change this variable\n",
    "# __very_hidden_variable = haha\n"
   ]
  },
  {
   "cell_type": "code",
   "execution_count": null,
   "id": "7d71889b",
   "metadata": {},
   "outputs": [
    {
     "name": "stdout",
     "output_type": "stream",
     "text": [
      "True\n",
      "False\n",
      "False\n"
     ]
    }
   ],
   "source": [
    "# booleans\n",
    "# what is the boolean?\n",
    "# boolean is a data type\n",
    "# boolean only has 2 states: True or False\n",
    "# boolean operators\n",
    "my_var = True\n",
    "my_var2 = False\n",
    "\n",
    "# and, or, not\n",
    "# and operator\n",
    "# used to connect 2  or more boolean to form a single decision, False is the priority.\n",
    "print(True and True) # True and True --> True\n",
    "print(True and False) ## Treu and False --> False\n",
    "print(False and False) # False and False --> False"
   ]
  },
  {
   "cell_type": "code",
   "execution_count": 16,
   "id": "dd03bb91",
   "metadata": {},
   "outputs": [
    {
     "name": "stdout",
     "output_type": "stream",
     "text": [
      "True\n",
      "True\n",
      "False\n"
     ]
    }
   ],
   "source": [
    "# or operator\n",
    "# used to connect 2 boolean to form a single decision (True is a priority)\n",
    "print(True or True) # True and True --> True\n",
    "print(True or False) ## True and False --> True\n",
    "print(False or False) # False and False --> False\n"
   ]
  },
  {
   "cell_type": "code",
   "execution_count": 17,
   "id": "14c426b8",
   "metadata": {},
   "outputs": [
    {
     "name": "stdout",
     "output_type": "stream",
     "text": [
      "False\n",
      "True\n"
     ]
    }
   ],
   "source": [
    "# not operator\n",
    "# used to return the opposite of the boolean\n",
    "\n",
    "print(not True)\n",
    "print(not False)"
   ]
  },
  {
   "cell_type": "code",
   "execution_count": null,
   "id": "fb00d786",
   "metadata": {},
   "outputs": [
    {
     "name": "stdout",
     "output_type": "stream",
     "text": [
      "True\n",
      "True\n"
     ]
    }
   ],
   "source": [
    "# Python follows operator precedence rules. For Boolean operators, the precedence is:\n",
    "# not\n",
    "# and\n",
    "# or\n",
    "print(True or True and False or not True)\n",
    "# True or (True and False) or (not True)\n",
    "print(True and False or True)"
   ]
  },
  {
   "cell_type": "code",
   "execution_count": 19,
   "id": "b2ffe83a",
   "metadata": {},
   "outputs": [
    {
     "name": "stdout",
     "output_type": "stream",
     "text": [
      "False\n"
     ]
    }
   ],
   "source": [
    "# if condition or/and condition2\n",
    "# comparison operators\n",
    "# all of the comparison operators return boolean data type \n",
    "\n",
    "# <\n",
    "# >\n",
    "# <=\n",
    "# >=\n",
    "# ==\n",
    "# \\\n",
    "\n",
    "print(68<=67)\n",
    "\n"
   ]
  },
  {
   "cell_type": "code",
   "execution_count": null,
   "id": "614144b4",
   "metadata": {},
   "outputs": [],
   "source": [
    "# # 'if' always takes boolean data type \n",
    "# # if condition always runs when the final decision is True\n",
    "if <condition> and <condition>:\n",
    "        # indentation = tab\n",
    "        # <code>\n",
    "        if <condition>:\n",
    "            # <indentation>\n",
    "elif <condition> or <condition2>: # also called nested conditions.\n",
    "    # indentation = tab\n",
    "    # <code>\n",
    "else:\n",
    "    # indentation = tab\n",
    "    # <code>\n"
   ]
  },
  {
   "cell_type": "code",
   "execution_count": 30,
   "id": "db55b2ec",
   "metadata": {},
   "outputs": [
    {
     "name": "stdout",
     "output_type": "stream",
     "text": [
      "hahaha\n"
     ]
    }
   ],
   "source": [
    "word1 = input(\"put first word here: \")\n",
    "word2 = input('put your second word here: ')\n",
    "\n",
    "if len(word1) > len(word2):\n",
    "    print(word1)\n",
    "elif len(word1) == len(word2):\n",
    "    print('they have equal length')\n",
    "else:\n",
    "    print(word2)\n"
   ]
  },
  {
   "cell_type": "code",
   "execution_count": 44,
   "id": "d6722c29",
   "metadata": {},
   "outputs": [
    {
     "name": "stdout",
     "output_type": "stream",
     "text": [
      "you got A\n"
     ]
    }
   ],
   "source": [
    "num = int(input('put the grade that you got: '))\n",
    "\n",
    "if num >= 90 and num <= 100:\n",
    "    print('you got A')\n",
    "elif num >= 80 and num <= 89:\n",
    "    print('you got B')\n",
    "elif num >= 70 and num <=79:\n",
    "    print('you got C, you can do better')\n",
    "elif num >=60 and num<=69:\n",
    "    print('you missed too much classes therefore you got D')\n",
    "elif num <= 60 and num>=0:\n",
    "    print('you got F, probably you were busy with different work')\n",
    "else:\n",
    "    print('incorrect number, are you okay?')"
   ]
  },
  {
   "cell_type": "code",
   "execution_count": 46,
   "id": "b35bcb10",
   "metadata": {},
   "outputs": [
    {
     "data": {
      "text/plain": [
       "5.0"
      ]
     },
     "execution_count": 46,
     "metadata": {},
     "output_type": "execute_result"
    }
   ],
   "source": [
    "2000/400"
   ]
  },
  {
   "cell_type": "code",
   "execution_count": 49,
   "id": "2a984743",
   "metadata": {},
   "outputs": [
    {
     "name": "stdout",
     "output_type": "stream",
     "text": [
      "20.0\n",
      "500.0\n"
     ]
    }
   ],
   "source": [
    "print(2000/100)\n",
    "print(2000/4)"
   ]
  },
  {
   "cell_type": "code",
   "execution_count": 57,
   "id": "5d35dfa9",
   "metadata": {},
   "outputs": [
    {
     "name": "stdout",
     "output_type": "stream",
     "text": [
      "it is not a leap year\n"
     ]
    }
   ],
   "source": [
    "\n",
    "year = int(input('put any year to check if it is a leap year: '))\n",
    "if year%4 == 0 or year%400 == 0:\n",
    "    print('this is a leap year')\n",
    "elif year%4==0 and year%100==0:\n",
    "    print('this is not a leap year')\n",
    "else:\n",
    "    print('it is not a leap year')\n"
   ]
  },
  {
   "cell_type": "code",
   "execution_count": null,
   "id": "58deefe3",
   "metadata": {},
   "outputs": [],
   "source": []
  }
 ],
 "metadata": {
  "kernelspec": {
   "display_name": "py311env",
   "language": "python",
   "name": "python3"
  },
  "language_info": {
   "codemirror_mode": {
    "name": "ipython",
    "version": 3
   },
   "file_extension": ".py",
   "mimetype": "text/x-python",
   "name": "python",
   "nbconvert_exporter": "python",
   "pygments_lexer": "ipython3",
   "version": "3.12.3"
  }
 },
 "nbformat": 4,
 "nbformat_minor": 5
}
