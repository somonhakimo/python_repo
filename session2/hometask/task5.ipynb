{
 "cells": [
  {
   "cell_type": "code",
   "execution_count": null,
   "id": "33faa1c0",
   "metadata": {},
   "outputs": [
    {
     "name": "stdout",
     "output_type": "stream",
     "text": [
      "Isosceles triangle\n"
     ]
    }
   ],
   "source": [
    "# Task 5: Triangle Type Checker\n",
    "# Description:\n",
    "#  Ask the user for 3 side lengths and determine what type of triangle they form:\n",
    "# Equilateral: all sides equal\n",
    "# Isosceles: two sides equal\n",
    "# Scalene: all sides different\n",
    "# Not a triangle: if the sum of any two sides is not greater than the third\n",
    "# Example:\n",
    "# Input: 5, 5, 5  \n",
    "# Output: Equilateral triangle\n",
    "\n",
    "num1 = int(input('put the first length of the triangle: '))\n",
    "num2 = int(input('put the second length of the triangle: '))\n",
    "num3 = int(input('put the third value here: '))\n",
    "\n",
    "if num1 == num2 == num3:\n",
    "    print('Equilateral triangle')\n",
    "elif num1 + num2 < num3 or num1+num3<num2 or num2+num3<num1:\n",
    "    print('not a triangle')\n",
    "elif num1 != num2 and num1 != num3 and num2 != num3:\n",
    "    print('all sides are different')\n",
    "elif num1 == num2 or num1 == num3 or num2==num3:\n",
    "    print('Isosceles triangle')\n",
    "else:\n",
    "    print('somethin is wrong')"
   ]
  },
  {
   "cell_type": "code",
   "execution_count": null,
   "id": "c0a6a3d3",
   "metadata": {},
   "outputs": [],
   "source": []
  },
  {
   "cell_type": "code",
   "execution_count": null,
   "id": "8d2c5399",
   "metadata": {},
   "outputs": [],
   "source": []
  }
 ],
 "metadata": {
  "kernelspec": {
   "display_name": "py311env",
   "language": "python",
   "name": "python3"
  },
  "language_info": {
   "codemirror_mode": {
    "name": "ipython",
    "version": 3
   },
   "file_extension": ".py",
   "mimetype": "text/x-python",
   "name": "python",
   "nbconvert_exporter": "python",
   "pygments_lexer": "ipython3",
   "version": "3.12.3"
  }
 },
 "nbformat": 4,
 "nbformat_minor": 5
}
