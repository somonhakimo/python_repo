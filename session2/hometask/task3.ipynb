{
 "cells": [
  {
   "cell_type": "code",
   "execution_count": 34,
   "id": "f73712d4",
   "metadata": {},
   "outputs": [
    {
     "name": "stdout",
     "output_type": "stream",
     "text": [
      "weak password\n"
     ]
    }
   ],
   "source": [
    "# Task 3: Password Validator\n",
    "# Description:\n",
    "#  Ask the user to input a password.\n",
    "#  Check if it meets all of the following conditions:\n",
    "# At least 8 characters long\n",
    "# Contains the letter “@”\n",
    "# Does not contain any spaces\n",
    "# Print:\n",
    "# \"Strong password\" if all conditions are met\n",
    "# Otherwise, print \"Weak password\"\n",
    "# Example:\n",
    "# Input: hello@123  \n",
    "# Output: Strong password\n",
    "\n",
    "pas = input('please put your password here: ')\n",
    "\n",
    "for i in pas:\n",
    "    if i == '@' and i != ' ' and len(pas)>=8:\n",
    "        print('strong password')\n",
    "        break\n",
    "else:\n",
    "    print('weak password')\n",
    "        "
   ]
  },
  {
   "cell_type": "code",
   "execution_count": null,
   "id": "89d60a00",
   "metadata": {},
   "outputs": [],
   "source": []
  },
  {
   "cell_type": "code",
   "execution_count": null,
   "id": "c18c46e0",
   "metadata": {},
   "outputs": [],
   "source": []
  },
  {
   "cell_type": "code",
   "execution_count": null,
   "id": "b8735aa3",
   "metadata": {},
   "outputs": [],
   "source": []
  }
 ],
 "metadata": {
  "kernelspec": {
   "display_name": "py311env",
   "language": "python",
   "name": "python3"
  },
  "language_info": {
   "codemirror_mode": {
    "name": "ipython",
    "version": 3
   },
   "file_extension": ".py",
   "mimetype": "text/x-python",
   "name": "python",
   "nbconvert_exporter": "python",
   "pygments_lexer": "ipython3",
   "version": "3.12.3"
  }
 },
 "nbformat": 4,
 "nbformat_minor": 5
}
