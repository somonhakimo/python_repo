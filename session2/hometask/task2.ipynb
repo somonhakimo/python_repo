{
 "cells": [
  {
   "cell_type": "code",
   "execution_count": null,
   "id": "ec3d2638",
   "metadata": {},
   "outputs": [
    {
     "name": "stdout",
     "output_type": "stream",
     "text": [
      "you entered something else akljsdh and alksjdh, please enter True or False\n"
     ]
    }
   ],
   "source": [
    "# Task 2: Final Decision\n",
    "# Description:\n",
    "#  Take two boolean inputs from the user (True or False) and show the result of and, or, and not operations.\n",
    "# Example:\n",
    "# Input:\n",
    "# First Boolean: True  \n",
    "# Second Boolean: False  \n",
    "# Output:\n",
    "# True and False = False  \n",
    "# True or False = True  \n",
    "# not True = False\n",
    "\n",
    "boo1 = (input('put your first boolean here: '))\n",
    "boo2 = (input('put your second boolean here: '))\n",
    "\n",
    "if boo1 == 'False' and boo2 == 'False':\n",
    "    print('''False and False = False\n",
    "False or False = False\n",
    "not False = True''')\n",
    "elif boo1 == 'True' and boo2 == 'True':\n",
    "    print(\"\"\" True and True = True\n",
    "True or True = True\n",
    "not True = False\"\"\")\n",
    "elif boo1 == 'True' and boo2 == 'False':\n",
    "    print(\"\"\"True and False = False  \n",
    "True or False = True  \n",
    "not True = False\"\"\")\n",
    "elif boo1 == 'False' and boo2 == 'True':\n",
    "    print('''False and True = False\n",
    "Fasle or True = True\n",
    "not Fasle = True''')\n",
    "else:\n",
    "    print(f'you entered  {boo1} and {boo2}, please enter True or False')\n",
    "\n",
    "        "
   ]
  },
  {
   "cell_type": "code",
   "execution_count": null,
   "id": "5031c081",
   "metadata": {},
   "outputs": [],
   "source": []
  }
 ],
 "metadata": {
  "kernelspec": {
   "display_name": "py311env",
   "language": "python",
   "name": "python3"
  },
  "language_info": {
   "codemirror_mode": {
    "name": "ipython",
    "version": 3
   },
   "file_extension": ".py",
   "mimetype": "text/x-python",
   "name": "python",
   "nbconvert_exporter": "python",
   "pygments_lexer": "ipython3",
   "version": "3.12.3"
  }
 },
 "nbformat": 4,
 "nbformat_minor": 5
}
