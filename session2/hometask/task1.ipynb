{
 "cells": [
  {
   "cell_type": "code",
   "execution_count": 32,
   "id": "7503b42f",
   "metadata": {},
   "outputs": [
    {
     "name": "stdout",
     "output_type": "stream",
     "text": [
      "you need to provide numbers alone\n",
      "The number is positive\n",
      "The number is even\n"
     ]
    }
   ],
   "source": [
    "# ipynb - interactive python notebook\n",
    "# Task 1: Number info\n",
    "# Description:\n",
    "#  Ask the user to enter a number. Your program should:\n",
    "# Check if the number is positive, negative, or zero\n",
    "# Check if the number is even or odd\n",
    "# Print both results\n",
    "# Example:\n",
    "# Input: -11  \n",
    "# Output:\n",
    "# The number is negative  \n",
    "# The number is odd\n",
    "try:    \n",
    "    num = int(input('put your number here: '))\n",
    "except:\n",
    "    print('you need to provide numbers alone')\n",
    "\n",
    "if num < 0:\n",
    "    print('The number is negative')\n",
    "    if num%2 == 0: \n",
    "            print('the number is even')\n",
    "    elif num%2 != 0:\n",
    "                print('the number is odd')\n",
    "elif num>0:\n",
    "    print('The number is positive')\n",
    "    if num%2 == 0:\n",
    "        print('The number is even')\n",
    "    if num%2 != 0:\n",
    "             print('the number is odd')\n",
    "elif num == 0:\n",
    "    print('The number is zero')\n"
   ]
  },
  {
   "cell_type": "code",
   "execution_count": null,
   "id": "ad22715c",
   "metadata": {},
   "outputs": [],
   "source": []
  }
 ],
 "metadata": {
  "kernelspec": {
   "display_name": "py311env",
   "language": "python",
   "name": "python3"
  },
  "language_info": {
   "codemirror_mode": {
    "name": "ipython",
    "version": 3
   },
   "file_extension": ".py",
   "mimetype": "text/x-python",
   "name": "python",
   "nbconvert_exporter": "python",
   "pygments_lexer": "ipython3",
   "version": "3.12.3"
  }
 },
 "nbformat": 4,
 "nbformat_minor": 5
}
