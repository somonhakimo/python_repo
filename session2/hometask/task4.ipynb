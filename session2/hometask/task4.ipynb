{
 "cells": [
  {
   "cell_type": "code",
   "execution_count": null,
   "id": "ddddaffc",
   "metadata": {},
   "outputs": [
    {
     "name": "stdout",
     "output_type": "stream",
     "text": [
      "Player 1 wins\n"
     ]
    }
   ],
   "source": [
    "# Task 4: Rock, Paper, Scissors\n",
    "# Description:\n",
    "#  Ask for two players to each enter \"rock\", \"paper\" or \"scissors\".\n",
    "#  Determine who wins:\n",
    "# Rock beats scissors\n",
    "# Scissors beats paper\n",
    "# Paper beats rock\n",
    "# If same → “It’s a tie”\n",
    "# Example:\n",
    "# Player 1: rock  \n",
    "# Player 2: scissors  \n",
    "# Output: Player 1 wins\n",
    "\n",
    "play1 = input('please put your rock, paper, or scissors: ')\n",
    "play2 = input('please put your rock, paper, or scissors: ')\n",
    "\n",
    "if (play1 == 'paper' and play2 == 'rock') or (play1 == 'scissors' and play2 == 'paper') or (play1 == 'rock' and play2 == 'scissors'):\n",
    "    print('Player 1 wins')\n",
    "elif play1 == play2:\n",
    "    print('It is a tie')\n",
    "else:\n",
    "    print('Player 2 wins')\n",
    "\n"
   ]
  },
  {
   "cell_type": "code",
   "execution_count": null,
   "id": "21654a8a",
   "metadata": {},
   "outputs": [],
   "source": []
  }
 ],
 "metadata": {
  "kernelspec": {
   "display_name": "py311env",
   "language": "python",
   "name": "python3"
  },
  "language_info": {
   "codemirror_mode": {
    "name": "ipython",
    "version": 3
   },
   "file_extension": ".py",
   "mimetype": "text/x-python",
   "name": "python",
   "nbconvert_exporter": "python",
   "pygments_lexer": "ipython3",
   "version": "3.12.3"
  }
 },
 "nbformat": 4,
 "nbformat_minor": 5
}
