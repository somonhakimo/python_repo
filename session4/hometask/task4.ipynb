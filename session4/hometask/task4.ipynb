{
 "cells": [
  {
   "cell_type": "code",
   "execution_count": null,
   "id": "3ebf2ea9",
   "metadata": {},
   "outputs": [],
   "source": [
    "# Task 4\n",
    "# You are given two dictionaries where the keys represent item names and the values represent their respective counts\n",
    "# Input: \n",
    "# dict1 = {\"apple\": 3, \"banana\": 5, \"orange\": 2}\n",
    "# dict2 = {\"banana\": 2, \"orange\": 4, \"grape\": 6}\n",
    "\n",
    "# Output: \n",
    "# {\n",
    "#     \"apple\": 3,   # Only in dict1\n",
    "#     \"banana\": 7,  # 5 (from dict1) + 2 (from dict2)\n",
    "#     \"orange\": 6,  # 2 (from dict1) + 4 (from dict2)\n",
    "#     \"grape\": 6    # Only in dict2\n",
    "# }"
   ]
  }
 ],
 "metadata": {
  "language_info": {
   "name": "python"
  }
 },
 "nbformat": 4,
 "nbformat_minor": 5
}
