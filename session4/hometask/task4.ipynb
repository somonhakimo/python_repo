{
 "cells": [
  {
   "cell_type": "code",
   "execution_count": 1,
   "id": "3ebf2ea9",
   "metadata": {},
   "outputs": [],
   "source": [
    "# Task 4\n",
    "# You are given two dictionaries where the keys represent item names and the values represent their respective counts\n",
    "# Input: \n",
    "# dict1 = {\"apple\": 3, \"banana\": 5, \"orange\": 2}\n",
    "# dict2 = {\"banana\": 2, \"orange\": 4, \"grape\": 6}\n",
    "\n",
    "# Output: \n",
    "# {\n",
    "#     \"apple\": 3,   # Only in dict1\n",
    "#     \"banana\": 7,  # 5 (from dict1) + 2 (from dict2)\n",
    "#     \"orange\": 6,  # 2 (from dict1) + 4 (from dict2)\n",
    "#     \"grape\": 6    # Only in dict2\n",
    "# }"
   ]
  },
  {
   "cell_type": "code",
   "execution_count": 14,
   "id": "38e2eaa2",
   "metadata": {},
   "outputs": [
    {
     "name": "stdout",
     "output_type": "stream",
     "text": [
      "{'apple': 3, 'banana': 5, 'orange': 2}\n",
      "{'banana': 2, 'orange': 4, 'grape': 6}\n",
      "{'apple': 3, 'banana': 7, 'orange': 6, 'grape': 6}\n"
     ]
    }
   ],
   "source": [
    "\n",
    "\n",
    "dictionary1 = {\"apple\": 3, \"banana\": 5, \"orange\": 2}\n",
    "dictionary2 = {\"banana\": 2, \"orange\": 4, \"grape\": 6}\n",
    "dictionary3 = dictionary1.copy()\n",
    "for i in dictionary2:\n",
    "    if i not in dictionary3:\n",
    "        dictionary3[i] = dictionary2[i] \n",
    "    elif i in dictionary3:\n",
    "        dictionary3[i] = dictionary3[i] + dictionary2[i]\n",
    "\n",
    "\n",
    "print(dictionary1)\n",
    "print(dictionary2)\n",
    "print(dictionary3)\n"
   ]
  },
  {
   "cell_type": "code",
   "execution_count": null,
   "id": "b6741547",
   "metadata": {},
   "outputs": [],
   "source": []
  },
  {
   "cell_type": "code",
   "execution_count": null,
   "id": "f3c3540c",
   "metadata": {},
   "outputs": [],
   "source": []
  }
 ],
 "metadata": {
  "kernelspec": {
   "display_name": "py311env",
   "language": "python",
   "name": "python3"
  },
  "language_info": {
   "codemirror_mode": {
    "name": "ipython",
    "version": 3
   },
   "file_extension": ".py",
   "mimetype": "text/x-python",
   "name": "python",
   "nbconvert_exporter": "python",
   "pygments_lexer": "ipython3",
   "version": "3.12.3"
  }
 },
 "nbformat": 4,
 "nbformat_minor": 5
}
