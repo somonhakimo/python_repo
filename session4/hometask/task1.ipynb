{
 "cells": [
  {
   "cell_type": "code",
   "execution_count": null,
   "id": "58b15aba",
   "metadata": {},
   "outputs": [],
   "source": [
    "# Task 1:\n",
    "# Given a dictionary of students and their scores, print only the students who scored more than 50.\n",
    "# Dictionary: students = {\"Alice\": 45, \"Bob\": 78, \"Charlie\": 52, \"David\": 33}\n",
    "# Output: Bob : 78, Charlie : 52"
   ]
  },
  {
   "cell_type": "code",
   "execution_count": 3,
   "id": "cff5e9b0",
   "metadata": {},
   "outputs": [
    {
     "name": "stdout",
     "output_type": "stream",
     "text": [
      "Bob : 78\n",
      "Charlie : 52\n"
     ]
    }
   ],
   "source": [
    "students = {\"Alice\": 45, \"Bob\": 78, \"Charlie\": 52, \"David\": 33}\n",
    "for key, value in students.items():\n",
    "    if value > 50:\n",
    "        print(key, ':', value) "
   ]
  },
  {
   "cell_type": "code",
   "execution_count": null,
   "id": "9229b4ef",
   "metadata": {},
   "outputs": [],
   "source": []
  }
 ],
 "metadata": {
  "kernelspec": {
   "display_name": "py311env",
   "language": "python",
   "name": "python3"
  },
  "language_info": {
   "codemirror_mode": {
    "name": "ipython",
    "version": 3
   },
   "file_extension": ".py",
   "mimetype": "text/x-python",
   "name": "python",
   "nbconvert_exporter": "python",
   "pygments_lexer": "ipython3",
   "version": "3.12.3"
  }
 },
 "nbformat": 4,
 "nbformat_minor": 5
}
