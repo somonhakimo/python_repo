{
 "cells": [
  {
   "cell_type": "code",
   "execution_count": 1,
   "id": "ac4a2d29",
   "metadata": {},
   "outputs": [],
   "source": [
    "# Task 3\n",
    "# Take an input of list of numbers, find and print the unique numbers.\n",
    "# Input: [1, 2, 2, 3, 4, 4, 5]\n",
    "# Output: 1, 3, 5"
   ]
  },
  {
   "cell_type": "code",
   "execution_count": null,
   "id": "3d49c127",
   "metadata": {},
   "outputs": [
    {
     "name": "stdout",
     "output_type": "stream",
     "text": [
      "['1', '2', '3', '4', '5']\n"
     ]
    }
   ],
   "source": [
    "string1 = input('put your numbers here: ')\n",
    "given_list = string1.split()\n",
    "unique_list = []\n",
    "\n",
    "a = 1\n",
    "for i in given_list:\n",
    "    if i not in unique_list:\n",
    "        unique_list.append(i)\n",
    "    elif i in unique_list:\n",
    "        unique_list.remove(i)\n",
    "\n",
    "print(unique_list)\n",
    "        \n"
   ]
  },
  {
   "cell_type": "code",
   "execution_count": 11,
   "id": "54226ac6",
   "metadata": {},
   "outputs": [
    {
     "name": "stdout",
     "output_type": "stream",
     "text": [
      "['1', '1', '2', '2']\n",
      "{'1': 2, '2': 2}\n",
      "[]\n"
     ]
    }
   ],
   "source": [
    "string1 = input('put your numbers here: ')\n",
    "given_list = string1.split()\n",
    "unique_list = []\n",
    "dicti = {}\n",
    "counter = 0\n",
    "for i in given_list:\n",
    "    if i not in dicti:\n",
    "        counter += 1\n",
    "        dicti[i] = counter\n",
    "        counter = 0\n",
    "    elif i in dicti:\n",
    "        dicti[i] = dicti[i] + 1\n",
    "print(given_list)\n",
    "print(dicti)\n",
    "\n",
    "for key, value in dicti.items():\n",
    "    if value == 1:\n",
    "        unique_list.append(key)\n",
    "print(unique_list)"
   ]
  },
  {
   "cell_type": "code",
   "execution_count": null,
   "id": "01d2569d",
   "metadata": {},
   "outputs": [],
   "source": []
  },
  {
   "cell_type": "code",
   "execution_count": null,
   "id": "a28eccec",
   "metadata": {},
   "outputs": [],
   "source": []
  }
 ],
 "metadata": {
  "kernelspec": {
   "display_name": "py311env",
   "language": "python",
   "name": "python3"
  },
  "language_info": {
   "codemirror_mode": {
    "name": "ipython",
    "version": 3
   },
   "file_extension": ".py",
   "mimetype": "text/x-python",
   "name": "python",
   "nbconvert_exporter": "python",
   "pygments_lexer": "ipython3",
   "version": "3.12.3"
  }
 },
 "nbformat": 4,
 "nbformat_minor": 5
}
