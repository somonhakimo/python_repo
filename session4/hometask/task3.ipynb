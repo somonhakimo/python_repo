{
 "cells": [
  {
   "cell_type": "code",
   "execution_count": 1,
   "id": "ac4a2d29",
   "metadata": {},
   "outputs": [],
   "source": [
    "# Task 3\n",
    "# Take an input of list of numbers, find and print the unique numbers.\n",
    "# Input: [1, 2, 2, 3, 4, 4, 5]\n",
    "# Output: 1, 3, 5"
   ]
  },
  {
   "cell_type": "code",
   "execution_count": 18,
   "id": "3d49c127",
   "metadata": {},
   "outputs": [
    {
     "name": "stdout",
     "output_type": "stream",
     "text": [
      "['1']\n"
     ]
    }
   ],
   "source": [
    "string1 = input('put your numbers here: ')\n",
    "given_list = string1.split()\n",
    "unique_list = []\n",
    "for i in given_list:\n",
    "    if i not in unique_list:\n",
    "        unique_list.append(i)\n",
    "    elif i in unique_list:\n",
    "        unique_list.remove(i)\n",
    "    else:\n",
    "        unique_list.remove(i)\n",
    "\n",
    "print(unique_list)\n",
    "        \n"
   ]
  },
  {
   "cell_type": "code",
   "execution_count": 12,
   "id": "54226ac6",
   "metadata": {},
   "outputs": [
    {
     "name": "stdout",
     "output_type": "stream",
     "text": [
      "(1, 3)\n"
     ]
    }
   ],
   "source": [
    "tpl = (1, 3)\n",
    "print(tpl)"
   ]
  },
  {
   "cell_type": "code",
   "execution_count": null,
   "id": "01d2569d",
   "metadata": {},
   "outputs": [],
   "source": []
  }
 ],
 "metadata": {
  "kernelspec": {
   "display_name": "py311env",
   "language": "python",
   "name": "python3"
  },
  "language_info": {
   "codemirror_mode": {
    "name": "ipython",
    "version": 3
   },
   "file_extension": ".py",
   "mimetype": "text/x-python",
   "name": "python",
   "nbconvert_exporter": "python",
   "pygments_lexer": "ipython3",
   "version": "3.12.3"
  }
 },
 "nbformat": 4,
 "nbformat_minor": 5
}
