{
 "cells": [
  {
   "cell_type": "code",
   "execution_count": 1,
   "id": "7125f594",
   "metadata": {},
   "outputs": [],
   "source": [
    "# Task 2:\n",
    "# Take an input and count the occurrences of each character.\n",
    "# Input: programming\n",
    "# Output: {'p': 1, 'r': 2, 'o': 1, 'g': 2, 'a': 1, 'm': 2, 'i': 1, 'n': 1}"
   ]
  },
  {
   "cell_type": "code",
   "execution_count": 11,
   "id": "515ba102",
   "metadata": {},
   "outputs": [
    {
     "name": "stdout",
     "output_type": "stream",
     "text": [
      "{'l': 3, 'a': 1, 'j': 3, 'd': 3, ' ': 1}\n"
     ]
    }
   ],
   "source": [
    "string1 = input('put your input here: ')\n",
    "counter = 0\n",
    "dictionary = {}\n",
    "b = ''\n",
    "for i in string1:\n",
    "    if i not in dictionary:\n",
    "        counter += 1\n",
    "        dictionary[i] = counter\n",
    "        counter = 0\n",
    "    elif i in dictionary:\n",
    "        dictionary[i] += 1\n",
    "    \n",
    "\n",
    "\n",
    "print(dictionary)\n",
    "\n",
    "    "
   ]
  },
  {
   "cell_type": "code",
   "execution_count": null,
   "id": "d46a99b6",
   "metadata": {},
   "outputs": [],
   "source": []
  }
 ],
 "metadata": {
  "kernelspec": {
   "display_name": "py311env",
   "language": "python",
   "name": "python3"
  },
  "language_info": {
   "codemirror_mode": {
    "name": "ipython",
    "version": 3
   },
   "file_extension": ".py",
   "mimetype": "text/x-python",
   "name": "python",
   "nbconvert_exporter": "python",
   "pygments_lexer": "ipython3",
   "version": "3.12.3"
  }
 },
 "nbformat": 4,
 "nbformat_minor": 5
}
