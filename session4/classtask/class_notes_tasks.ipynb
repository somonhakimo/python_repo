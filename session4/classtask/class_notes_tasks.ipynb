{
 "cells": [
  {
   "cell_type": "code",
   "execution_count": 1,
   "id": "4d61e7a0",
   "metadata": {},
   "outputs": [],
   "source": [
    "# coding everyday\n",
    "# typing everyday\n",
    "# certificates\n",
    "# demo\n"
   ]
  },
  {
   "cell_type": "code",
   "execution_count": null,
   "id": "a8f22d13",
   "metadata": {},
   "outputs": [],
   "source": [
    "# listing functions/methods\n",
    "# Nested loops\n",
    "# difference between mutable and immutable data types\n",
    "# Tuples\n",
    "# Dictionaries"
   ]
  },
  {
   "cell_type": "code",
   "execution_count": 6,
   "id": "251d37c7",
   "metadata": {},
   "outputs": [
    {
     "name": "stdout",
     "output_type": "stream",
     "text": [
      "[2, 3]\n",
      "{}\n"
     ]
    }
   ],
   "source": [
    "# when to use del and when to use methods?\n",
    "# pop(), remove('value')\n",
    "# del\n",
    "lst = [1,2,3]\n",
    "lst2 = {1: 'haha'}\n",
    "\n",
    "del lst2[1]\n",
    "\n",
    "del lst[0]\n",
    "\n",
    "print(lst)\n",
    "print(lst2)\n"
   ]
  },
  {
   "cell_type": "code",
   "execution_count": 8,
   "id": "40760eac",
   "metadata": {},
   "outputs": [],
   "source": [
    "# functions or methods\n",
    "# append()\n",
    "# insert()\n",
    "# remove()\n",
    "# pop()\n",
    "# sort()\n",
    "# index()"
   ]
  },
  {
   "cell_type": "code",
   "execution_count": null,
   "id": "6867a745",
   "metadata": {},
   "outputs": [
    {
     "ename": "TypeError",
     "evalue": "'<' not supported between instances of 'str' and 'int'",
     "output_type": "error",
     "traceback": [
      "\u001b[31m---------------------------------------------------------------------------\u001b[39m",
      "\u001b[31mTypeError\u001b[39m                                 Traceback (most recent call last)",
      "\u001b[36mCell\u001b[39m\u001b[36m \u001b[39m\u001b[32mIn[9]\u001b[39m\u001b[32m, line 2\u001b[39m\n\u001b[32m      1\u001b[39m lst = [\u001b[32m1\u001b[39m,\u001b[32m2\u001b[39m,\u001b[32m4\u001b[39m,\u001b[32m56\u001b[39m,\u001b[32m7\u001b[39m,-\u001b[32m4\u001b[39m,-\u001b[32m5\u001b[39m,-\u001b[32m34\u001b[39m, \u001b[33m'\u001b[39m\u001b[33mhaha\u001b[39m\u001b[33m'\u001b[39m, \u001b[33m'\u001b[39m\u001b[33msomon\u001b[39m\u001b[33m'\u001b[39m, \u001b[38;5;28;01mTrue\u001b[39;00m, \u001b[38;5;28;01mFalse\u001b[39;00m]\n\u001b[32m----> \u001b[39m\u001b[32m2\u001b[39m \u001b[43mlst\u001b[49m\u001b[43m.\u001b[49m\u001b[43msort\u001b[49m\u001b[43m(\u001b[49m\u001b[43m)\u001b[49m\n\u001b[32m      3\u001b[39m \u001b[38;5;28mprint\u001b[39m(lst)\n",
      "\u001b[31mTypeError\u001b[39m: '<' not supported between instances of 'str' and 'int'"
     ]
    }
   ],
   "source": [
    "lst = [1,2,4,56,7,-4,-5,-34, 'haha', 'somon', True, False] # we need to have one data type only.\n",
    "lst.sort()\n",
    "print(lst)\n"
   ]
  },
  {
   "cell_type": "code",
   "execution_count": null,
   "id": "6256365c",
   "metadata": {},
   "outputs": [
    {
     "name": "stdout",
     "output_type": "stream",
     "text": [
      "[-34, -5, -4, False, 1, True, 2, 4, 7, 56]\n"
     ]
    }
   ],
   "source": [
    "lst = [1,2,4,56,7,-4,-5,-34, True, False] # True = 1, False = 0\n",
    "lst.sort()\n",
    "print(lst)\n"
   ]
  },
  {
   "cell_type": "code",
   "execution_count": 11,
   "id": "2a388966",
   "metadata": {},
   "outputs": [
    {
     "name": "stdout",
     "output_type": "stream",
     "text": [
      "['B', 'C', 'a', 'b']\n"
     ]
    }
   ],
   "source": [
    "lst = ['a', 'b', 'B', 'C', ] # ASCII table\n",
    "lst.sort()\n",
    "print(lst)"
   ]
  },
  {
   "cell_type": "code",
   "execution_count": 12,
   "id": "7e0ec549",
   "metadata": {},
   "outputs": [
    {
     "name": "stdout",
     "output_type": "stream",
     "text": [
      "[-4.5, -1, 2, 3, 4, 5]\n"
     ]
    }
   ],
   "source": [
    "lst = [2,3,4,5,-1,-4.5]\n",
    "lst.sort()\n",
    "print(lst)"
   ]
  },
  {
   "cell_type": "code",
   "execution_count": 13,
   "id": "e6fb5996",
   "metadata": {},
   "outputs": [
    {
     "name": "stdout",
     "output_type": "stream",
     "text": [
      "[5, 4, 3, 2, -1, -4.5]\n"
     ]
    }
   ],
   "source": [
    "lst = [2,3,4,5,-1,-4.5]\n",
    "lst.sort(reverse=True)\n",
    "print(lst)"
   ]
  },
  {
   "cell_type": "code",
   "execution_count": 16,
   "id": "36a4f6a8",
   "metadata": {},
   "outputs": [
    {
     "name": "stdout",
     "output_type": "stream",
     "text": [
      "4\n",
      "0\n"
     ]
    }
   ],
   "source": [
    "lst = [2,3,4,5,-1,-4.5]\n",
    "print(lst.index(-1))\n",
    "\n",
    "lst3 = ['hello', 'hello', 'world']\n",
    "print(lst3.index('hello'))"
   ]
  },
  {
   "cell_type": "code",
   "execution_count": null,
   "id": "ea60dd50",
   "metadata": {},
   "outputs": [
    {
     "name": "stdout",
     "output_type": "stream",
     "text": [
      "['hello', 'world.', 'this', 'is', 'a', 'test']\n"
     ]
    }
   ],
   "source": [
    "str1 = 'hello world. this is a test' # split works only with strings, append, insert etc those work with list only\n",
    "lst_str = str1.split()\n",
    "print(lst_str)"
   ]
  },
  {
   "cell_type": "code",
   "execution_count": 19,
   "id": "ac0c8bcf",
   "metadata": {},
   "outputs": [
    {
     "name": "stdout",
     "output_type": "stream",
     "text": [
      "['hello', 'world', 'this', 'is', 'a', 'test']\n"
     ]
    }
   ],
   "source": [
    "str1 = 'hello:world:this:is:a:test'\n",
    "lst_str = str1.split(':')\n",
    "print(lst_str)"
   ]
  },
  {
   "cell_type": "code",
   "execution_count": 20,
   "id": "c881d7c3",
   "metadata": {},
   "outputs": [
    {
     "name": "stdout",
     "output_type": "stream",
     "text": [
      "hello, world, this is a test,\n"
     ]
    }
   ],
   "source": [
    "str1 = 'hello, world, this is a test, '\n",
    "x = str1.strip()\n",
    "print(x)\n"
   ]
  },
  {
   "cell_type": "code",
   "execution_count": 21,
   "id": "d82680dc",
   "metadata": {},
   "outputs": [],
   "source": [
    "str1 = '   hello, world, this, is s test,  '\n",
    "x = str1.split(',')\n",
    "filtered = []\n"
   ]
  },
  {
   "cell_type": "code",
   "execution_count": 22,
   "id": "2c260d29",
   "metadata": {},
   "outputs": [
    {
     "name": "stdout",
     "output_type": "stream",
     "text": [
      "[1, 2, 3, 4, 5, 6, 7, 8, 9, 10]\n"
     ]
    }
   ],
   "source": [
    "lst_num = []\n",
    "for num in range (1, 11):\n",
    "    lst_num.append(num)\n",
    "\n",
    "print(lst_num)"
   ]
  },
  {
   "cell_type": "code",
   "execution_count": 24,
   "id": "8e06824e",
   "metadata": {},
   "outputs": [
    {
     "name": "stdout",
     "output_type": "stream",
     "text": [
      "[2, 4, 6, 8, 10]\n"
     ]
    }
   ],
   "source": [
    "# lst_num = [<value> for <iterator> in <sequence>] \n",
    "lst_num = [num for num in range(1,11) if num % 2 ==0]\n",
    "print(lst_num)"
   ]
  },
  {
   "cell_type": "code",
   "execution_count": 26,
   "id": "adbbd8b0",
   "metadata": {},
   "outputs": [
    {
     "name": "stdout",
     "output_type": "stream",
     "text": [
      "[[1, 2], [1, 2], [1, 2], [1, 2], [1, 2], [1, 2], [1, 2], [1, 2], [1, 2], [1, 2]]\n"
     ]
    }
   ],
   "source": [
    "lst_num = [[1,2] for num in range(1,11)]\n",
    "print(lst_num)"
   ]
  },
  {
   "cell_type": "code",
   "execution_count": 27,
   "id": "990dd634",
   "metadata": {},
   "outputs": [
    {
     "ename": "SyntaxError",
     "evalue": "invalid syntax (1152353612.py, line 1)",
     "output_type": "error",
     "traceback": [
      "  \u001b[36mCell\u001b[39m\u001b[36m \u001b[39m\u001b[32mIn[27]\u001b[39m\u001b[32m, line 1\u001b[39m\n\u001b[31m    \u001b[39m\u001b[31mlst_num = [num for num in range(1,11) for in range(10)]\u001b[39m\n                                              ^\n\u001b[31mSyntaxError\u001b[39m\u001b[31m:\u001b[39m invalid syntax\n"
     ]
    }
   ],
   "source": [
    "lst_num = [num for num in range(1,11) for in range(10)]\n",
    "print(lst_num)"
   ]
  },
  {
   "cell_type": "code",
   "execution_count": 1,
   "id": "5079b5e8",
   "metadata": {},
   "outputs": [
    {
     "name": "stdout",
     "output_type": "stream",
     "text": [
      "[[1, 2, 3, 4, 5], [1, 2, 3, 4, 5], [1, 2, 3, 4, 5], [1, 2, 3, 4, 5]]\n"
     ]
    }
   ],
   "source": [
    "table = [[i for i in range(1, 6)] for j in range(4)]\n",
    "print(table)"
   ]
  },
  {
   "cell_type": "code",
   "execution_count": 4,
   "id": "d332288c",
   "metadata": {},
   "outputs": [
    {
     "name": "stdout",
     "output_type": "stream",
     "text": [
      "run 1\n",
      "1 2 3 4 5 \n",
      "--------------------------\n",
      "run 2\n",
      "1 2 3 4 5 \n",
      "--------------------------\n",
      "run 3\n",
      "1 2 3 4 5 \n",
      "--------------------------\n",
      "run 4\n",
      "1 2 3 4 5 \n",
      "--------------------------\n",
      "run 5\n",
      "1 2 3 4 5 \n",
      "--------------------------\n",
      "run 6\n",
      "1 2 3 4 5 \n",
      "--------------------------\n",
      "run 7\n",
      "1 2 3 4 5 \n",
      "--------------------------\n",
      "run 8\n",
      "1 2 3 4 5 \n",
      "--------------------------\n",
      "run 9\n",
      "1 2 3 4 5 \n",
      "--------------------------\n",
      "run 10\n",
      "1 2 3 4 5 \n",
      "--------------------------\n"
     ]
    }
   ],
   "source": [
    "# # nested loops\n",
    "# for i in range(1,11):\n",
    "#     # <code...>\n",
    "#     for j in range(1,6)\n",
    "\n",
    "for i in range(1,11):\n",
    "    print(f'run {i}')\n",
    "    for j in range(1,6):\n",
    "        print(j, end=' ')\n",
    "    print()\n",
    "    print('--------------------------')"
   ]
  },
  {
   "cell_type": "code",
   "execution_count": 1,
   "id": "c8d70f6c",
   "metadata": {},
   "outputs": [
    {
     "name": "stdout",
     "output_type": "stream",
     "text": [
      "['hle', 'world', 'akumo']\n"
     ]
    }
   ],
   "source": [
    "# difference between mutable and immutable\n",
    "# mutable examples: \n",
    "# list --> append(), pop(), change the order of the list, reerse the list, sort, ....\n",
    "\n",
    "# immutable data types examples:\n",
    "# String\n",
    "# Integer\n",
    "lst = ['hle', 'world', 'test']\n",
    "lst[2] = 'akumo'\n",
    "print(lst)\n"
   ]
  },
  {
   "cell_type": "code",
   "execution_count": 2,
   "id": "5ba8b118",
   "metadata": {},
   "outputs": [
    {
     "ename": "TypeError",
     "evalue": "'str' object does not support item assignment",
     "output_type": "error",
     "traceback": [
      "\u001b[31m---------------------------------------------------------------------------\u001b[39m",
      "\u001b[31mTypeError\u001b[39m                                 Traceback (most recent call last)",
      "\u001b[36mCell\u001b[39m\u001b[36m \u001b[39m\u001b[32mIn[2]\u001b[39m\u001b[32m, line 2\u001b[39m\n\u001b[32m      1\u001b[39m word = \u001b[33m'\u001b[39m\u001b[33mHello\u001b[39m\u001b[33m'\u001b[39m\n\u001b[32m----> \u001b[39m\u001b[32m2\u001b[39m \u001b[43mword\u001b[49m\u001b[43m[\u001b[49m\u001b[43m-\u001b[49m\u001b[32;43m1\u001b[39;49m\u001b[43m]\u001b[49m = \u001b[33m'\u001b[39m\u001b[33mO\u001b[39m\u001b[33m'\u001b[39m\n\u001b[32m      3\u001b[39m \u001b[38;5;28mprint\u001b[39m(word)\n",
      "\u001b[31mTypeError\u001b[39m: 'str' object does not support item assignment"
     ]
    }
   ],
   "source": [
    "word = 'Hello'\n",
    "word[-1] = 'O'\n",
    "print(word)"
   ]
  },
  {
   "cell_type": "code",
   "execution_count": null,
   "id": "c733fff6",
   "metadata": {},
   "outputs": [
    {
     "name": "stdout",
     "output_type": "stream",
     "text": [
      "Hellotest\n"
     ]
    }
   ],
   "source": [
    "print(word + 'test') # in this case you are not changing the word itself, you can create new one, you can add the existing one, but you can not change the original itself. "
   ]
  },
  {
   "cell_type": "code",
   "execution_count": null,
   "id": "6370f079",
   "metadata": {},
   "outputs": [
    {
     "name": "stdout",
     "output_type": "stream",
     "text": [
      "test\n"
     ]
    }
   ],
   "source": [
    "word = 'test'   # we cannot change string, because it immutable\n",
    "word.replace('test', 'akumo')\n",
    "print(word)"
   ]
  },
  {
   "cell_type": "code",
   "execution_count": 6,
   "id": "610f0347",
   "metadata": {},
   "outputs": [
    {
     "name": "stdout",
     "output_type": "stream",
     "text": [
      "akumo\n"
     ]
    }
   ],
   "source": [
    "word = 'test' # here we are able to change the string because we are creating new variable\n",
    "x = word.replace('test', 'akumo')\n",
    "print(x)"
   ]
  },
  {
   "cell_type": "code",
   "execution_count": null,
   "id": "6c69c815",
   "metadata": {},
   "outputs": [
    {
     "name": "stdout",
     "output_type": "stream",
     "text": [
      "(1, 2)\n",
      "(5, 4, 3, 2, 1)\n"
     ]
    }
   ],
   "source": [
    "# tuple read only, exactly as a list, only it comes with paranthesis, \n",
    "# rather then brackets, the one is immutable the other is not immutable.\n",
    "tpl = (1,2,3,4,5)\n",
    "print(tpl[0:2])\n",
    "print(tpl[::-1]) # we are not changing we are just reading from the back.\n"
   ]
  },
  {
   "cell_type": "code",
   "execution_count": 12,
   "id": "b1dcbac1",
   "metadata": {},
   "outputs": [
    {
     "name": "stdout",
     "output_type": "stream",
     "text": [
      "[1, 'hello', True, 50.3, ['hello', 'test', 'world']]\n"
     ]
    }
   ],
   "source": [
    "tpl = (1, 'hello', True, 50.3, ['hello', 'test', 'world']) \n",
    "# we can change the value of list which is inside the tuple, we cannot rearrange the order of the list, \n",
    "lst = list(tpl)\n",
    "print(lst)"
   ]
  },
  {
   "cell_type": "code",
   "execution_count": null,
   "id": "3dd278c7",
   "metadata": {},
   "outputs": [
    {
     "name": "stdout",
     "output_type": "stream",
     "text": [
      "1\n",
      "hello\n",
      "True\n",
      "50.3\n",
      "['hello', 'test', 'world']\n"
     ]
    }
   ],
   "source": [
    "for num in tpl:   # for loop works exactly same for tuples as it works with lists\n",
    "    print(num)"
   ]
  },
  {
   "cell_type": "code",
   "execution_count": 17,
   "id": "88a90054",
   "metadata": {},
   "outputs": [
    {
     "name": "stdout",
     "output_type": "stream",
     "text": [
      "{'key': 'value', 'key2': 'value2', 'key3': 'value3'}\n"
     ]
    },
    {
     "ename": "KeyError",
     "evalue": "'1'",
     "output_type": "error",
     "traceback": [
      "\u001b[31m---------------------------------------------------------------------------\u001b[39m",
      "\u001b[31mKeyError\u001b[39m                                  Traceback (most recent call last)",
      "\u001b[36mCell\u001b[39m\u001b[36m \u001b[39m\u001b[32mIn[17]\u001b[39m\u001b[32m, line 13\u001b[39m\n\u001b[32m      6\u001b[39m \u001b[38;5;28mprint\u001b[39m(dictinaries)\n\u001b[32m      7\u001b[39m x = {\n\u001b[32m      8\u001b[39m     \u001b[32m1\u001b[39m: \u001b[33m'\u001b[39m\u001b[33mvalue1\u001b[39m\u001b[33m'\u001b[39m,\n\u001b[32m      9\u001b[39m     \u001b[32m2\u001b[39m: \u001b[33m'\u001b[39m\u001b[33mvalue2\u001b[39m\u001b[33m'\u001b[39m,\n\u001b[32m     10\u001b[39m     \u001b[32m3\u001b[39m: \u001b[33m'\u001b[39m\u001b[33mvalue3\u001b[39m\u001b[33m'\u001b[39m,\n\u001b[32m     11\u001b[39m     \u001b[32m4\u001b[39m: \u001b[33m'\u001b[39m\u001b[33mvalue4\u001b[39m\u001b[33m'\u001b[39m\n\u001b[32m     12\u001b[39m }\n\u001b[32m---> \u001b[39m\u001b[32m13\u001b[39m \u001b[38;5;28mprint\u001b[39m(\u001b[43mx\u001b[49m\u001b[43m[\u001b[49m\u001b[33;43m'\u001b[39;49m\u001b[33;43m1\u001b[39;49m\u001b[33;43m'\u001b[39;49m\u001b[43m]\u001b[49m)\n",
      "\u001b[31mKeyError\u001b[39m: '1'"
     ]
    }
   ],
   "source": [
    "# dictionaries\n",
    "# dictionaries - are the key value stores\n",
    "# sets = {1,2,3,4,}\n",
    "# keys must be unique, like variables\n",
    "dictinaries = {'key' : 'value', 'key2': 'value2', 'key3': 'value3'}\n",
    "print(dictinaries)\n",
    "x = {\n",
    "    1: 'value1',\n",
    "    2: 'value2',\n",
    "    3: 'value3',\n",
    "    4: 'value4'\n",
    "}\n",
    "print(x['1'])"
   ]
  },
  {
   "cell_type": "code",
   "execution_count": 13,
   "id": "5b4dec0b",
   "metadata": {},
   "outputs": [
    {
     "name": "stdout",
     "output_type": "stream",
     "text": [
      "hello I am first last. I was born in dob\n",
      "I am the student number student1\n",
      "hello I am first2 last2. I was born in dob2\n",
      "I am the student number student2\n",
      "hello I am first3 last3. I was born in dob3\n",
      "I am the student number student3\n"
     ]
    }
   ],
   "source": [
    "# you can have integers, strings, floats, etc.. in a dictionary\n",
    "\n",
    "# task\n",
    "\n",
    "# create a dictionary of students\n",
    "# key is the numbers from 1 ..100\n",
    "# value is another dicrionary that contains the following\n",
    "# first_name, last_name, date_of_birth.\n",
    "\n",
    "info = {'student1': {'fi': 'first', \n",
    "                     'l': 'last',\n",
    "                     'd': 'dob'},\n",
    "        'student2': {'fi': 'first2',\n",
    "                      'l': 'last2',\n",
    "                        'd': 'dob2'},\n",
    "        'student3': {'fi': 'first3',\n",
    "                      'l': 'last3',\n",
    "                      'd': 'dob3'},\n",
    "        }\n",
    "\n",
    "for key, value in info.items():\n",
    "  print(f'hello I am {value['fi']} {value['l']}. I was born in {value['d']}')\n",
    "  print(f'I am the student number {key}')"
   ]
  },
  {
   "cell_type": "code",
   "execution_count": 16,
   "id": "bf82ee47",
   "metadata": {},
   "outputs": [
    {
     "name": "stdout",
     "output_type": "stream",
     "text": [
      "hello I am, first, last. I was born in, dob\n",
      "I am student number, student1\n",
      "hello I am, first2, last2. I was born in, dob2\n",
      "I am student number, student2\n",
      "hello I am, first3, last3. I was born in, dob3\n",
      "I am student number, student3\n"
     ]
    }
   ],
   "source": [
    "for key, value in info.items():\n",
    "        print(f'hello I am, {value['fi']}, {value['l']}. I was born in, {value['d']}')\n",
    "        print(f'I am student number, {key}')\n",
    "    "
   ]
  },
  {
   "cell_type": "code",
   "execution_count": null,
   "id": "dbf01c97",
   "metadata": {},
   "outputs": [],
   "source": []
  }
 ],
 "metadata": {
  "kernelspec": {
   "display_name": "py311env",
   "language": "python",
   "name": "python3"
  },
  "language_info": {
   "codemirror_mode": {
    "name": "ipython",
    "version": 3
   },
   "file_extension": ".py",
   "mimetype": "text/x-python",
   "name": "python",
   "nbconvert_exporter": "python",
   "pygments_lexer": "ipython3",
   "version": "3.12.3"
  }
 },
 "nbformat": 4,
 "nbformat_minor": 5
}
