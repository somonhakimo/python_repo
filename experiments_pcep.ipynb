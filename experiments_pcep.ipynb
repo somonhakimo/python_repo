{
 "cells": [
  {
   "cell_type": "code",
   "execution_count": 64,
   "id": "ab74aa1d",
   "metadata": {},
   "outputs": [
    {
     "name": "stdout",
     "output_type": "stream",
     "text": [
      "hellollldhlehle\n"
     ]
    }
   ],
   "source": [
    "print('hellollldhlehle')"
   ]
  },
  {
   "cell_type": "code",
   "execution_count": 65,
   "id": "abce31e6",
   "metadata": {},
   "outputs": [
    {
     "name": "stdout",
     "output_type": "stream",
     "text": [
      "hello\n"
     ]
    }
   ],
   "source": [
    "print('hello')"
   ]
  },
  {
   "cell_type": "code",
   "execution_count": 1,
   "id": "45def7c4",
   "metadata": {},
   "outputs": [
    {
     "name": "stdout",
     "output_type": "stream",
     "text": [
      "What is your name?\n",
      "somon\n",
      "Hello, somon\n"
     ]
    }
   ],
   "source": [
    "print('What is your name?')\n",
    "user_name = input('put you name here ')\n",
    "print(user_name)\n",
    "print('Hello,', user_name)"
   ]
  },
  {
   "cell_type": "code",
   "execution_count": 67,
   "id": "21e21a8d",
   "metadata": {},
   "outputs": [
    {
     "name": "stdout",
     "output_type": "stream",
     "text": [
      "Your login is  and you speak langauge \n"
     ]
    }
   ],
   "source": [
    "login = input('Enter your login: ')\n",
    "language = input('Enter your native language: ')\n",
    "print('Your login is', login, 'and you speak langauge', language)"
   ]
  },
  {
   "cell_type": "code",
   "execution_count": 68,
   "id": "820368bf",
   "metadata": {},
   "outputs": [
    {
     "data": {
      "text/plain": [
       "6"
      ]
     },
     "execution_count": 68,
     "metadata": {},
     "output_type": "execute_result"
    }
   ],
   "source": [
    "len('hello!')"
   ]
  },
  {
   "cell_type": "code",
   "execution_count": 69,
   "id": "b58f646f",
   "metadata": {},
   "outputs": [
    {
     "name": "stdout",
     "output_type": "stream",
     "text": [
      "hello world.Python speaking\n"
     ]
    }
   ],
   "source": [
    "print('hello world', end='.')\n",
    "print('Python speaking')"
   ]
  },
  {
   "cell_type": "code",
   "execution_count": 70,
   "id": "13c087d4",
   "metadata": {},
   "outputs": [
    {
     "name": "stdout",
     "output_type": "stream",
     "text": [
      "Your first name is-John-Welcome!="
     ]
    }
   ],
   "source": [
    "first_name = 'John'\n",
    "print('Your first name is', first_name, 'Welcome!', sep='-', end='=')"
   ]
  },
  {
   "cell_type": "code",
   "execution_count": 71,
   "id": "301287f1",
   "metadata": {},
   "outputs": [
    {
     "ename": "ValueError",
     "evalue": "invalid literal for int() with base 10: ''",
     "output_type": "error",
     "traceback": [
      "\u001b[31m---------------------------------------------------------------------------\u001b[39m",
      "\u001b[31mValueError\u001b[39m                                Traceback (most recent call last)",
      "\u001b[36mCell\u001b[39m\u001b[36m \u001b[39m\u001b[32mIn[71]\u001b[39m\u001b[32m, line 1\u001b[39m\n\u001b[32m----> \u001b[39m\u001b[32m1\u001b[39m user_age = \u001b[38;5;28;43mint\u001b[39;49m\u001b[43m(\u001b[49m\u001b[38;5;28;43minput\u001b[39;49m\u001b[43m(\u001b[49m\u001b[33;43m'\u001b[39;49m\u001b[33;43mWhat is your age? \u001b[39;49m\u001b[33;43m'\u001b[39;49m\u001b[43m)\u001b[49m\u001b[43m)\u001b[49m\n\u001b[32m      2\u001b[39m \u001b[38;5;28;01mif\u001b[39;00m user_age > \u001b[32m30\u001b[39m:\n\u001b[32m      3\u001b[39m     \u001b[38;5;28mprint\u001b[39m(\u001b[33m'\u001b[39m\u001b[33mYou are over 30 years old\u001b[39m\u001b[33m'\u001b[39m)\n",
      "\u001b[31mValueError\u001b[39m: invalid literal for int() with base 10: ''"
     ]
    }
   ],
   "source": [
    "user_age = int(input('What is your age? '))\n",
    "if user_age > 30:\n",
    "    print('You are over 30 years old')\n",
    "    print('sorry you do not qualify')\n",
    "elif user_age == 30:\n",
    "    print('you are exactly 30 years old')\n",
    "else:\n",
    "    print('you are 30 years old or younger \\ncongratulations you qualify')"
   ]
  },
  {
   "cell_type": "code",
   "execution_count": null,
   "id": "d34aeea9",
   "metadata": {},
   "outputs": [],
   "source": []
  },
  {
   "cell_type": "code",
   "execution_count": null,
   "id": "256773f4",
   "metadata": {},
   "outputs": [
    {
     "name": "stdout",
     "output_type": "stream",
     "text": [
      "not correct\n"
     ]
    }
   ],
   "source": [
    "password = input('Do you know the secret password? ')\n",
    "if password != '--secret':\n",
    "    print('not correct')\n",
    "else:\n",
    "    print('correct password')"
   ]
  },
  {
   "cell_type": "code",
   "execution_count": null,
   "id": "5d4a94c5",
   "metadata": {},
   "outputs": [
    {
     "name": "stdout",
     "output_type": "stream",
     "text": [
      "Hello somon\n"
     ]
    }
   ],
   "source": [
    "while True:\n",
    "    name = input('Enter your name or EXIT to close the program: ')\n",
    "    if name =='EXIT':\n",
    "        break\n",
    "    print('Hello', name)"
   ]
  },
  {
   "cell_type": "code",
   "execution_count": null,
   "id": "648d31f3",
   "metadata": {},
   "outputs": [
    {
     "name": "stdout",
     "output_type": "stream",
     "text": [
      "1\n",
      "2\n",
      "3\n",
      "4\n"
     ]
    }
   ],
   "source": [
    "for i in range(1,21):\n",
    "    if i%5 ==0:\n",
    "        break\n",
    "    print(i)"
   ]
  },
  {
   "cell_type": "code",
   "execution_count": null,
   "id": "88fde739",
   "metadata": {},
   "outputs": [],
   "source": [
    "for i in range(11):\n",
    "    pass"
   ]
  },
  {
   "cell_type": "code",
   "execution_count": null,
   "id": "0c7912d7",
   "metadata": {},
   "outputs": [
    {
     "name": "stdout",
     "output_type": "stream",
     "text": [
      "1 x 1 = 1\n",
      "1 x 2 = 2\n",
      "1 x 3 = 3\n",
      "1 x 4 = 4\n",
      "1 x 5 = 5\n",
      "2 x 1 = 2\n",
      "2 x 2 = 4\n",
      "2 x 3 = 6\n",
      "2 x 4 = 8\n",
      "2 x 5 = 10\n",
      "3 x 1 = 3\n",
      "3 x 2 = 6\n",
      "3 x 3 = 9\n",
      "3 x 4 = 12\n",
      "3 x 5 = 15\n",
      "4 x 1 = 4\n",
      "4 x 2 = 8\n",
      "4 x 3 = 12\n",
      "4 x 4 = 16\n",
      "4 x 5 = 20\n",
      "5 x 1 = 5\n",
      "5 x 2 = 10\n",
      "5 x 3 = 15\n",
      "5 x 4 = 20\n",
      "5 x 5 = 25\n"
     ]
    }
   ],
   "source": [
    "for a in range(1,6):\n",
    "    for b in range(1,6):\n",
    "        print(a, 'x', b, '=', a*b)"
   ]
  },
  {
   "cell_type": "code",
   "execution_count": null,
   "id": "9b87c59a",
   "metadata": {},
   "outputs": [
    {
     "name": "stdout",
     "output_type": "stream",
     "text": [
      "2\n",
      "3\n",
      "4\n",
      "else: 5\n"
     ]
    }
   ],
   "source": [
    "i = 2\n",
    "while i < 5:\n",
    "    print(i)\n",
    "    i += 1\n",
    "else:\n",
    "    print('else:', i)"
   ]
  },
  {
   "cell_type": "code",
   "execution_count": null,
   "id": "617fd64c",
   "metadata": {},
   "outputs": [
    {
     "ename": "IndentationError",
     "evalue": "unexpected indent (872729237.py, line 5)",
     "output_type": "error",
     "traceback": [
      "  \u001b[36mCell\u001b[39m\u001b[36m \u001b[39m\u001b[32mIn[55]\u001b[39m\u001b[32m, line 5\u001b[39m\n\u001b[31m    \u001b[39m\u001b[31mbreak\u001b[39m\n    ^\n\u001b[31mIndentationError\u001b[39m\u001b[31m:\u001b[39m unexpected indent\n"
     ]
    }
   ],
   "source": [
    "guess = int(input('When was Python 1.0 released? '))\n",
    "True == 1994\n",
    "while guess == 1994:\n",
    "    print('Correct!')\n",
    "    break   \n",
    "else guess > 1994:\n",
    "        guess1 = int(input('It was earlier than that! When was Python 1.0 released? '))\n",
    "else guess < 1994:\n",
    "        guess2 = int(input('It was later than that! When was Python 1.0 released? '))"
   ]
  },
  {
   "cell_type": "code",
   "execution_count": null,
   "id": "f5645ec5",
   "metadata": {},
   "outputs": [
    {
     "name": "stdout",
     "output_type": "stream",
     "text": [
      "It was later than that!\n"
     ]
    }
   ],
   "source": [
    "guess = int(input('When was Python 1.0 released? '))\n",
    "while guess == 1994:\n",
    "    print('Correct!')\n",
    "    break   \n",
    "if guess > 1994:\n",
    "    print('It was later than that!')\n",
    "    guess1 = int(input('When was Python 1.0 released? '))\n",
    "if guess < 1994:\n",
    "        print('It was later than that!')\n",
    "        guess2 = int(input('When was Python 1.0 released? '))"
   ]
  },
  {
   "cell_type": "code",
   "execution_count": null,
   "id": "c4612555",
   "metadata": {},
   "outputs": [
    {
     "name": "stdout",
     "output_type": "stream",
     "text": [
      "It was earlier than that!\n",
      "It was earlier than that!\n",
      "It was later than that!\n",
      "It was later than that!\n",
      "It was earlier than that!\n",
      "Correct!\n"
     ]
    }
   ],
   "source": [
    "while True:\n",
    "    answer = int(input('When was Python 1.0 released? '))\n",
    "    if answer > 1994:\n",
    "        print('It was earlier than that!')\n",
    "    elif answer < 1994:\n",
    "        print('It was later than that!')\n",
    "    else:\n",
    "        print('Correct!')\n",
    "        break"
   ]
  },
  {
   "cell_type": "code",
   "execution_count": null,
   "id": "9ea213cf",
   "metadata": {},
   "outputs": [
    {
     "ename": "NameError",
     "evalue": "name 'lists' is not defined",
     "output_type": "error",
     "traceback": [
      "\u001b[31m---------------------------------------------------------------------------\u001b[39m",
      "\u001b[31mNameError\u001b[39m                                 Traceback (most recent call last)",
      "\u001b[36mCell\u001b[39m\u001b[36m \u001b[39m\u001b[32mIn[59]\u001b[39m\u001b[32m, line 1\u001b[39m\n\u001b[32m----> \u001b[39m\u001b[32m1\u001b[39m \u001b[43mlists\u001b[49m\n\u001b[32m      2\u001b[39m tuples\n\u001b[32m      3\u001b[39m dictionaries\n",
      "\u001b[31mNameError\u001b[39m: name 'lists' is not defined"
     ]
    }
   ],
   "source": [
    "lists\n",
    "tuples\n",
    "dictionaries\n",
    "q=e"
   ]
  },
  {
   "cell_type": "code",
   "execution_count": null,
   "id": "03dd32b9",
   "metadata": {},
   "outputs": [],
   "source": [
    "city_1 = 'New Yourk City'\n",
    "city_2 = 'Los Angeles'"
   ]
  },
  {
   "cell_type": "code",
   "execution_count": null,
   "id": "82bf5ee2",
   "metadata": {},
   "outputs": [],
   "source": [
    "empty_list = []"
   ]
  },
  {
   "cell_type": "code",
   "execution_count": 75,
   "id": "65e924a3",
   "metadata": {},
   "outputs": [
    {
     "name": "stdout",
     "output_type": "stream",
     "text": [
      "['newyourk', 'losangeles', 'chicago', 'houston', 'phonix']\n"
     ]
    }
   ],
   "source": [
    "top_cities = ['newyourk', 'losangeles', 'chicago', 'houston', 'phonix']\n",
    "print(top_cities)"
   ]
  },
  {
   "cell_type": "code",
   "execution_count": 74,
   "id": "b2fe1911",
   "metadata": {},
   "outputs": [
    {
     "data": {
      "text/plain": [
       "'newyourk'"
      ]
     },
     "execution_count": 74,
     "metadata": {},
     "output_type": "execute_result"
    }
   ],
   "source": [
    "\n",
    "\n",
    "top_cities = ['newyourk', 'losangeles', 'chicago', 'houston', 'phonix']\n",
    "top_cities[0]"
   ]
  },
  {
   "cell_type": "code",
   "execution_count": 76,
   "id": "2e3d668c",
   "metadata": {},
   "outputs": [
    {
     "data": {
      "text/plain": [
       "'losangeles'"
      ]
     },
     "execution_count": 76,
     "metadata": {},
     "output_type": "execute_result"
    }
   ],
   "source": [
    "top_cities[1]"
   ]
  },
  {
   "cell_type": "code",
   "execution_count": 77,
   "id": "15cc6be5",
   "metadata": {},
   "outputs": [
    {
     "data": {
      "text/plain": [
       "'phonix'"
      ]
     },
     "execution_count": 77,
     "metadata": {},
     "output_type": "execute_result"
    }
   ],
   "source": [
    "top_cities[4]"
   ]
  },
  {
   "cell_type": "code",
   "execution_count": 78,
   "id": "331ddab6",
   "metadata": {},
   "outputs": [
    {
     "data": {
      "text/plain": [
       "'phonix'"
      ]
     },
     "execution_count": 78,
     "metadata": {},
     "output_type": "execute_result"
    }
   ],
   "source": [
    "top_cities[-1]"
   ]
  },
  {
   "cell_type": "code",
   "execution_count": 79,
   "id": "f0420b62",
   "metadata": {},
   "outputs": [
    {
     "data": {
      "text/plain": [
       "'houston'"
      ]
     },
     "execution_count": 79,
     "metadata": {},
     "output_type": "execute_result"
    }
   ],
   "source": [
    "top_cities[-2]"
   ]
  },
  {
   "cell_type": "code",
   "execution_count": 80,
   "id": "acefcd1f",
   "metadata": {},
   "outputs": [
    {
     "data": {
      "text/plain": [
       "'newyourk'"
      ]
     },
     "execution_count": 80,
     "metadata": {},
     "output_type": "execute_result"
    }
   ],
   "source": [
    "top_cities[-5]"
   ]
  },
  {
   "cell_type": "code",
   "execution_count": 81,
   "id": "307c99f9",
   "metadata": {},
   "outputs": [
    {
     "ename": "IndexError",
     "evalue": "list index out of range",
     "output_type": "error",
     "traceback": [
      "\u001b[31m---------------------------------------------------------------------------\u001b[39m",
      "\u001b[31mIndexError\u001b[39m                                Traceback (most recent call last)",
      "\u001b[36mCell\u001b[39m\u001b[36m \u001b[39m\u001b[32mIn[81]\u001b[39m\u001b[32m, line 1\u001b[39m\n\u001b[32m----> \u001b[39m\u001b[32m1\u001b[39m \u001b[43mtop_cities\u001b[49m\u001b[43m[\u001b[49m\u001b[43m-\u001b[49m\u001b[32;43m6\u001b[39;49m\u001b[43m]\u001b[49m\n",
      "\u001b[31mIndexError\u001b[39m: list index out of range"
     ]
    }
   ],
   "source": [
    "top_cities[-6]"
   ]
  },
  {
   "cell_type": "code",
   "execution_count": 82,
   "id": "c926ada0",
   "metadata": {},
   "outputs": [
    {
     "data": {
      "text/plain": [
       "['newyourk', 'losangeles']"
      ]
     },
     "execution_count": 82,
     "metadata": {},
     "output_type": "execute_result"
    }
   ],
   "source": [
    "top_cities[0:2]"
   ]
  },
  {
   "cell_type": "code",
   "execution_count": 83,
   "id": "48afcb5a",
   "metadata": {},
   "outputs": [
    {
     "data": {
      "text/plain": [
       "['chicago', 'houston', 'phonix']"
      ]
     },
     "execution_count": 83,
     "metadata": {},
     "output_type": "execute_result"
    }
   ],
   "source": [
    "top_cities[2:]"
   ]
  },
  {
   "cell_type": "code",
   "execution_count": 84,
   "id": "5ee3ad65",
   "metadata": {},
   "outputs": [
    {
     "data": {
      "text/plain": [
       "['newyourk', 'losangeles', 'chicago']"
      ]
     },
     "execution_count": 84,
     "metadata": {},
     "output_type": "execute_result"
    }
   ],
   "source": [
    "top_cities[:3]"
   ]
  },
  {
   "cell_type": "code",
   "execution_count": 85,
   "id": "5244a0b7",
   "metadata": {},
   "outputs": [
    {
     "data": {
      "text/plain": [
       "['newyourk', 'losangeles', 'chicago', 'houston', 'phonix']"
      ]
     },
     "execution_count": 85,
     "metadata": {},
     "output_type": "execute_result"
    }
   ],
   "source": [
    "top_cities[:]"
   ]
  },
  {
   "cell_type": "code",
   "execution_count": 86,
   "id": "990c7675",
   "metadata": {},
   "outputs": [
    {
     "data": {
      "text/plain": [
       "['newyourk', 'losangeles', 'chicago', 'houston', 'phonix']"
      ]
     },
     "execution_count": 86,
     "metadata": {},
     "output_type": "execute_result"
    }
   ],
   "source": [
    "top_cities"
   ]
  },
  {
   "cell_type": "code",
   "execution_count": 87,
   "id": "1786b284",
   "metadata": {},
   "outputs": [
    {
     "data": {
      "text/plain": [
       "[]"
      ]
     },
     "execution_count": 87,
     "metadata": {},
     "output_type": "execute_result"
    }
   ],
   "source": [
    "top_cities[10:15]"
   ]
  },
  {
   "cell_type": "code",
   "execution_count": 90,
   "id": "1cf18886",
   "metadata": {},
   "outputs": [],
   "source": [
    "top_cities = ['newyourk', 'losangeles', 'chicago', 'houston', 'phonix' 'singapoor']"
   ]
  },
  {
   "cell_type": "code",
   "execution_count": 91,
   "id": "718c18b4",
   "metadata": {},
   "outputs": [],
   "source": [
    "del top_cities[-1]"
   ]
  },
  {
   "cell_type": "code",
   "execution_count": 92,
   "id": "ed18419b",
   "metadata": {},
   "outputs": [
    {
     "data": {
      "text/plain": [
       "['newyourk', 'losangeles', 'chicago', 'houston']"
      ]
     },
     "execution_count": 92,
     "metadata": {},
     "output_type": "execute_result"
    }
   ],
   "source": [
    "top_cities"
   ]
  },
  {
   "cell_type": "code",
   "execution_count": 93,
   "id": "0705f2c9",
   "metadata": {},
   "outputs": [],
   "source": [
    "del top_cities[3:]"
   ]
  },
  {
   "cell_type": "code",
   "execution_count": 94,
   "id": "eec0414c",
   "metadata": {},
   "outputs": [
    {
     "name": "stdout",
     "output_type": "stream",
     "text": [
      "['newyourk', 'losangeles', 'chicago']\n"
     ]
    }
   ],
   "source": [
    "print(top_cities)"
   ]
  },
  {
   "cell_type": "code",
   "execution_count": 95,
   "id": "b77f87ae",
   "metadata": {},
   "outputs": [],
   "source": [
    "del top_cities[:]"
   ]
  },
  {
   "cell_type": "code",
   "execution_count": 96,
   "id": "3d8a5bfd",
   "metadata": {},
   "outputs": [
    {
     "data": {
      "text/plain": [
       "[]"
      ]
     },
     "execution_count": 96,
     "metadata": {},
     "output_type": "execute_result"
    }
   ],
   "source": [
    "top_cities"
   ]
  },
  {
   "cell_type": "code",
   "execution_count": 97,
   "id": "876d220a",
   "metadata": {},
   "outputs": [],
   "source": [
    "del top_cities"
   ]
  },
  {
   "cell_type": "code",
   "execution_count": 98,
   "id": "13f2bdee",
   "metadata": {},
   "outputs": [
    {
     "ename": "NameError",
     "evalue": "name 'top_cities' is not defined",
     "output_type": "error",
     "traceback": [
      "\u001b[31m---------------------------------------------------------------------------\u001b[39m",
      "\u001b[31mNameError\u001b[39m                                 Traceback (most recent call last)",
      "\u001b[36mCell\u001b[39m\u001b[36m \u001b[39m\u001b[32mIn[98]\u001b[39m\u001b[32m, line 1\u001b[39m\n\u001b[32m----> \u001b[39m\u001b[32m1\u001b[39m \u001b[43mtop_cities\u001b[49m\n",
      "\u001b[31mNameError\u001b[39m: name 'top_cities' is not defined"
     ]
    }
   ],
   "source": [
    "top_cities"
   ]
  },
  {
   "cell_type": "code",
   "execution_count": 99,
   "id": "ba9fc8a6",
   "metadata": {},
   "outputs": [
    {
     "name": "stdout",
     "output_type": "stream",
     "text": [
      "hello\n"
     ]
    }
   ],
   "source": [
    "print('hello')"
   ]
  },
  {
   "cell_type": "code",
   "execution_count": 100,
   "id": "3ccc219d",
   "metadata": {},
   "outputs": [
    {
     "ename": "NameError",
     "evalue": "name 'inout' is not defined",
     "output_type": "error",
     "traceback": [
      "\u001b[31m---------------------------------------------------------------------------\u001b[39m",
      "\u001b[31mNameError\u001b[39m                                 Traceback (most recent call last)",
      "\u001b[36mCell\u001b[39m\u001b[36m \u001b[39m\u001b[32mIn[100]\u001b[39m\u001b[32m, line 1\u001b[39m\n\u001b[32m----> \u001b[39m\u001b[32m1\u001b[39m name = \u001b[43minout\u001b[49m(\u001b[33m'\u001b[39m\u001b[33mname?\u001b[39m\u001b[33m'\u001b[39m)\n",
      "\u001b[31mNameError\u001b[39m: name 'inout' is not defined"
     ]
    }
   ],
   "source": [
    "name = inout('name?')"
   ]
  },
  {
   "cell_type": "code",
   "execution_count": 20,
   "id": "9eb81aee",
   "metadata": {},
   "outputs": [
    {
     "name": "stdout",
     "output_type": "stream",
     "text": [
      "7\n"
     ]
    }
   ],
   "source": [
    "book_ratings = [7, 9, 5, 6, 8]\n",
    "book_ratings.append(4)\n",
    "print(book_ratings[0])\n"
   ]
  },
  {
   "cell_type": "code",
   "execution_count": 19,
   "id": "506e3b28",
   "metadata": {},
   "outputs": [
    {
     "name": "stdout",
     "output_type": "stream",
     "text": [
      "[10, 7, 10, 9, 5, 6, 8, 10, 4]\n"
     ]
    }
   ],
   "source": [
    "book_ratings.insert(0,10)\n",
    "print(book_ratings)"
   ]
  },
  {
   "cell_type": "code",
   "execution_count": 3,
   "id": "f53b890d",
   "metadata": {},
   "outputs": [],
   "source": [
    "top_cities = ['newyourk', 'losangeles', 'chicago', 'houston', 'phonix' 'singapoor']"
   ]
  },
  {
   "cell_type": "code",
   "execution_count": 4,
   "id": "661649fc",
   "metadata": {},
   "outputs": [
    {
     "name": "stdout",
     "output_type": "stream",
     "text": [
      "Current city: newyourk\n",
      "Current city: losangeles\n",
      "Current city: chicago\n",
      "Current city: houston\n",
      "Current city: phonixsingapoor\n"
     ]
    }
   ],
   "source": [
    "top_cities\n",
    "for city in top_cities:\n",
    "    print('Current city:', city)"
   ]
  },
  {
   "cell_type": "code",
   "execution_count": 8,
   "id": "72552b2f",
   "metadata": {},
   "outputs": [
    {
     "name": "stdout",
     "output_type": "stream",
     "text": [
      "Current index: 0 | Current city: newyourk\n",
      "Current index: 1 | Current city: losangeles\n",
      "Current index: 2 | Current city: chicago\n",
      "Current index: 3 | Current city: houston\n",
      "Current index: 4 | Current city: phonixsingapoor\n"
     ]
    }
   ],
   "source": [
    "top_cities\n",
    "for i in range(len(top_cities)):\n",
    "    print('Current index:', i, '| Current city:', top_cities[i], )"
   ]
  },
  {
   "cell_type": "code",
   "execution_count": 9,
   "id": "9a0f4de1",
   "metadata": {},
   "outputs": [
    {
     "name": "stdout",
     "output_type": "stream",
     "text": [
      "Money spent: 158.1\n"
     ]
    }
   ],
   "source": [
    "spendings = [32.45, 18.65, 23.45, 78.32, 5.23]\n",
    "sum = 0.0\n",
    "for spending in spendings:\n",
    "    sum += spending\n",
    "print('Money spent:', sum)"
   ]
  },
  {
   "cell_type": "code",
   "execution_count": 20,
   "id": "7fc44f8a",
   "metadata": {},
   "outputs": [
    {
     "name": "stdout",
     "output_type": "stream",
     "text": [
      "Number of months with low spendings: 1 , normal spendings: 5 high spendings: 6 ,\n"
     ]
    }
   ],
   "source": [
    "x=0 \n",
    "y=0 \n",
    "z=0 \n",
    "spendings = [1346.0, 987.50, 1734.40, 2567.0, 3271.45, 2500.0, 2130.0, 2510.30, 2987.34, 3120.50, 4069.78, 1000.0]\n",
    "for i in spendings:\n",
    "    if i < 1000:\n",
    "        x += 1\n",
    "        \n",
    "    elif 1000<=i<=2500:\n",
    "        y += 1 \n",
    "    elif i > 2500:\n",
    "        z += 1\n",
    "print('Number of months with low spendings:', x,', normal spendings:', y, 'high spendings:', z, ',')"
   ]
  },
  {
   "cell_type": "code",
   "execution_count": 22,
   "id": "393ca8f9",
   "metadata": {},
   "outputs": [
    {
     "name": "stdout",
     "output_type": "stream",
     "text": [
      "before swapping: 10 20\n",
      "after swapping: 20 10\n"
     ]
    }
   ],
   "source": [
    "first = input('enter first number: ')\n",
    "second = input('enter second number: ')\n",
    "print('before swapping:', first, second)\n",
    "temporary = first \n",
    "first = second\n",
    "second = temporary \n",
    "print('after swapping:', first, second)\n"
   ]
  },
  {
   "cell_type": "code",
   "execution_count": 23,
   "id": "36ce8c1b",
   "metadata": {},
   "outputs": [
    {
     "name": "stdout",
     "output_type": "stream",
     "text": [
      "before swapping: 10 20\n",
      "after swapping: 20 10\n"
     ]
    }
   ],
   "source": [
    "first = input('enter first number: ')\n",
    "second = input('enter second number: ')\n",
    "print('before swapping:', first, second)\n",
    "first, second = second, first\n",
    "print('after swapping:', first, second)\n"
   ]
  },
  {
   "cell_type": "code",
   "execution_count": 25,
   "id": "f8bd24f4",
   "metadata": {},
   "outputs": [
    {
     "name": "stdout",
     "output_type": "stream",
     "text": [
      "['phonixsingapoor', 'losangeles', 'chicago', 'houston', 'newyourk']\n"
     ]
    }
   ],
   "source": [
    "top_cities = ['newyourk', 'losangeles', 'chicago', 'houston', 'phonix' 'singapoor']\n",
    "top_cities[0], top_cities[4] = top_cities[4], top_cities[0]\n",
    "print(top_cities)"
   ]
  },
  {
   "cell_type": "code",
   "execution_count": 26,
   "id": "da6ca4ad",
   "metadata": {},
   "outputs": [
    {
     "name": "stdout",
     "output_type": "stream",
     "text": [
      "['chicago', 'houston', 'losangeles', 'newyourk', 'phonixsingapoor']\n"
     ]
    }
   ],
   "source": [
    "top_cities = ['newyourk', 'losangeles', 'chicago', 'houston', 'phonix' 'singapoor']\n",
    "top_cities.sort()\n",
    "print(top_cities)"
   ]
  },
  {
   "cell_type": "code",
   "execution_count": 27,
   "id": "0f0f95d0",
   "metadata": {},
   "outputs": [
    {
     "name": "stdout",
     "output_type": "stream",
     "text": [
      "[-3, 0, 2, 4, 5]\n"
     ]
    }
   ],
   "source": [
    "random_numbers = [2, 5, 0, -3, 4]\n",
    "random_numbers.sort()\n",
    "print(random_numbers)"
   ]
  },
  {
   "cell_type": "code",
   "execution_count": 28,
   "id": "84e9bfed",
   "metadata": {},
   "outputs": [
    {
     "name": "stdout",
     "output_type": "stream",
     "text": [
      "[5, 4, 2, 0, -3]\n"
     ]
    }
   ],
   "source": [
    "random_numbers = [2, 5, 0, -3, 4]\n",
    "random_numbers.sort(reverse=True)\n",
    "print(random_numbers)"
   ]
  },
  {
   "cell_type": "code",
   "execution_count": 29,
   "id": "fd7d6e96",
   "metadata": {},
   "outputs": [
    {
     "name": "stdout",
     "output_type": "stream",
     "text": [
      "h\n",
      "a\n",
      "p\n",
      "p\n",
      "y\n",
      " \n",
      "m\n",
      "e\n",
      "s\n",
      "s\n",
      "a\n",
      "g\n",
      "e\n"
     ]
    }
   ],
   "source": [
    "for char in 'happy message':\n",
    "    print(char)"
   ]
  },
  {
   "cell_type": "code",
   "execution_count": 32,
   "id": "f3c3310c",
   "metadata": {},
   "outputs": [
    {
     "name": "stdout",
     "output_type": "stream",
     "text": [
      "you are not invited!\n"
     ]
    }
   ],
   "source": [
    "invited_guests = ['somon', 'akmal', 'yunus', 'ahmad', 'kris', 'abdul']\n",
    "name = input('what is you name? ')\n",
    "if name in invited_guests:\n",
    "    print('welcome!')\n",
    "else:\n",
    "    print('you are not invited!')"
   ]
  },
  {
   "cell_type": "code",
   "execution_count": 33,
   "id": "2eb337f8",
   "metadata": {},
   "outputs": [
    {
     "name": "stdout",
     "output_type": "stream",
     "text": [
      "somon hakimov Jon snow\n"
     ]
    }
   ],
   "source": [
    "name_original = 'Jon snow'\n",
    "name_new = name_original\n",
    "name_original = 'somon hakimov'\n",
    "print(name_original, name_new)"
   ]
  },
  {
   "cell_type": "code",
   "execution_count": 34,
   "id": "e6c57ed7",
   "metadata": {},
   "outputs": [
    {
     "name": "stdout",
     "output_type": "stream",
     "text": [
      "original: [-5, 2, 3] \n",
      "New: [-5, 2, 3]\n"
     ]
    }
   ],
   "source": [
    "list_original = [1, 2, 3]\n",
    "list_new = list_original\n",
    "list_original[0] = -5\n",
    "print('original:', list_original, '\\nNew:', list_new)"
   ]
  },
  {
   "cell_type": "code",
   "execution_count": 36,
   "id": "6f7095f4",
   "metadata": {},
   "outputs": [
    {
     "name": "stdout",
     "output_type": "stream",
     "text": [
      "original: [-5, 2, 3] \n",
      "New: [1, 2]\n"
     ]
    }
   ],
   "source": [
    "list_original = [1, 2, 3]\n",
    "list_new = list_original[:2]\n",
    "list_original[0] = -5\n",
    "print('original:', list_original, '\\nNew:', list_new)"
   ]
  },
  {
   "cell_type": "code",
   "execution_count": 37,
   "id": "4950b4de",
   "metadata": {},
   "outputs": [
    {
     "name": "stdout",
     "output_type": "stream",
     "text": [
      "[1, 2, 3, 4]\n"
     ]
    }
   ],
   "source": [
    "numbers = [1,2,3,4]\n",
    "print(numbers)"
   ]
  },
  {
   "cell_type": "code",
   "execution_count": 40,
   "id": "aac4b2a1",
   "metadata": {},
   "outputs": [
    {
     "name": "stdout",
     "output_type": "stream",
     "text": [
      "[1, 2, 3, 4, 5, 6, 7, 8, 9, 10, 11, 12, 13, 14, 15, 16, 17, 18, 19, 20, 21, 22, 23, 24, 25, 26, 27, 28, 29, 30, 31, 32, 33, 34, 35, 36, 37, 38, 39, 40, 41, 42, 43, 44, 45, 46, 47, 48, 49, 50, 51, 52, 53, 54, 55, 56, 57, 58, 59, 60, 61, 62, 63, 64, 65, 66, 67, 68, 69, 70, 71, 72, 73, 74, 75, 76, 77, 78, 79, 80, 81, 82, 83, 84, 85, 86, 87, 88, 89, 90, 91, 92, 93, 94, 95, 96, 97, 98, 99, 100]\n"
     ]
    }
   ],
   "source": [
    "numbers = []\n",
    "for i in range(1, 101):\n",
    "    numbers.append(i)\n",
    "print(numbers)"
   ]
  },
  {
   "cell_type": "code",
   "execution_count": 42,
   "id": "8afa5986",
   "metadata": {},
   "outputs": [
    {
     "name": "stdout",
     "output_type": "stream",
     "text": [
      "[1, 2, 3, 4, 5, 6, 7, 8, 9, 10, 11, 12, 13, 14, 15, 16, 17, 18, 19, 20, 21, 22, 23, 24, 25, 26, 27, 28, 29, 30, 31, 32, 33, 34, 35, 36, 37, 38, 39, 40, 41, 42, 43, 44, 45, 46, 47, 48, 49, 50, 51, 52, 53, 54, 55, 56, 57, 58, 59, 60, 61, 62, 63, 64, 65, 66, 67, 68, 69, 70, 71, 72, 73, 74, 75, 76, 77, 78, 79, 80, 81, 82, 83, 84, 85, 86, 87, 88, 89, 90, 91, 92, 93, 94, 95, 96, 97, 98, 99, 100]\n"
     ]
    }
   ],
   "source": [
    "numbers = [i for i in range(1, 101)]\n",
    "print(numbers)"
   ]
  },
  {
   "cell_type": "code",
   "execution_count": 43,
   "id": "53470a61",
   "metadata": {},
   "outputs": [
    {
     "name": "stdout",
     "output_type": "stream",
     "text": [
      "[1, 2, 4, 5, 7, 8, 10, 11, 13, 14, 16, 17, 19, 20, 22, 23, 25, 26, 28, 29, 31, 32, 34, 35, 37, 38, 40, 41, 43, 44, 46, 47, 49, 50, 52, 53, 55, 56, 58, 59, 61, 62, 64, 65, 67, 68, 70, 71, 73, 74, 76, 77, 79, 80, 82, 83, 85, 86, 88, 89, 91, 92, 94, 95, 97, 98, 100]\n"
     ]
    }
   ],
   "source": [
    "numbers = [i for i in range(1, 101) if i % 3 != 0]\n",
    "print(numbers)"
   ]
  },
  {
   "cell_type": "code",
   "execution_count": 45,
   "id": "d9fda1c7",
   "metadata": {},
   "outputs": [],
   "source": [
    "numbers = [1,2,22, 3]\n",
    "countries = ['uk', 'usa', 'tjk']\n",
    "countries = [1, 'usa', 2, 'tjk']\n",
    "cells = [['A1', 'A2', 'A3'], ['B1', 'B2', 'B3']]"
   ]
  },
  {
   "cell_type": "code",
   "execution_count": 46,
   "id": "ac937d9d",
   "metadata": {},
   "outputs": [
    {
     "data": {
      "text/plain": [
       "['A1', 'A2', 'A3']"
      ]
     },
     "execution_count": 46,
     "metadata": {},
     "output_type": "execute_result"
    }
   ],
   "source": [
    "cells[0]"
   ]
  },
  {
   "cell_type": "code",
   "execution_count": 47,
   "id": "3702e6dd",
   "metadata": {},
   "outputs": [
    {
     "data": {
      "text/plain": [
       "'A1'"
      ]
     },
     "execution_count": 47,
     "metadata": {},
     "output_type": "execute_result"
    }
   ],
   "source": [
    "cells[0][0]"
   ]
  },
  {
   "cell_type": "code",
   "execution_count": 48,
   "id": "f80948ce",
   "metadata": {},
   "outputs": [
    {
     "data": {
      "text/plain": [
       "'A2'"
      ]
     },
     "execution_count": 48,
     "metadata": {},
     "output_type": "execute_result"
    }
   ],
   "source": [
    "cells[0][1]"
   ]
  },
  {
   "cell_type": "code",
   "execution_count": 49,
   "id": "4457ab35",
   "metadata": {},
   "outputs": [
    {
     "data": {
      "text/plain": [
       "'B3'"
      ]
     },
     "execution_count": 49,
     "metadata": {},
     "output_type": "execute_result"
    }
   ],
   "source": [
    "cells[1][2]"
   ]
  },
  {
   "cell_type": "code",
   "execution_count": 50,
   "id": "7facbea2",
   "metadata": {},
   "outputs": [
    {
     "name": "stdout",
     "output_type": "stream",
     "text": [
      "element: ['A1', 'A2', 'A3']\n",
      "element: ['B1', 'B2', 'B3']\n"
     ]
    }
   ],
   "source": [
    "cells = [['A1', 'A2', 'A3'], ['B1', 'B2', 'B3']]\n",
    "for x in cells:\n",
    "    print('element:', x)"
   ]
  },
  {
   "cell_type": "code",
   "execution_count": 51,
   "id": "9fd31cf8",
   "metadata": {},
   "outputs": [
    {
     "name": "stdout",
     "output_type": "stream",
     "text": [
      "element: A1\n",
      "element: A2\n",
      "element: A3\n",
      "element: B1\n",
      "element: B2\n",
      "element: B3\n"
     ]
    }
   ],
   "source": [
    "cells = [['A1', 'A2', 'A3'], ['B1', 'B2', 'B3']]\n",
    "for x in cells:\n",
    "    for y in x:\n",
    "        print('element:', y)"
   ]
  },
  {
   "cell_type": "code",
   "execution_count": 53,
   "id": "684d7481",
   "metadata": {},
   "outputs": [
    {
     "name": "stdout",
     "output_type": "stream",
     "text": [
      "A1 A2 A3 B1 B2 B3 "
     ]
    }
   ],
   "source": [
    "table = [['A1', 'A2', 'A3'], ['B1', 'B2', 'B3']]\n",
    "for row in table:\n",
    "    for cell in row:\n",
    "        print(cell, '', end='')"
   ]
  },
  {
   "cell_type": "code",
   "execution_count": 54,
   "id": "b8e000f7",
   "metadata": {},
   "outputs": [
    {
     "name": "stdout",
     "output_type": "stream",
     "text": [
      "[1, 2, 3, 4, 5]\n"
     ]
    }
   ],
   "source": [
    "table = [i for i in range(1, 6)]\n",
    "print(table)"
   ]
  },
  {
   "cell_type": "code",
   "execution_count": 55,
   "id": "ac966e31",
   "metadata": {},
   "outputs": [
    {
     "name": "stdout",
     "output_type": "stream",
     "text": [
      "[[1, 2, 3, 4, 5], [1, 2, 3, 4, 5], [1, 2, 3, 4, 5], [1, 2, 3, 4, 5]]\n"
     ]
    }
   ],
   "source": [
    "table = [[i for i in range(1, 6)] for j in range(4)]\n",
    "print(table)"
   ]
  },
  {
   "cell_type": "code",
   "execution_count": 56,
   "id": "284aa694",
   "metadata": {},
   "outputs": [
    {
     "name": "stdout",
     "output_type": "stream",
     "text": [
      "['new york city', 'chicago', 'london', 'bristol']\n"
     ]
    }
   ],
   "source": [
    "list_us = ['new york city', 'chicago']\n",
    "list_uk = ['london', 'bristol']\n",
    "list_all = list_us + list_uk\n",
    "print(list_all)"
   ]
  },
  {
   "cell_type": "code",
   "execution_count": 57,
   "id": "bc0e3967",
   "metadata": {},
   "outputs": [
    {
     "name": "stdout",
     "output_type": "stream",
     "text": [
      "[0, 1, 0, 1, 0, 1, 0, 1, 0, 1, 0, 1, 0, 1, 0, 1, 0, 1, 0, 1]\n"
     ]
    }
   ],
   "source": [
    "list_numbers = [0, 1] * 10\n",
    "print(list_numbers)"
   ]
  },
  {
   "cell_type": "code",
   "execution_count": 59,
   "id": "1586e348",
   "metadata": {},
   "outputs": [
    {
     "name": "stdout",
     "output_type": "stream",
     "text": [
      "d\n"
     ]
    }
   ],
   "source": [
    "fav_band = 'green day'\n",
    "print(fav_band[6])"
   ]
  },
  {
   "cell_type": "code",
   "execution_count": 60,
   "id": "3546fdad",
   "metadata": {},
   "outputs": [
    {
     "name": "stdout",
     "output_type": "stream",
     "text": [
      "green \n"
     ]
    }
   ],
   "source": [
    "print(fav_band[:6])"
   ]
  },
  {
   "cell_type": "code",
   "execution_count": 61,
   "id": "1c408e4b",
   "metadata": {},
   "outputs": [
    {
     "ename": "TypeError",
     "evalue": "'str' object does not support item assignment",
     "output_type": "error",
     "traceback": [
      "\u001b[31m---------------------------------------------------------------------------\u001b[39m",
      "\u001b[31mTypeError\u001b[39m                                 Traceback (most recent call last)",
      "\u001b[36mCell\u001b[39m\u001b[36m \u001b[39m\u001b[32mIn[61]\u001b[39m\u001b[32m, line 1\u001b[39m\n\u001b[32m----> \u001b[39m\u001b[32m1\u001b[39m \u001b[43mfav_band\u001b[49m\u001b[43m[\u001b[49m\u001b[32;43m6\u001b[39;49m\u001b[43m]\u001b[49m = \u001b[33m'\u001b[39m\u001b[33mM\u001b[39m\u001b[33m'\u001b[39m\n",
      "\u001b[31mTypeError\u001b[39m: 'str' object does not support item assignment"
     ]
    }
   ],
   "source": [
    "fav_band[6] = 'M'"
   ]
  },
  {
   "cell_type": "code",
   "execution_count": 62,
   "id": "1bc98316",
   "metadata": {},
   "outputs": [
    {
     "name": "stdout",
     "output_type": "stream",
     "text": [
      "PLEASE CAPITALISE ME\n"
     ]
    }
   ],
   "source": [
    "text = 'please capitalise me'\n",
    "text_cap = text.upper()\n",
    "print(text_cap)"
   ]
  },
  {
   "cell_type": "code",
   "execution_count": 64,
   "id": "a15f332a",
   "metadata": {},
   "outputs": [
    {
     "name": "stdout",
     "output_type": "stream",
     "text": [
      "sorry, y is not a number!\n"
     ]
    }
   ],
   "source": [
    "user_number = input('Please provide a number: ')\n",
    "if user_number.isnumeric():\n",
    "    print(\"thank you, that\\'s a correct number!\")\n",
    "else:\n",
    "    print('sorry,', user_number, 'is not a number!')"
   ]
  },
  {
   "cell_type": "code",
   "execution_count": 65,
   "id": "34559c4d",
   "metadata": {},
   "outputs": [],
   "source": [
    "empty_tuple = ()\n",
    "one_el_tuple_a = (1,)\n",
    "one_el_tuple_b = 1,\n"
   ]
  },
  {
   "cell_type": "code",
   "execution_count": 66,
   "id": "60609978",
   "metadata": {},
   "outputs": [
    {
     "name": "stdout",
     "output_type": "stream",
     "text": [
      "(1, 2, 3)\n"
     ]
    }
   ],
   "source": [
    "three_el_tuple = 1, 2, 3,\n",
    "print(three_el_tuple)"
   ]
  },
  {
   "cell_type": "code",
   "execution_count": 67,
   "id": "a7300c84",
   "metadata": {},
   "outputs": [
    {
     "name": "stdout",
     "output_type": "stream",
     "text": [
      "('John', 'American', 1964)\n"
     ]
    }
   ],
   "source": [
    "user_data = ('John', 'American', 1964)\n",
    "user_date = ('katya', 'russian', 1980)\n",
    "print(user_data)"
   ]
  },
  {
   "cell_type": "code",
   "execution_count": 68,
   "id": "3b240ce4",
   "metadata": {},
   "outputs": [
    {
     "name": "stdout",
     "output_type": "stream",
     "text": [
      "John\n"
     ]
    }
   ],
   "source": [
    "print(user_data[0])"
   ]
  },
  {
   "cell_type": "code",
   "execution_count": 69,
   "id": "85d97e3a",
   "metadata": {},
   "outputs": [
    {
     "ename": "TypeError",
     "evalue": "'str' object does not support item assignment",
     "output_type": "error",
     "traceback": [
      "\u001b[31m---------------------------------------------------------------------------\u001b[39m",
      "\u001b[31mTypeError\u001b[39m                                 Traceback (most recent call last)",
      "\u001b[36mCell\u001b[39m\u001b[36m \u001b[39m\u001b[32mIn[69]\u001b[39m\u001b[32m, line 3\u001b[39m\n\u001b[32m      1\u001b[39m message = \u001b[33m'\u001b[39m\u001b[33mwelcome\u001b[39m\u001b[33m'\u001b[39m\n\u001b[32m      2\u001b[39m message = \u001b[33m\"\u001b[39m\u001b[33mWelcome\u001b[39m\u001b[33m\"\u001b[39m\n\u001b[32m----> \u001b[39m\u001b[32m3\u001b[39m \u001b[43mmessage\u001b[49m\u001b[43m[\u001b[49m\u001b[32;43m0\u001b[39;49m\u001b[43m]\u001b[49m = \u001b[33m'\u001b[39m\u001b[33mx\u001b[39m\u001b[33m'\u001b[39m\n",
      "\u001b[31mTypeError\u001b[39m: 'str' object does not support item assignment"
     ]
    }
   ],
   "source": [
    "message = 'welcome'\n",
    "message = \"Welcome\"\n",
    "message[0] = 'x'"
   ]
  },
  {
   "cell_type": "code",
   "execution_count": 70,
   "id": "4c0e445c",
   "metadata": {},
   "outputs": [
    {
     "name": "stdout",
     "output_type": "stream",
     "text": [
      "3\n"
     ]
    }
   ],
   "source": [
    "user_data = ('John', 'American', 1964)\n",
    "print(len(user_data))"
   ]
  },
  {
   "cell_type": "code",
   "execution_count": 71,
   "id": "874b0a0e",
   "metadata": {},
   "outputs": [
    {
     "name": "stdout",
     "output_type": "stream",
     "text": [
      "this person comes from US!\n"
     ]
    }
   ],
   "source": [
    "user_data = ('John', 'American', 1964)\n",
    "if 'American' in user_data:\n",
    "    print('this person comes from US!')"
   ]
  },
  {
   "cell_type": "code",
   "execution_count": 72,
   "id": "d3646af8",
   "metadata": {},
   "outputs": [
    {
     "name": "stdout",
     "output_type": "stream",
     "text": [
      "John\n",
      "American\n",
      "1964\n"
     ]
    }
   ],
   "source": [
    "user_data = ('John', 'American', 1964)\n",
    "for element in user_data:\n",
    "    print(element)\n"
   ]
  },
  {
   "cell_type": "code",
   "execution_count": 73,
   "id": "eeab3757",
   "metadata": {},
   "outputs": [
    {
     "name": "stdout",
     "output_type": "stream",
     "text": [
      "('John', 'American', 1964, 'teacher', 'male')\n"
     ]
    }
   ],
   "source": [
    "user_data = ('John', 'American', 1964) + ('teacher', 'male')\n",
    "print(user_data)"
   ]
  },
  {
   "cell_type": "code",
   "execution_count": 74,
   "id": "5649eea3",
   "metadata": {},
   "outputs": [
    {
     "name": "stdout",
     "output_type": "stream",
     "text": [
      "(0, 1, 0, 1, 0, 1, 0, 1, 0, 1, 0, 1, 0, 1, 0, 1, 0, 1, 0, 1)\n"
     ]
    }
   ],
   "source": [
    "numbers = (0,1) * 10\n",
    "print(numbers)"
   ]
  },
  {
   "cell_type": "code",
   "execution_count": 77,
   "id": "96850eef",
   "metadata": {},
   "outputs": [
    {
     "name": "stdout",
     "output_type": "stream",
     "text": [
      "city: london , country: uk , population: 8.98\n",
      "city: canberra , country: australia , population: 0.4\n",
      "city: algiers , country: algeria , population: 3.9\n"
     ]
    }
   ],
   "source": [
    "city_1 = ('london', 'uk', 8.98)\n",
    "city_2 = ('canberra', 'australia', 0.4)\n",
    "city_3 = ('algiers', 'algeria', 3.9)\n",
    "capitals = [('london', 'uk', 8.98), ('canberra', 'australia', 0.4), ('algiers', 'algeria', 3.9)]\n",
    "for capital in capitals:\n",
    "    print('city:', capital[0], ', country:', capital[1], ', population:', capital[2])"
   ]
  },
  {
   "cell_type": "code",
   "execution_count": 78,
   "id": "09dbc60b",
   "metadata": {},
   "outputs": [
    {
     "name": "stdout",
     "output_type": "stream",
     "text": [
      "('john', 'american', 1964, [77, 78, 79, 80, 81])\n"
     ]
    }
   ],
   "source": [
    "user_data = ('john', 'american', 1964, [77, 78, 79, 80])\n",
    "user_data[3].append(81)\n",
    "print(user_data)"
   ]
  },
  {
   "cell_type": "code",
   "execution_count": 12,
   "id": "a47844a6",
   "metadata": {},
   "outputs": [
    {
     "name": "stdout",
     "output_type": "stream",
     "text": [
      "5 connections lead to Rome with an average flight time of 161.0 minutes\n"
     ]
    }
   ],
   "source": [
    "connections = [\n",
    "    ('Amsterdam', 'Dublin', 100),\n",
    "    ('Amsterdam', 'Rome', 140),\n",
    "    ('Rome', 'Warsaw', 130),\n",
    "    ('Minsk', 'Prague', 95),\n",
    "    ('Stockholm', 'Rome', 190),\n",
    "    ('Copenhagen', 'Paris', 120),\n",
    "    ('Madrid', 'Rome', 135),\n",
    "    ('Lisbon', 'Rome', 170),\n",
    "    ('Dublin', 'Rome', 170),\n",
    "    ]\n",
    "z=0\n",
    "t=0 \n",
    "for i in connections:\n",
    "            if i[1] == 'Rome':\n",
    "                z += 1 \n",
    "                t += i[2]\n",
    "print(f\"{z} connections lead to Rome with an average flight time of {t/z} minutes\")"
   ]
  },
  {
   "cell_type": "code",
   "execution_count": 17,
   "id": "9907af66",
   "metadata": {},
   "outputs": [],
   "source": [
    "emails = {\n",
    "    'anne stahl': 'astahl@gmail.com',\n",
    "    'somon hakimov': 'shomshog@gmail.com',\n",
    "    'akmal shatakov': 'akml@gmail.com'\n",
    "}"
   ]
  },
  {
   "cell_type": "code",
   "execution_count": 18,
   "id": "4e4468ce",
   "metadata": {},
   "outputs": [
    {
     "name": "stdout",
     "output_type": "stream",
     "text": [
      "shomshog@gmail.com\n"
     ]
    }
   ],
   "source": [
    "print(emails['somon hakimov'])"
   ]
  },
  {
   "cell_type": "code",
   "execution_count": 19,
   "id": "865dce7a",
   "metadata": {},
   "outputs": [],
   "source": [
    "spanish_animals = {\n",
    "    'dog': 'el pphkh',\n",
    "    'cat': 'kjshgksh',\n",
    "    'horse': 'aijhghr',\n",
    "    'bird': 'orghol'\n",
    "}"
   ]
  },
  {
   "cell_type": "code",
   "execution_count": 20,
   "id": "1501ca9c",
   "metadata": {},
   "outputs": [
    {
     "name": "stdout",
     "output_type": "stream",
     "text": [
      "orghol\n"
     ]
    }
   ],
   "source": [
    "print(spanish_animals['bird'])"
   ]
  },
  {
   "cell_type": "code",
   "execution_count": 21,
   "id": "c8f51eb6",
   "metadata": {},
   "outputs": [],
   "source": [
    "spanish_animals = {\n",
    "    'dog': 'el pphkh',\n",
    "    'cat': 'kjshgksh',\n",
    "    'horse': 'aijhghr',\n",
    "    'bird': 'laa'\n",
    "}"
   ]
  },
  {
   "cell_type": "code",
   "execution_count": 22,
   "id": "66cf4d19",
   "metadata": {},
   "outputs": [
    {
     "name": "stdout",
     "output_type": "stream",
     "text": [
      "{'dog': 'el pphkh', 'cat': 'kjshgksh', 'horse': 'aijhghr', 'bird': 'laa'}\n"
     ]
    }
   ],
   "source": [
    "print(spanish_animals)"
   ]
  },
  {
   "cell_type": "code",
   "execution_count": 23,
   "id": "c0256aaa",
   "metadata": {},
   "outputs": [
    {
     "ename": "SyntaxError",
     "evalue": "invalid syntax (2734795911.py, line 3)",
     "output_type": "error",
     "traceback": [
      "  \u001b[36mCell\u001b[39m\u001b[36m \u001b[39m\u001b[32mIn[23]\u001b[39m\u001b[32m, line 3\u001b[39m\n\u001b[31m    \u001b[39m\u001b[31m[2]: 'yunus pahlavonov'\u001b[39m\n       ^\n\u001b[31mSyntaxError\u001b[39m\u001b[31m:\u001b[39m invalid syntax\n"
     ]
    }
   ],
   "source": [
    "tennis_ranking = {\n",
    "    [1]: 'somon pahlavon'\n",
    "    [2]: 'yunus pahlavonov'\n",
    "    [3]: 'simona haha'\n",
    "}"
   ]
  },
  {
   "cell_type": "code",
   "execution_count": 25,
   "id": "53a26520",
   "metadata": {},
   "outputs": [],
   "source": [
    "city_ratings = {\n",
    "    'bangkok': [3,3,5,6,5],\n",
    "    'dushanbe': [3,6,78,8,5],\n",
    "    'toshkent': [8,2,4,6]\n",
    "}"
   ]
  },
  {
   "cell_type": "code",
   "execution_count": 26,
   "id": "1ea6a11d",
   "metadata": {},
   "outputs": [
    {
     "name": "stdout",
     "output_type": "stream",
     "text": [
      "{'john': 'A-', 'somon': 'B'}\n"
     ]
    }
   ],
   "source": [
    "grades = {}\n",
    "grades['john'] = 'A-'\n",
    "grades['somon'] = 'B'\n",
    "print(grades)"
   ]
  },
  {
   "cell_type": "code",
   "execution_count": 27,
   "id": "4a12fbfb",
   "metadata": {},
   "outputs": [
    {
     "name": "stdout",
     "output_type": "stream",
     "text": [
      "{'john': 'A-', 'somon': 'B', 'anna': 'A'}\n"
     ]
    }
   ],
   "source": [
    "grades['anna'] = 'A'\n",
    "print(grades)"
   ]
  },
  {
   "cell_type": "code",
   "execution_count": 28,
   "id": "6ac2172b",
   "metadata": {},
   "outputs": [],
   "source": [
    "grades['somon'] = 'A'"
   ]
  },
  {
   "cell_type": "code",
   "execution_count": 29,
   "id": "3135df45",
   "metadata": {},
   "outputs": [
    {
     "name": "stdout",
     "output_type": "stream",
     "text": [
      "{'john': 'A-', 'somon': 'A', 'anna': 'A'}\n"
     ]
    }
   ],
   "source": [
    "print(grades)"
   ]
  },
  {
   "cell_type": "code",
   "execution_count": 30,
   "id": "8a260b31",
   "metadata": {},
   "outputs": [
    {
     "data": {
      "text/plain": [
       "3"
      ]
     },
     "execution_count": 30,
     "metadata": {},
     "output_type": "execute_result"
    }
   ],
   "source": [
    "len(grades)"
   ]
  },
  {
   "cell_type": "code",
   "execution_count": 31,
   "id": "cdafab86",
   "metadata": {},
   "outputs": [
    {
     "name": "stdout",
     "output_type": "stream",
     "text": [
      "somon got: A\n"
     ]
    }
   ],
   "source": [
    "if 'somon' in grades:\n",
    "    print('somon got:', grades['somon'])"
   ]
  },
  {
   "cell_type": "code",
   "execution_count": 32,
   "id": "823f9c11",
   "metadata": {},
   "outputs": [
    {
     "name": "stdout",
     "output_type": "stream",
     "text": [
      "{'john': 'A-', 'anna': 'A'}\n"
     ]
    }
   ],
   "source": [
    "del grades['somon']\n",
    "print(grades)"
   ]
  },
  {
   "cell_type": "code",
   "execution_count": 33,
   "id": "44c17bb4",
   "metadata": {},
   "outputs": [
    {
     "name": "stdout",
     "output_type": "stream",
     "text": [
      "john\n",
      "anna\n"
     ]
    }
   ],
   "source": [
    "for i in grades:\n",
    "    print(i)"
   ]
  },
  {
   "cell_type": "code",
   "execution_count": 34,
   "id": "91b9ef2e",
   "metadata": {},
   "outputs": [
    {
     "name": "stdout",
     "output_type": "stream",
     "text": [
      "A-\n",
      "A\n"
     ]
    }
   ],
   "source": [
    "for i in grades.values():\n",
    "    print(i)"
   ]
  },
  {
   "cell_type": "code",
   "execution_count": 36,
   "id": "310eb14f",
   "metadata": {},
   "outputs": [
    {
     "name": "stdout",
     "output_type": "stream",
     "text": [
      "john got A-\n",
      "anna got A\n"
     ]
    }
   ],
   "source": [
    "for person, grade in grades.items():\n",
    "    print(person, 'got', grade)"
   ]
  },
  {
   "cell_type": "code",
   "execution_count": 3,
   "id": "cb3f3b3a",
   "metadata": {},
   "outputs": [
    {
     "name": "stdout",
     "output_type": "stream",
     "text": [
      "hello my dear\n",
      "hello my dear\n"
     ]
    }
   ],
   "source": [
    "def greet():\n",
    "    print('hello my dear')\n",
    "greet()\n",
    "greet()"
   ]
  },
  {
   "cell_type": "code",
   "execution_count": 6,
   "id": "d48d1b34",
   "metadata": {},
   "outputs": [
    {
     "name": "stdout",
     "output_type": "stream",
     "text": [
      "6.714285714285714\n"
     ]
    }
   ],
   "source": [
    "\n",
    "def get_average(input_numbers):\n",
    "    sum =0.0\n",
    "    for number in input_numbers:\n",
    "        sum += number\n",
    "    average = sum/len(input_numbers)\n",
    "\n",
    "    print(average)\n",
    "get_average([1, 3, 7 ,8 ,8, 10, 10])"
   ]
  },
  {
   "cell_type": "code",
   "execution_count": 7,
   "id": "1c263891",
   "metadata": {},
   "outputs": [
    {
     "name": "stdout",
     "output_type": "stream",
     "text": [
      "249.0\n"
     ]
    }
   ],
   "source": [
    "get_average([199, 299])"
   ]
  },
  {
   "cell_type": "code",
   "execution_count": 8,
   "id": "f14d2b25",
   "metadata": {},
   "outputs": [
    {
     "ename": "TypeError",
     "evalue": "get_average() missing 1 required positional argument: 'input_numbers'",
     "output_type": "error",
     "traceback": [
      "\u001b[31m---------------------------------------------------------------------------\u001b[39m",
      "\u001b[31mTypeError\u001b[39m                                 Traceback (most recent call last)",
      "\u001b[36mCell\u001b[39m\u001b[36m \u001b[39m\u001b[32mIn[8]\u001b[39m\u001b[32m, line 1\u001b[39m\n\u001b[32m----> \u001b[39m\u001b[32m1\u001b[39m \u001b[43mget_average\u001b[49m\u001b[43m(\u001b[49m\u001b[43m)\u001b[49m\n",
      "\u001b[31mTypeError\u001b[39m: get_average() missing 1 required positional argument: 'input_numbers'"
     ]
    }
   ],
   "source": [
    "get_average()"
   ]
  },
  {
   "cell_type": "code",
   "execution_count": 9,
   "id": "69fa1b4c",
   "metadata": {},
   "outputs": [
    {
     "ename": "TypeError",
     "evalue": "'int' object is not iterable",
     "output_type": "error",
     "traceback": [
      "\u001b[31m---------------------------------------------------------------------------\u001b[39m",
      "\u001b[31mTypeError\u001b[39m                                 Traceback (most recent call last)",
      "\u001b[36mCell\u001b[39m\u001b[36m \u001b[39m\u001b[32mIn[9]\u001b[39m\u001b[32m, line 1\u001b[39m\n\u001b[32m----> \u001b[39m\u001b[32m1\u001b[39m \u001b[43mget_average\u001b[49m\u001b[43m(\u001b[49m\u001b[32;43m5\u001b[39;49m\u001b[43m)\u001b[49m\n",
      "\u001b[36mCell\u001b[39m\u001b[36m \u001b[39m\u001b[32mIn[6]\u001b[39m\u001b[32m, line 3\u001b[39m, in \u001b[36mget_average\u001b[39m\u001b[34m(input_numbers)\u001b[39m\n\u001b[32m      1\u001b[39m \u001b[38;5;28;01mdef\u001b[39;00m\u001b[38;5;250m \u001b[39m\u001b[34mget_average\u001b[39m(input_numbers):\n\u001b[32m      2\u001b[39m     \u001b[38;5;28msum\u001b[39m =\u001b[32m0.0\u001b[39m\n\u001b[32m----> \u001b[39m\u001b[32m3\u001b[39m \u001b[43m    \u001b[49m\u001b[38;5;28;43;01mfor\u001b[39;49;00m\u001b[43m \u001b[49m\u001b[43mnumber\u001b[49m\u001b[43m \u001b[49m\u001b[38;5;129;43;01min\u001b[39;49;00m\u001b[43m \u001b[49m\u001b[43minput_numbers\u001b[49m\u001b[43m:\u001b[49m\n\u001b[32m      4\u001b[39m \u001b[43m        \u001b[49m\u001b[38;5;28;43msum\u001b[39;49m\u001b[43m \u001b[49m\u001b[43m+\u001b[49m\u001b[43m=\u001b[49m\u001b[43m \u001b[49m\u001b[43mnumber\u001b[49m\n\u001b[32m      5\u001b[39m     average = \u001b[38;5;28msum\u001b[39m/\u001b[38;5;28mlen\u001b[39m(input_numbers)\n",
      "\u001b[31mTypeError\u001b[39m: 'int' object is not iterable"
     ]
    }
   ],
   "source": [
    "get_average(5)"
   ]
  },
  {
   "cell_type": "code",
   "execution_count": 10,
   "id": "59420a7d",
   "metadata": {},
   "outputs": [],
   "source": [
    "def print_letter_count(text, letter):\n",
    "    counter = 0\n",
    "    for char in text:\n",
    "        if char == letter:\n",
    "            counter += 1\n",
    "    print('number of', letter, 'is', counter)"
   ]
  },
  {
   "cell_type": "code",
   "execution_count": 11,
   "id": "11ea4fee",
   "metadata": {},
   "outputs": [
    {
     "name": "stdout",
     "output_type": "stream",
     "text": [
      "number of e is 2\n"
     ]
    }
   ],
   "source": [
    "print_letter_count('welcome', 'e')"
   ]
  },
  {
   "cell_type": "code",
   "execution_count": 12,
   "id": "35a6b0fb",
   "metadata": {},
   "outputs": [
    {
     "name": "stdout",
     "output_type": "stream",
     "text": [
      "number of a is 2\n"
     ]
    }
   ],
   "source": [
    "print_letter_count('people say nothing is impossible, but i do nothing everyday.', 'a')"
   ]
  },
  {
   "cell_type": "code",
   "execution_count": 13,
   "id": "5ba790ac",
   "metadata": {},
   "outputs": [
    {
     "name": "stdout",
     "output_type": "stream",
     "text": [
      "number of Welcome is 0\n"
     ]
    }
   ],
   "source": [
    "print_letter_count('e', 'Welcome')"
   ]
  },
  {
   "cell_type": "code",
   "execution_count": 14,
   "id": "12359cee",
   "metadata": {},
   "outputs": [
    {
     "name": "stdout",
     "output_type": "stream",
     "text": [
      "number of e is 2\n"
     ]
    }
   ],
   "source": [
    "print_letter_count(text='welcome', letter='e')"
   ]
  },
  {
   "cell_type": "code",
   "execution_count": 16,
   "id": "f57f0637",
   "metadata": {},
   "outputs": [
    {
     "name": "stdout",
     "output_type": "stream",
     "text": [
      "Hello-how are you?."
     ]
    }
   ],
   "source": [
    "print('Hello', 'how are you?', end='.', sep='-')"
   ]
  },
  {
   "cell_type": "code",
   "execution_count": null,
   "id": "ea1cd3e3",
   "metadata": {},
   "outputs": [
    {
     "name": "stdout",
     "output_type": "stream",
     "text": [
      "number of a is 2\n"
     ]
    }
   ],
   "source": [
    "def print_letter_count(text='this is the default string to search', letter='a'):\n",
    "    counter = 0\n",
    "    for char in text:\n",
    "        if char == letter:\n",
    "            counter += 1\n",
    "    print('number of', letter, 'is', counter)\n",
    "    \n",
    "print_letter_count()"
   ]
  },
  {
   "cell_type": "code",
   "execution_count": 27,
   "id": "5402a8ad",
   "metadata": {},
   "outputs": [
    {
     "name": "stdout",
     "output_type": "stream",
     "text": [
      "number of a is 3\n"
     ]
    }
   ],
   "source": [
    "print_letter_count('how many letters a are here?')"
   ]
  },
  {
   "cell_type": "code",
   "execution_count": 28,
   "id": "3ff2b492",
   "metadata": {},
   "outputs": [
    {
     "name": "stdout",
     "output_type": "stream",
     "text": [
      "number of a is 2\n"
     ]
    }
   ],
   "source": [
    "print_letter_count()"
   ]
  },
  {
   "cell_type": "code",
   "execution_count": 30,
   "id": "7087edb7",
   "metadata": {},
   "outputs": [
    {
     "name": "stdout",
     "output_type": "stream",
     "text": [
      "surprise\n"
     ]
    }
   ],
   "source": [
    "def show_truth():\n",
    "    mysterious_var = 'surprise'\n",
    "    print(mysterious_var)\n",
    "\n",
    "show_truth()"
   ]
  },
  {
   "cell_type": "code",
   "execution_count": 31,
   "id": "81c34275",
   "metadata": {},
   "outputs": [
    {
     "name": "stdout",
     "output_type": "stream",
     "text": [
      "surprise\n"
     ]
    }
   ],
   "source": [
    "def show_truth():\n",
    "    print(mysterious_var)\n",
    "\n",
    "mysterious_var = 'surprise'\n",
    "show_truth()"
   ]
  },
  {
   "cell_type": "code",
   "execution_count": 32,
   "id": "ac0a01ed",
   "metadata": {},
   "outputs": [
    {
     "name": "stdout",
     "output_type": "stream",
     "text": [
      "surprise\n",
      "New Surprise!\n",
      "surprise\n"
     ]
    }
   ],
   "source": [
    "def show_truth():\n",
    "    mysterious_var = 'New Surprise!'\n",
    "    print(mysterious_var)\n",
    "\n",
    "mysterious_var = 'surprise'\n",
    "print(mysterious_var)\n",
    "show_truth()\n",
    "print(mysterious_var)"
   ]
  },
  {
   "cell_type": "code",
   "execution_count": 33,
   "id": "210e5604",
   "metadata": {},
   "outputs": [
    {
     "name": "stdout",
     "output_type": "stream",
     "text": [
      "surprise\n",
      "New Surprise!\n",
      "New Surprise!\n"
     ]
    }
   ],
   "source": [
    "def show_truth():\n",
    "    global mysterious_var\n",
    "    mysterious_var = 'New Surprise!'\n",
    "    print(mysterious_var)\n",
    "\n",
    "mysterious_var = 'surprise'\n",
    "print(mysterious_var)\n",
    "show_truth()\n",
    "print(mysterious_var)"
   ]
  },
  {
   "cell_type": "code",
   "execution_count": 34,
   "id": "86a970c5",
   "metadata": {},
   "outputs": [
    {
     "name": "stdout",
     "output_type": "stream",
     "text": [
      "['surprise']\n",
      "['New Surprise!']\n",
      "['surprise']\n"
     ]
    }
   ],
   "source": [
    "def show_truth():\n",
    "    mysterious_var = ['New Surprise!']\n",
    "    print(mysterious_var)\n",
    "\n",
    "mysterious_var = ['surprise']\n",
    "print(mysterious_var)\n",
    "show_truth()\n",
    "print(mysterious_var)"
   ]
  },
  {
   "cell_type": "code",
   "execution_count": 6,
   "id": "d004a982",
   "metadata": {},
   "outputs": [
    {
     "name": "stdout",
     "output_type": "stream",
     "text": [
      "['surprise']\n",
      "['surprise', 'New Surprise!']\n",
      "['surprise', 'New Surprise!']\n",
      "['surprise', 'New Surprise!', 'New Surprise!']\n",
      "None\n"
     ]
    }
   ],
   "source": [
    "def show_truth():\n",
    "    mysterious_var.append('New Surprise!')\n",
    "    print(mysterious_var)\n",
    "\n",
    "mysterious_var = ['surprise']\n",
    "print(mysterious_var)\n",
    "show_truth()\n",
    "print(mysterious_var)\n",
    "\n",
    "print(show_truth())"
   ]
  },
  {
   "cell_type": "code",
   "execution_count": null,
   "id": "95df9b7e",
   "metadata": {},
   "outputs": [
    {
     "ename": "NameError",
     "evalue": "name 'show_truth' is not defined",
     "output_type": "error",
     "traceback": [
      "\u001b[31m---------------------------------------------------------------------------\u001b[39m",
      "\u001b[31mNameError\u001b[39m                                 Traceback (most recent call last)",
      "\u001b[36mCell\u001b[39m\u001b[36m \u001b[39m\u001b[32mIn[4]\u001b[39m\u001b[32m, line 1\u001b[39m\n\u001b[32m----> \u001b[39m\u001b[32m1\u001b[39m \u001b[38;5;28mprint\u001b[39m(\u001b[43mshow_truth\u001b[49m())\n\u001b[32m      2\u001b[39m \u001b[38;5;28mprint\u001b[39m(\u001b[33m'\u001b[39m\u001b[33mhello\u001b[39m\u001b[33m'\u001b[39m)\n",
      "\u001b[31mNameError\u001b[39m: name 'show_truth' is not defined"
     ]
    }
   ],
   "source": [
    "\n",
    "print('hello')"
   ]
  },
  {
   "cell_type": "code",
   "execution_count": 37,
   "id": "1ec20280",
   "metadata": {},
   "outputs": [
    {
     "data": {
      "text/plain": [
       "5"
      ]
     },
     "execution_count": 37,
     "metadata": {},
     "output_type": "execute_result"
    }
   ],
   "source": [
    "len('hello')"
   ]
  },
  {
   "cell_type": "code",
   "execution_count": 38,
   "id": "912c72e2",
   "metadata": {},
   "outputs": [],
   "source": [
    "length = len('hello')"
   ]
  },
  {
   "cell_type": "code",
   "execution_count": 40,
   "id": "e4808223",
   "metadata": {},
   "outputs": [
    {
     "name": "stdout",
     "output_type": "stream",
     "text": [
      "7\n"
     ]
    }
   ],
   "source": [
    "number = input('what is the number? ')\n",
    "print(number)"
   ]
  },
  {
   "cell_type": "code",
   "execution_count": 41,
   "id": "16859042",
   "metadata": {},
   "outputs": [
    {
     "name": "stdout",
     "output_type": "stream",
     "text": [
      "hello world\n",
      "None\n"
     ]
    }
   ],
   "source": [
    "print_return = print('hello world')\n",
    "print(print_return)"
   ]
  },
  {
   "cell_type": "code",
   "execution_count": 10,
   "id": "b97c3aef",
   "metadata": {},
   "outputs": [
    {
     "name": "stdout",
     "output_type": "stream",
     "text": [
      "hello\n",
      "None\n"
     ]
    }
   ],
   "source": [
    "def greet():\n",
    "    print('hello')\n",
    "\n",
    "x = greet()\n",
    "print(x)"
   ]
  },
  {
   "cell_type": "code",
   "execution_count": 11,
   "id": "868f2f2f",
   "metadata": {},
   "outputs": [],
   "source": [
    "def get_average(input_numbers):\n",
    "    sum = 0.0\n",
    "    for number in input_numbers:\n",
    "        sum += number\n",
    "    average = sum / len(input_numbers)\n",
    "    return average"
   ]
  },
  {
   "cell_type": "code",
   "execution_count": null,
   "id": "fe36cf6e",
   "metadata": {},
   "outputs": [
    {
     "name": "stdout",
     "output_type": "stream",
     "text": [
      "the average is: 4.833333333333333\n"
     ]
    }
   ],
   "source": [
    "print('the average is:', get_average([4,6,5,4,4,6]))"
   ]
  },
  {
   "cell_type": "code",
   "execution_count": 12,
   "id": "b009c831",
   "metadata": {},
   "outputs": [
    {
     "name": "stdout",
     "output_type": "stream",
     "text": [
      "the average is too high!\n"
     ]
    }
   ],
   "source": [
    "average = get_average([3,4,5,6,6,7])\n",
    "if average > 5.0:\n",
    "    print('the average is too high!')\n"
   ]
  },
  {
   "cell_type": "code",
   "execution_count": 13,
   "id": "06e6f39d",
   "metadata": {},
   "outputs": [
    {
     "data": {
      "text/plain": [
       "5.5"
      ]
     },
     "execution_count": 13,
     "metadata": {},
     "output_type": "execute_result"
    }
   ],
   "source": [
    "def get_average(input_numbers):\n",
    "    sum = 0.0\n",
    "    for number in input_numbers:\n",
    "        sum += number\n",
    "    average = sum / len(input_numbers)\n",
    "    return average\n",
    "    print('show me')\n",
    "\n",
    "get_average([2,9])"
   ]
  },
  {
   "cell_type": "code",
   "execution_count": 54,
   "id": "4c19a0b0",
   "metadata": {},
   "outputs": [],
   "source": [
    "def is_first_last_equal(number_list):\n",
    "    if (number_list[0] == number_list[-1]):\n",
    "        return True\n",
    "    else:\n",
    "        return False"
   ]
  },
  {
   "cell_type": "code",
   "execution_count": 55,
   "id": "310bb0fc",
   "metadata": {},
   "outputs": [
    {
     "name": "stdout",
     "output_type": "stream",
     "text": [
      "True\n"
     ]
    }
   ],
   "source": [
    "print(is_first_last_equal([10,20,48,93,10]))"
   ]
  },
  {
   "cell_type": "code",
   "execution_count": null,
   "id": "68652222",
   "metadata": {},
   "outputs": [
    {
     "name": "stdout",
     "output_type": "stream",
     "text": [
      "False\n"
     ]
    }
   ],
   "source": [
    "print(is_first_last_equal([10,20,48,93]))"
   ]
  },
  {
   "cell_type": "code",
   "execution_count": 57,
   "id": "88750fca",
   "metadata": {},
   "outputs": [
    {
     "ename": "IndexError",
     "evalue": "list index out of range",
     "output_type": "error",
     "traceback": [
      "\u001b[31m---------------------------------------------------------------------------\u001b[39m",
      "\u001b[31mIndexError\u001b[39m                                Traceback (most recent call last)",
      "\u001b[36mCell\u001b[39m\u001b[36m \u001b[39m\u001b[32mIn[57]\u001b[39m\u001b[32m, line 1\u001b[39m\n\u001b[32m----> \u001b[39m\u001b[32m1\u001b[39m \u001b[38;5;28mprint\u001b[39m(\u001b[43mis_first_last_equal\u001b[49m\u001b[43m(\u001b[49m\u001b[43m[\u001b[49m\u001b[43m]\u001b[49m\u001b[43m)\u001b[49m)\n",
      "\u001b[36mCell\u001b[39m\u001b[36m \u001b[39m\u001b[32mIn[54]\u001b[39m\u001b[32m, line 2\u001b[39m, in \u001b[36mis_first_last_equal\u001b[39m\u001b[34m(number_list)\u001b[39m\n\u001b[32m      1\u001b[39m \u001b[38;5;28;01mdef\u001b[39;00m\u001b[38;5;250m \u001b[39m\u001b[34mis_first_last_equal\u001b[39m(number_list):\n\u001b[32m----> \u001b[39m\u001b[32m2\u001b[39m     \u001b[38;5;28;01mif\u001b[39;00m (\u001b[43mnumber_list\u001b[49m\u001b[43m[\u001b[49m\u001b[32;43m0\u001b[39;49m\u001b[43m]\u001b[49m == number_list[-\u001b[32m1\u001b[39m]):\n\u001b[32m      3\u001b[39m         \u001b[38;5;28;01mreturn\u001b[39;00m \u001b[38;5;28;01mTrue\u001b[39;00m\n\u001b[32m      4\u001b[39m     \u001b[38;5;28;01melse\u001b[39;00m:\n",
      "\u001b[31mIndexError\u001b[39m: list index out of range"
     ]
    }
   ],
   "source": [
    "print(is_first_last_equal([]))"
   ]
  },
  {
   "cell_type": "code",
   "execution_count": 58,
   "id": "831bd136",
   "metadata": {},
   "outputs": [],
   "source": [
    "def is_first_last_equal(number_list):\n",
    "    if len(number_list) == 0:\n",
    "        return\n",
    "    if (number_list[0] == number_list[-1]):\n",
    "        return True\n",
    "    else:\n",
    "        return False"
   ]
  },
  {
   "cell_type": "code",
   "execution_count": 59,
   "id": "a208f1b0",
   "metadata": {},
   "outputs": [
    {
     "name": "stdout",
     "output_type": "stream",
     "text": [
      "None\n"
     ]
    }
   ],
   "source": [
    "print(is_first_last_equal([]))"
   ]
  },
  {
   "cell_type": "code",
   "execution_count": 28,
   "id": "85f47684",
   "metadata": {},
   "outputs": [
    {
     "name": "stdout",
     "output_type": "stream",
     "text": [
      "[1, 2, 3, 4, 5]\n"
     ]
    }
   ],
   "source": [
    "# def unique(list):\n",
    "#     for i in list:\n",
    "#         for i in \n",
    "#     if i in list\n",
    "    \n",
    "    # take the first index and compare it with every other indices\n",
    "    # if it matches: \n",
    "    # don't add to the new_list\n",
    "    # if it doesn't match add to the new list\n",
    "    # remove the the second or the third matching one but keep the previous one.\n",
    "    # print a new list that does not contain repetitive items.\n",
    "    # if a new_list does not have it add it to the new_list.\n",
    "    # x = 0\n",
    "    # if \n",
    "def unique(list):\n",
    "    new_list = []\n",
    "    for i in list:\n",
    "        if i not in new_list:\n",
    "            new_list.append(i)\n",
    "    print(new_list)\n",
    "\n",
    "unique([1,2,3,3,3,3,4,5])\n",
    "    \n"
   ]
  },
  {
   "cell_type": "code",
   "execution_count": 29,
   "id": "b1dd9124",
   "metadata": {},
   "outputs": [],
   "source": [
    "# factorial 5! = 1*2*3*4*5\n"
   ]
  },
  {
   "cell_type": "code",
   "execution_count": null,
   "id": "a9fb4467",
   "metadata": {},
   "outputs": [],
   "source": [
    "# iterative, recursion\n",
    "def get_factorial(number):\n",
    "    factorial = 1\n",
    "    for x in range (1, number + 1):\n",
    "        factorial *= x\n",
    "    return factorial"
   ]
  },
  {
   "cell_type": "code",
   "execution_count": 32,
   "id": "8ae7fc35",
   "metadata": {},
   "outputs": [
    {
     "name": "stdout",
     "output_type": "stream",
     "text": [
      "720\n"
     ]
    }
   ],
   "source": [
    "print(get_factorial(6))"
   ]
  },
  {
   "cell_type": "code",
   "execution_count": 35,
   "id": "e65fc803",
   "metadata": {},
   "outputs": [
    {
     "data": {
      "text/plain": [
       "720"
      ]
     },
     "execution_count": 35,
     "metadata": {},
     "output_type": "execute_result"
    }
   ],
   "source": [
    "# recursive\n",
    "def get_factorial_recursive(number):\n",
    "    if number <= 1:\n",
    "        return 1\n",
    "    return number * get_factorial_recursive(number -1)\n",
    "\n",
    "get_factorial_recursive(6)\n"
   ]
  },
  {
   "cell_type": "code",
   "execution_count": 48,
   "id": "f8acfede",
   "metadata": {},
   "outputs": [],
   "source": [
    "# generator\n",
    "\n",
    "def get_number():\n",
    "    for i in range(1, 4):\n",
    "        yield i\n",
    "        "
   ]
  },
  {
   "cell_type": "code",
   "execution_count": 49,
   "id": "a9785b60",
   "metadata": {},
   "outputs": [
    {
     "name": "stdout",
     "output_type": "stream",
     "text": [
      "<generator object get_number at 0x7ed9dc658930>\n"
     ]
    }
   ],
   "source": [
    "print(get_number())"
   ]
  },
  {
   "cell_type": "code",
   "execution_count": 50,
   "id": "d0727bc3",
   "metadata": {},
   "outputs": [
    {
     "name": "stdout",
     "output_type": "stream",
     "text": [
      "1\n",
      "2\n",
      "3\n"
     ]
    }
   ],
   "source": [
    "generator = get_number()\n",
    "print(next(generator))\n",
    "print(next(generator))\n",
    "print(next(generator))"
   ]
  },
  {
   "cell_type": "code",
   "execution_count": 51,
   "id": "311a5541",
   "metadata": {},
   "outputs": [
    {
     "name": "stdout",
     "output_type": "stream",
     "text": [
      "1\n",
      "2\n",
      "3\n"
     ]
    }
   ],
   "source": [
    "for x in get_number():\n",
    "    print(x)"
   ]
  },
  {
   "cell_type": "code",
   "execution_count": 52,
   "id": "17d4f9a8",
   "metadata": {},
   "outputs": [
    {
     "ename": "TypeError",
     "evalue": "'list' object is not callable",
     "output_type": "error",
     "traceback": [
      "\u001b[31m---------------------------------------------------------------------------\u001b[39m",
      "\u001b[31mTypeError\u001b[39m                                 Traceback (most recent call last)",
      "\u001b[36mCell\u001b[39m\u001b[36m \u001b[39m\u001b[32mIn[52]\u001b[39m\u001b[32m, line 1\u001b[39m\n\u001b[32m----> \u001b[39m\u001b[32m1\u001b[39m numbers = \u001b[38;5;28;43mlist\u001b[39;49m\u001b[43m(\u001b[49m\u001b[43mget_number\u001b[49m\u001b[43m(\u001b[49m\u001b[43m)\u001b[49m\u001b[43m)\u001b[49m\n\u001b[32m      2\u001b[39m \u001b[38;5;28mprint\u001b[39m(numbers)\n",
      "\u001b[31mTypeError\u001b[39m: 'list' object is not callable"
     ]
    }
   ],
   "source": [
    "\n",
    "\n",
    "numbers = list(get_number())\n",
    "print(numbers)"
   ]
  },
  {
   "cell_type": "code",
   "execution_count": null,
   "id": "c75c051b",
   "metadata": {},
   "outputs": [],
   "source": [
    "# don't worry about generators much, just remember the systax a little"
   ]
  },
  {
   "cell_type": "code",
   "execution_count": 55,
   "id": "57733e11",
   "metadata": {},
   "outputs": [
    {
     "ename": "IndentationError",
     "evalue": "expected an indented block after 'if' statement on line 2 (590599853.py, line 3)",
     "output_type": "error",
     "traceback": [
      "  \u001b[36mCell\u001b[39m\u001b[36m \u001b[39m\u001b[32mIn[55]\u001b[39m\u001b[32m, line 3\u001b[39m\n\u001b[31m    \u001b[39m\u001b[31mprint('hooray!')\u001b[39m\n    ^\n\u001b[31mIndentationError\u001b[39m\u001b[31m:\u001b[39m expected an indented block after 'if' statement on line 2\n"
     ]
    }
   ],
   "source": [
    "# exceptions, syntax error, value error.\n",
    "if True:\n",
    "print('hooray!')"
   ]
  },
  {
   "cell_type": "code",
   "execution_count": 58,
   "id": "0629de20",
   "metadata": {},
   "outputs": [
    {
     "ename": "ValueError",
     "evalue": "invalid literal for int() with base 10: 'a'",
     "output_type": "error",
     "traceback": [
      "\u001b[31m---------------------------------------------------------------------------\u001b[39m",
      "\u001b[31mValueError\u001b[39m                                Traceback (most recent call last)",
      "\u001b[36mCell\u001b[39m\u001b[36m \u001b[39m\u001b[32mIn[58]\u001b[39m\u001b[32m, line 1\u001b[39m\n\u001b[32m----> \u001b[39m\u001b[32m1\u001b[39m value = \u001b[38;5;28;43mint\u001b[39;49m\u001b[43m(\u001b[49m\u001b[38;5;28;43minput\u001b[39;49m\u001b[43m(\u001b[49m\u001b[33;43m'\u001b[39;49m\u001b[33;43mEnter an integer: \u001b[39;49m\u001b[33;43m'\u001b[39;49m\u001b[43m)\u001b[49m\u001b[43m)\u001b[49m\n\u001b[32m      2\u001b[39m \u001b[38;5;28mprint\u001b[39m(\u001b[33m'\u001b[39m\u001b[33mthe inverse of\u001b[39m\u001b[33m'\u001b[39m, value, \u001b[33m'\u001b[39m\u001b[33mis\u001b[39m\u001b[33m'\u001b[39m, \u001b[32m1\u001b[39m/value)\n",
      "\u001b[31mValueError\u001b[39m: invalid literal for int() with base 10: 'a'"
     ]
    }
   ],
   "source": [
    "value = int(input('Enter an integer: '))\n",
    "print('the inverse of', value, 'is', 1/value)"
   ]
  },
  {
   "cell_type": "code",
   "execution_count": 61,
   "id": "1db951c0",
   "metadata": {},
   "outputs": [
    {
     "name": "stdout",
     "output_type": "stream",
     "text": [
      "you did not provide a number, so i will not calculate the inverse\n"
     ]
    }
   ],
   "source": [
    "try:\n",
    "    value = int(input('Enter an integer: '))\n",
    "    print('the inverse of', value, 'is', 1/value)\n",
    "except:\n",
    "    print('you did not provide a number, so i will not calculate the inverse')"
   ]
  },
  {
   "cell_type": "code",
   "execution_count": 62,
   "id": "bafba91f",
   "metadata": {},
   "outputs": [
    {
     "ename": "ZeroDivisionError",
     "evalue": "division by zero",
     "output_type": "error",
     "traceback": [
      "\u001b[31m---------------------------------------------------------------------------\u001b[39m",
      "\u001b[31mZeroDivisionError\u001b[39m                         Traceback (most recent call last)",
      "\u001b[36mCell\u001b[39m\u001b[36m \u001b[39m\u001b[32mIn[62]\u001b[39m\u001b[32m, line 2\u001b[39m\n\u001b[32m      1\u001b[39m value = \u001b[38;5;28mint\u001b[39m(\u001b[38;5;28minput\u001b[39m(\u001b[33m'\u001b[39m\u001b[33mEnter an integer: \u001b[39m\u001b[33m'\u001b[39m))\n\u001b[32m----> \u001b[39m\u001b[32m2\u001b[39m \u001b[38;5;28mprint\u001b[39m(\u001b[33m'\u001b[39m\u001b[33mthe inverse of\u001b[39m\u001b[33m'\u001b[39m, value, \u001b[33m'\u001b[39m\u001b[33mis\u001b[39m\u001b[33m'\u001b[39m, \u001b[32;43m1\u001b[39;49m\u001b[43m/\u001b[49m\u001b[43mvalue\u001b[49m)\n",
      "\u001b[31mZeroDivisionError\u001b[39m: division by zero"
     ]
    }
   ],
   "source": [
    "value = int(input('Enter an integer: '))\n",
    "print('the inverse of', value, 'is', 1/value)"
   ]
  },
  {
   "cell_type": "code",
   "execution_count": 65,
   "id": "7e45886a",
   "metadata": {},
   "outputs": [
    {
     "name": "stdout",
     "output_type": "stream",
     "text": [
      "the inverse of 5 is 0.2\n"
     ]
    }
   ],
   "source": [
    "try:\n",
    "    value = int(input('Enter an integer: '))\n",
    "    print('the inverse of', value, 'is', 1/value)\n",
    "except ValueError:\n",
    "    print('you did not provide a number, so i will not calculate the inverse')\n",
    "except ZeroDivisionError:\n",
    "    print('you provided 0 and division by 0 is not possible, sorry')"
   ]
  },
  {
   "cell_type": "code",
   "execution_count": 66,
   "id": "1fff034d",
   "metadata": {},
   "outputs": [
    {
     "name": "stdout",
     "output_type": "stream",
     "text": [
      "you did not provide a number, so i will not calculate the inverse\n"
     ]
    }
   ],
   "source": [
    "try:\n",
    "    value = int(input('Enter an integer: '))\n",
    "    print('the inverse of', value, 'is', 1/value)\n",
    "except ValueError:\n",
    "    print('you did not provide a number, so i will not calculate the inverse')\n",
    "except ZeroDivisionError:\n",
    "    print('you provided 0 and division by 0 is not possible, sorry')\n",
    "except:\n",
    "    print('something strange happened here, sorry')"
   ]
  },
  {
   "cell_type": "code",
   "execution_count": 67,
   "id": "a0699256",
   "metadata": {},
   "outputs": [],
   "source": [
    "# # use assertion:\n",
    "# 1. for debugging/testing your Code\n",
    "# 2. for documenting your Code\n",
    "#  do not use it for:\n",
    "# 1. validate user input with assertions\n",
    "# 2. handle AssertionError in try...except"
   ]
  },
  {
   "cell_type": "code",
   "execution_count": 70,
   "id": "a78d1451",
   "metadata": {},
   "outputs": [
    {
     "data": {
      "text/plain": [
       "0.5"
      ]
     },
     "execution_count": 70,
     "metadata": {},
     "output_type": "execute_result"
    }
   ],
   "source": [
    "def calculate_inverse(number):\n",
    "    assert (number != 0), 'got 0 as number'\n",
    "    return 1/number\n",
    "\n",
    "calculate_inverse(2)"
   ]
  },
  {
   "cell_type": "code",
   "execution_count": null,
   "id": "8ef9a873",
   "metadata": {},
   "outputs": [],
   "source": []
  }
 ],
 "metadata": {
  "kernelspec": {
   "display_name": "py311env",
   "language": "python",
   "name": "python3"
  },
  "language_info": {
   "codemirror_mode": {
    "name": "ipython",
    "version": 3
   },
   "file_extension": ".py",
   "mimetype": "text/x-python",
   "name": "python",
   "nbconvert_exporter": "python",
   "pygments_lexer": "ipython3",
   "version": "3.12.3"
  }
 },
 "nbformat": 4,
 "nbformat_minor": 5
}
