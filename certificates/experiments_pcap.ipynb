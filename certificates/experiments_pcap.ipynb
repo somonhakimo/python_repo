{
 "cells": [
  {
   "cell_type": "code",
   "execution_count": 2,
   "id": "436faef0",
   "metadata": {},
   "outputs": [
    {
     "name": "stdout",
     "output_type": "stream",
     "text": [
      "i wanna exit\n"
     ]
    }
   ],
   "source": [
    "from sys import exit\n",
    "\n",
    "def exit():\n",
    "    print('i wanna exit')\n",
    "\n",
    "exit()"
   ]
  },
  {
   "cell_type": "code",
   "execution_count": null,
   "id": "fc735cd0",
   "metadata": {},
   "outputs": [
    {
     "ename": "SystemExit",
     "evalue": "",
     "output_type": "error",
     "traceback": [
      "An exception has occurred, use %tb to see the full traceback.\n",
      "\u001b[31mSystemExit\u001b[39m\n"
     ]
    },
    {
     "name": "stderr",
     "output_type": "stream",
     "text": [
      "/home/somon/py311env/lib/python3.12/site-packages/IPython/core/interactiveshell.py:3678: UserWarning: To exit: use 'exit', 'quit', or Ctrl-D.\n",
      "  warn(\"To exit: use 'exit', 'quit', or Ctrl-D.\", stacklevel=1)\n"
     ]
    }
   ],
   "source": [
    "import sys # you need to add sys.\n",
    "from sys import * # in this case you don't have to\n",
    "import sys as s \n",
    "\n",
    "s.exit()\n",
    "\n",
    "from sys import exit as bye_bye\n",
    "\n",
    "bye_bye()\n"
   ]
  },
  {
   "cell_type": "code",
   "execution_count": 5,
   "id": "6d66446c",
   "metadata": {},
   "outputs": [
    {
     "ename": "SystemExit",
     "evalue": "",
     "output_type": "error",
     "traceback": [
      "An exception has occurred, use %tb to see the full traceback.\n",
      "\u001b[31mSystemExit\u001b[39m\n"
     ]
    }
   ],
   "source": [
    "from sys import exit as bye_bye\n",
    "\n",
    "bye_bye()"
   ]
  },
  {
   "cell_type": "code",
   "execution_count": 13,
   "id": "a681b2c9",
   "metadata": {},
   "outputs": [
    {
     "name": "stdout",
     "output_type": "stream",
     "text": [
      "__doc__\n",
      "__loader__\n",
      "__name__\n",
      "__package__\n",
      "__spec__\n",
      "acos\n",
      "acosh\n",
      "asin\n",
      "asinh\n",
      "atan\n",
      "atan2\n",
      "atanh\n",
      "cbrt\n",
      "ceil\n",
      "comb\n",
      "copysign\n",
      "cos\n",
      "cosh\n",
      "degrees\n",
      "dist\n",
      "e\n",
      "erf\n",
      "erfc\n",
      "exp\n",
      "exp2\n",
      "expm1\n",
      "fabs\n",
      "factorial\n",
      "floor\n",
      "fmod\n",
      "frexp\n",
      "fsum\n",
      "gamma\n",
      "gcd\n",
      "hypot\n",
      "inf\n",
      "isclose\n",
      "isfinite\n",
      "isinf\n",
      "isnan\n",
      "isqrt\n",
      "lcm\n",
      "ldexp\n",
      "lgamma\n",
      "log\n",
      "log10\n",
      "log1p\n",
      "log2\n",
      "modf\n",
      "nan\n",
      "nextafter\n",
      "perm\n",
      "pi\n",
      "pow\n",
      "prod\n",
      "radians\n",
      "remainder\n",
      "sin\n",
      "sinh\n",
      "sqrt\n",
      "sumprod\n",
      "tan\n",
      "tanh\n",
      "tau\n",
      "trunc\n",
      "ulp\n"
     ]
    }
   ],
   "source": [
    "import math\n",
    "for name in dir(math):\n",
    "    print(name)"
   ]
  },
  {
   "cell_type": "code",
   "execution_count": null,
   "id": "dd58c7bc",
   "metadata": {},
   "outputs": [
    {
     "name": "stdout",
     "output_type": "stream",
     "text": [
      "4\n",
      "3\n",
      "3\n"
     ]
    }
   ],
   "source": [
    "# ceil(), floor(), trunc()\n",
    "print(math.ceil(3.6))# nearest integer not less than 3.6, if it was 3.0 it would return 3 becaue 3.0 in not less than neares integer in 3\n",
    "print(math.floor(3.6))\n",
    "print(math.trunc(3.6))"
   ]
  },
  {
   "cell_type": "code",
   "execution_count": 18,
   "id": "6ba7c75b",
   "metadata": {},
   "outputs": [
    {
     "name": "stdout",
     "output_type": "stream",
     "text": [
      "4\n",
      "4\n",
      "4\n",
      "4\n",
      "-5\n",
      "-5\n"
     ]
    }
   ],
   "source": [
    "# math.ceil()\n",
    "print(math.ceil(3.1))      \n",
    "print(math.ceil(3.2))    \n",
    "print(math.ceil(3.5))    \n",
    "print(math.ceil(3.187))\n",
    "print(math.ceil(-5.8))\n",
    "print(math.ceil(-5.3))                                                                                                                                                                                                                  "
   ]
  },
  {
   "cell_type": "code",
   "execution_count": 19,
   "id": "5c86809e",
   "metadata": {},
   "outputs": [
    {
     "name": "stdout",
     "output_type": "stream",
     "text": [
      "3\n",
      "3\n",
      "3\n",
      "3\n",
      "-6\n",
      "-6\n"
     ]
    }
   ],
   "source": [
    "# floor() this is opposite of ceil\n",
    "\n",
    "print(math.floor(3.1))      \n",
    "print(math.floor(3.2))    \n",
    "print(math.floor(3.5))    \n",
    "print(math.floor(3.187))\n",
    "print(math.floor(-5.8))\n",
    "print(math.floor(-5.3)) "
   ]
  },
  {
   "cell_type": "code",
   "execution_count": null,
   "id": "a7cd1243",
   "metadata": {},
   "outputs": [
    {
     "name": "stdout",
     "output_type": "stream",
     "text": [
      "3\n",
      "3\n",
      "3\n",
      "3\n",
      "-5\n",
      "-5\n"
     ]
    }
   ],
   "source": [
    "\n",
    "print(math.trunc(3.1))     # it just print the whole number what is before decimal point. \n",
    "print(math.trunc(3.2))    \n",
    "print(math.trunc(3.5))    \n",
    "print(math.trunc(3.187))\n",
    "print(math.trunc(-5.8))\n",
    "print(math.trunc(-5.3)) "
   ]
  },
  {
   "cell_type": "code",
   "execution_count": 21,
   "id": "02d41c9f",
   "metadata": {},
   "outputs": [
    {
     "name": "stdout",
     "output_type": "stream",
     "text": [
      "6\n",
      "24\n"
     ]
    }
   ],
   "source": [
    "# factorial()\n",
    "# 3! = 3 * 2 *1 = 6\n",
    "\n",
    "print(math.factorial(3))\n",
    "print(math.factorial(4))\n"
   ]
  },
  {
   "cell_type": "code",
   "execution_count": 22,
   "id": "ebe15b66",
   "metadata": {},
   "outputs": [
    {
     "name": "stdout",
     "output_type": "stream",
     "text": [
      "4.0\n",
      "10.0\n"
     ]
    }
   ],
   "source": [
    "# squt()\n",
    "print(math.sqrt(16))\n",
    "print(math.sqrt(100))"
   ]
  },
  {
   "cell_type": "code",
   "execution_count": null,
   "id": "d9bc2353",
   "metadata": {},
   "outputs": [
    {
     "name": "stdout",
     "output_type": "stream",
     "text": [
      "5.0\n"
     ]
    }
   ],
   "source": [
    "# hypot() hypotenuse, so if you have a trianlge and if you give a length a two sites,\n",
    "#  this function will find the third largest side.\n",
    "print(math.hypot(3,4))\n",
    "# math module has a lot more functions but for the exam you only need these 6\n",
    "functions. ceil, floor, trunc, factorial, sqrt, hypot."
   ]
  },
  {
   "cell_type": "code",
   "execution_count": 27,
   "id": "d63cdffe",
   "metadata": {},
   "outputs": [
    {
     "name": "stdout",
     "output_type": "stream",
     "text": [
      "0.6343259147442183\n",
      "0.4775683338109503\n",
      "0.13726835860349784\n"
     ]
    }
   ],
   "source": [
    "# modules random\n",
    "import random\n",
    "\n",
    "print(random.random())\n",
    "print(random.random())\n",
    "print(random.random())"
   ]
  },
  {
   "cell_type": "code",
   "execution_count": null,
   "id": "32da1d64",
   "metadata": {},
   "outputs": [],
   "source": []
  },
  {
   "cell_type": "code",
   "execution_count": 31,
   "id": "e3a227da",
   "metadata": {},
   "outputs": [
    {
     "name": "stdout",
     "output_type": "stream",
     "text": [
      "0.8444218515250481\n",
      "0.7579544029403025\n",
      "0.420571580830845\n",
      "0.25891675029296335\n",
      "0.5112747213686085\n"
     ]
    }
   ],
   "source": [
    "random.seed(0)\n",
    "print(random.random())\n",
    "print(random.random())\n",
    "print(random.random())\n",
    "print(random.random())\n",
    "print(random.random())"
   ]
  },
  {
   "cell_type": "code",
   "execution_count": null,
   "id": "10b5f0c8",
   "metadata": {},
   "outputs": [
    {
     "name": "stdout",
     "output_type": "stream",
     "text": [
      "3\n",
      "sabrina\n"
     ]
    }
   ],
   "source": [
    "numbers = [1,2,3,4,5,6,7,8,9,10]\n",
    "names = ['somon', 'ahmad', 'sabrina', 'yunus', 'firdavs']\n",
    "\n",
    "print(random.choice(numbers))\n",
    "print(random.choice(names))"
   ]
  },
  {
   "cell_type": "code",
   "execution_count": 41,
   "id": "153328f7",
   "metadata": {},
   "outputs": [
    {
     "data": {
      "text/plain": [
       "'n'"
      ]
     },
     "execution_count": 41,
     "metadata": {},
     "output_type": "execute_result"
    }
   ],
   "source": [
    "random.choice('canyoufeelthepowerofpython')"
   ]
  },
  {
   "cell_type": "code",
   "execution_count": 54,
   "id": "3e8a62e8",
   "metadata": {},
   "outputs": [
    {
     "name": "stdout",
     "output_type": "stream",
     "text": [
      "6\n",
      "10\n",
      "4\n",
      "9\n",
      "8\n",
      "8\n",
      "9\n",
      "5\n",
      "1\n",
      "9\n"
     ]
    }
   ],
   "source": [
    "numbers = [1,2,3,4,5,6,7,8,9,10]\n",
    "\n",
    "for i in range(10):\n",
    "    print(random.choice(numbers))"
   ]
  },
  {
   "cell_type": "code",
   "execution_count": null,
   "id": "40ce0ced",
   "metadata": {},
   "outputs": [
    {
     "data": {
      "text/plain": [
       "['somon', 'sabrina', 'ahmad']"
      ]
     },
     "execution_count": 43,
     "metadata": {},
     "output_type": "execute_result"
    }
   ],
   "source": [
    "names = ['somon', 'ahmad', 'sabrina', 'yunus', 'firdavs']\n",
    "\n",
    "random.sample(names, 3) # random module has a lot more functions but these \n",
    "# four are enough for the exam. random.random.seed.sample.choice"
   ]
  },
  {
   "cell_type": "code",
   "execution_count": 53,
   "id": "bd484b5b",
   "metadata": {},
   "outputs": [
    {
     "data": {
      "text/plain": [
       "'Linux-6.8.0-59-generic-x86_64-with-glibc2.39'"
      ]
     },
     "execution_count": 53,
     "metadata": {},
     "output_type": "execute_result"
    }
   ],
   "source": [
    "# module platform\n",
    "import platform\n",
    "platform.platform()"
   ]
  },
  {
   "cell_type": "code",
   "execution_count": 45,
   "id": "7a7c63de",
   "metadata": {},
   "outputs": [
    {
     "data": {
      "text/plain": [
       "'Linux-6.8.0-59-generic-x86_64-with-glibc2.39'"
      ]
     },
     "execution_count": 45,
     "metadata": {},
     "output_type": "execute_result"
    }
   ],
   "source": [
    "platform.platform(aliased= False, terse= False)"
   ]
  },
  {
   "cell_type": "code",
   "execution_count": 46,
   "id": "dba91926",
   "metadata": {},
   "outputs": [
    {
     "data": {
      "text/plain": [
       "'Linux-6.8.0-59-generic-x86_64-with-glibc2.39'"
      ]
     },
     "execution_count": 46,
     "metadata": {},
     "output_type": "execute_result"
    }
   ],
   "source": [
    "platform.platform(aliased= True, terse= True)"
   ]
  },
  {
   "cell_type": "code",
   "execution_count": 47,
   "id": "1b4c9f58",
   "metadata": {},
   "outputs": [
    {
     "data": {
      "text/plain": [
       "'x86_64'"
      ]
     },
     "execution_count": 47,
     "metadata": {},
     "output_type": "execute_result"
    }
   ],
   "source": [
    "platform.machine()"
   ]
  },
  {
   "cell_type": "code",
   "execution_count": 48,
   "id": "4ae9cfed",
   "metadata": {},
   "outputs": [
    {
     "data": {
      "text/plain": [
       "'x86_64'"
      ]
     },
     "execution_count": 48,
     "metadata": {},
     "output_type": "execute_result"
    }
   ],
   "source": [
    "platform.processor()"
   ]
  },
  {
   "cell_type": "code",
   "execution_count": 49,
   "id": "28b02d36",
   "metadata": {},
   "outputs": [
    {
     "data": {
      "text/plain": [
       "'Linux'"
      ]
     },
     "execution_count": 49,
     "metadata": {},
     "output_type": "execute_result"
    }
   ],
   "source": [
    "platform.system()"
   ]
  },
  {
   "cell_type": "code",
   "execution_count": 50,
   "id": "a0cf04eb",
   "metadata": {},
   "outputs": [
    {
     "data": {
      "text/plain": [
       "'CPython'"
      ]
     },
     "execution_count": 50,
     "metadata": {},
     "output_type": "execute_result"
    }
   ],
   "source": [
    "platform.python_implementation()"
   ]
  },
  {
   "cell_type": "code",
   "execution_count": 51,
   "id": "d1b775a2",
   "metadata": {},
   "outputs": [
    {
     "data": {
      "text/plain": [
       "('3', '12', '3')"
      ]
     },
     "execution_count": 51,
     "metadata": {},
     "output_type": "execute_result"
    }
   ],
   "source": [
    "platform.python_version_tuple()"
   ]
  },
  {
   "cell_type": "code",
   "execution_count": 52,
   "id": "6fe5af1c",
   "metadata": {},
   "outputs": [
    {
     "data": {
      "text/plain": [
       "'#61-Ubuntu SMP PREEMPT_DYNAMIC Fri Apr 11 23:16:11 UTC 2025'"
      ]
     },
     "execution_count": 52,
     "metadata": {},
     "output_type": "execute_result"
    }
   ],
   "source": [
    "platform.version()"
   ]
  },
  {
   "cell_type": "code",
   "execution_count": 74,
   "id": "cd70b4de",
   "metadata": {},
   "outputs": [
    {
     "data": {
      "text/plain": [
       "([4, 1, 5], 5)"
      ]
     },
     "execution_count": 74,
     "metadata": {},
     "output_type": "execute_result"
    }
   ],
   "source": [
    "\n",
    "def generate_tickets(ticket_count, max_number):\n",
    "        list = [i for i in range(max_number)]     \n",
    "        sub_list = random.sample(list, ticket_count)\n",
    "        one_number = random.choice(sub_list)\n",
    "        tupleee = (sub_list, one_number, )\n",
    "        return tupleee\n",
    "\n",
    "\n",
    "generate_tickets(3,10)"
   ]
  },
  {
   "cell_type": "code",
   "execution_count": null,
   "id": "6ea7f9d8",
   "metadata": {},
   "outputs": [],
   "source": [
    "#  _private_var  means do not change variable"
   ]
  },
  {
   "cell_type": "code",
   "execution_count": null,
   "id": "34702475",
   "metadata": {},
   "outputs": [],
   "source": []
  }
 ],
 "metadata": {
  "kernelspec": {
   "display_name": "py311env",
   "language": "python",
   "name": "python3"
  },
  "language_info": {
   "codemirror_mode": {
    "name": "ipython",
    "version": 3
   },
   "file_extension": ".py",
   "mimetype": "text/x-python",
   "name": "python",
   "nbconvert_exporter": "python",
   "pygments_lexer": "ipython3",
   "version": "3.12.3"
  }
 },
 "nbformat": 4,
 "nbformat_minor": 5
}
