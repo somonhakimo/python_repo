{
 "cells": [
  {
   "cell_type": "code",
   "execution_count": 1,
   "id": "756cc4a0",
   "metadata": {},
   "outputs": [],
   "source": [
    "# Task 4: Find the Second Largest Number in a List (No max() or sort())\n",
    "# Ask the user to enter a list of numbers. Find and print the second largest number without using max() or sort().\n",
    "\n",
    "# Example:\n",
    "# Enter numbers: 10 45 78 23 89 56  \n",
    "# Second largest number: 78"
   ]
  },
  {
   "cell_type": "code",
   "execution_count": 11,
   "id": "84dc4ad1",
   "metadata": {},
   "outputs": [
    {
     "name": "stdout",
     "output_type": "stream",
     "text": [
      "given list: ['10', '90', '50']\n",
      "the largest number: 90\n",
      "the second largest: 50\n"
     ]
    }
   ],
   "source": [
    "string1 = input('put a list of numbers here: ')\n",
    "given_list = string1.split()\n",
    "largest_number = 0\n",
    "second_largest = 0\n",
    "for i in given_list:\n",
    "    if int(i) > largest_number:\n",
    "        second_largest = largest_number\n",
    "        largest_number = int(i)\n",
    "    elif int(i) > second_largest:\n",
    "        second_largest = int(i)\n",
    "\n",
    "\n",
    "\n",
    "print(f'given list: {given_list}')\n",
    "print(f'the largest number: {largest_number}')\n",
    "print(f'the second largest: {second_largest}')\n"
   ]
  },
  {
   "cell_type": "code",
   "execution_count": null,
   "id": "cf87fb9d",
   "metadata": {},
   "outputs": [],
   "source": []
  }
 ],
 "metadata": {
  "kernelspec": {
   "display_name": "py311env",
   "language": "python",
   "name": "python3"
  },
  "language_info": {
   "codemirror_mode": {
    "name": "ipython",
    "version": 3
   },
   "file_extension": ".py",
   "mimetype": "text/x-python",
   "name": "python",
   "nbconvert_exporter": "python",
   "pygments_lexer": "ipython3",
   "version": "3.12.3"
  }
 },
 "nbformat": 4,
 "nbformat_minor": 5
}
