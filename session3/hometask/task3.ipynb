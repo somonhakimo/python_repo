{
 "cells": [
  {
   "cell_type": "code",
   "execution_count": 1,
   "id": "0c8abd14",
   "metadata": {},
   "outputs": [],
   "source": [
    "# Task 3: Find the Longest Word in a List\n",
    "# Ask the user to enter a list of words. Find and print the longest word from the list.\n",
    "\n",
    "# Example:\n",
    "# Enter words: Python Java JavaScript C  \n",
    "# Longest word: JavaScript  "
   ]
  },
  {
   "cell_type": "code",
   "execution_count": 13,
   "id": "8b1f636d",
   "metadata": {},
   "outputs": [
    {
     "name": "stdout",
     "output_type": "stream",
     "text": [
      "given list: ['python', 'java', 'javascript', 'c']\n",
      "counted characters: [6, 4, 10, 1]\n",
      "longest word: javascript\n"
     ]
    }
   ],
   "source": [
    "string1 = input('put your list of words here: ')\n",
    "given_list = string1.split()\n",
    "counter = 0\n",
    "new_list = []\n",
    "for i in given_list:\n",
    "        counter = len(i)\n",
    "        new_list.append(counter)\n",
    "print(f'given list: {given_list}')\n",
    "print(f'counted characters: {new_list}')\n",
    "index_l = new_list.index(max(new_list))\n",
    "print(f'longest word: {given_list[index_l]}')\n",
    "\n",
    "\n"
   ]
  },
  {
   "cell_type": "code",
   "execution_count": 16,
   "id": "1c44dc87",
   "metadata": {},
   "outputs": [
    {
     "name": "stdout",
     "output_type": "stream",
     "text": [
      "longest word: lalala\n"
     ]
    }
   ],
   "source": [
    "string1 = input('put your list of words here: ')\n",
    "given_list = string1.split()\n",
    "longest_word = ''\n",
    "for i in given_list:\n",
    "    if len(i) > len(longest_word):\n",
    "        longest_word = i\n",
    "print(f'longest word: {longest_word}')\n"
   ]
  },
  {
   "cell_type": "code",
   "execution_count": null,
   "id": "82d72b47",
   "metadata": {},
   "outputs": [],
   "source": []
  }
 ],
 "metadata": {
  "kernelspec": {
   "display_name": "py311env",
   "language": "python",
   "name": "python3"
  },
  "language_info": {
   "codemirror_mode": {
    "name": "ipython",
    "version": 3
   },
   "file_extension": ".py",
   "mimetype": "text/x-python",
   "name": "python",
   "nbconvert_exporter": "python",
   "pygments_lexer": "ipython3",
   "version": "3.12.3"
  }
 },
 "nbformat": 4,
 "nbformat_minor": 5
}
