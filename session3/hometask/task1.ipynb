{
 "cells": [
  {
   "cell_type": "code",
   "execution_count": null,
   "id": "94a64a48",
   "metadata": {},
   "outputs": [],
   "source": [
    "# Task 1: Reverse a List\n",
    "# Write a program that reverses a list using a for loop.\n",
    "# Example:\n",
    "\n",
    "# Input:\n",
    "# Enter numbers separated by space: 1 2 3 4 5\n",
    "# Output:\n",
    "# Reversed List: [5, 4, 3, 2, 1]"
   ]
  },
  {
   "cell_type": "code",
   "execution_count": null,
   "id": "ccc7986c",
   "metadata": {},
   "outputs": [
    {
     "name": "stdout",
     "output_type": "stream",
     "text": [
      "reversed_list: [3, 3, 2, 2]\n"
     ]
    }
   ],
   "source": [
    "list1 = input('enter numbers separated by space: ')\n",
    "reversed_list = []\n",
    "a = -1\n",
    "for i in list1:\n",
    "    if list1[a] != ' ':\n",
    "        reversed_list.append(int(list1[a]))\n",
    "    a -=  1\n",
    "print(f'reversed_list: {reversed_list}')\n"
   ]
  },
  {
   "cell_type": "code",
   "execution_count": null,
   "id": "8412e129",
   "metadata": {},
   "outputs": [
    {
     "name": "stdout",
     "output_type": "stream",
     "text": [
      "given list: [11, 22, 33, 44, 55, 666]\n",
      "reversed list: [666, 55, 44, 33, 22, 11]\n"
     ]
    }
   ],
   "source": [
    "string1 = input('enter numbers separated by space: ')\n",
    "reversed_list = []\n",
    "given_list = []\n",
    "a = -1\n",
    "string0 = ''\n",
    "for i in string1:\n",
    "    if i != ' ':\n",
    "        string0 += i\n",
    "    elif i == ' ':\n",
    "        given_list.append(int(string0))  \n",
    "        string0 = ''\n",
    "    else:   \n",
    "        print('something is wrong')\n",
    "given_list.append(int(string0))       \n",
    "print(f'given list: {given_list}')\n",
    "\n",
    "for i in given_list:\n",
    "    reversed_list.insert(a,i)\n",
    "    a -= 1\n",
    "print(f'reversed list: {reversed_list}')\n",
    "   "
   ]
  },
  {
   "cell_type": "code",
   "execution_count": 49,
   "id": "db051297",
   "metadata": {},
   "outputs": [
    {
     "name": "stdout",
     "output_type": "stream",
     "text": [
      "given list: ['11', '44', '55']\n",
      "reversed list: [55, 44, 11]\n"
     ]
    }
   ],
   "source": [
    "string1 = input('enter numbers separated by space: ')\n",
    "given_list = string1.split()\n",
    "reversed_list = []\n",
    "for i in given_list:\n",
    "    reversed_list.insert(0, int(i))\n",
    "\n",
    "print(f'given list: {given_list}')\n",
    "print(f'reversed list: {reversed_list}')"
   ]
  },
  {
   "cell_type": "code",
   "execution_count": null,
   "id": "32a0eefa",
   "metadata": {},
   "outputs": [],
   "source": []
  }
 ],
 "metadata": {
  "kernelspec": {
   "display_name": "py311env",
   "language": "python",
   "name": "python3"
  },
  "language_info": {
   "codemirror_mode": {
    "name": "ipython",
    "version": 3
   },
   "file_extension": ".py",
   "mimetype": "text/x-python",
   "name": "python",
   "nbconvert_exporter": "python",
   "pygments_lexer": "ipython3",
   "version": "3.12.3"
  }
 },
 "nbformat": 4,
 "nbformat_minor": 5
}
