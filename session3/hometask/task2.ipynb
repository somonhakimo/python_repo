{
 "cells": [
  {
   "cell_type": "code",
   "execution_count": 1,
   "id": "5533e602",
   "metadata": {},
   "outputs": [],
   "source": [
    "# Task 2: Remove Duplicates from a List\n",
    "# Ask the user to enter multiple words separated by spaces. Store them in a list and remove duplicate words while maintaining the original order.\n",
    "\n",
    "# Example:\n",
    "# Enter words: apple banana apple cherry banana apple  \n",
    "# Filtered List: ['apple', 'banana', 'cherry']\n",
    "\n"
   ]
  },
  {
   "cell_type": "code",
   "execution_count": null,
   "id": "27197478",
   "metadata": {},
   "outputs": [
    {
     "name": "stdout",
     "output_type": "stream",
     "text": [
      "filtered list: ['apple', 'banana', 'cherry']\n"
     ]
    }
   ],
   "source": [
    "string1 = input('put the list of words here: ')\n",
    "given_list = string1.split()\n",
    "no_dublicate = []\n",
    "for i in given_list:\n",
    "    if i not in no_dublicate:\n",
    "        no_dublicate.append(i)\n",
    "print(f'given list: {given_list}')\n",
    "print(f'filtered list: {no_dublicate}')"
   ]
  },
  {
   "cell_type": "code",
   "execution_count": null,
   "id": "4b3f9ab9",
   "metadata": {},
   "outputs": [],
   "source": []
  }
 ],
 "metadata": {
  "kernelspec": {
   "display_name": "py311env",
   "language": "python",
   "name": "python3"
  },
  "language_info": {
   "codemirror_mode": {
    "name": "ipython",
    "version": 3
   },
   "file_extension": ".py",
   "mimetype": "text/x-python",
   "name": "python",
   "nbconvert_exporter": "python",
   "pygments_lexer": "ipython3",
   "version": "3.12.3"
  }
 },
 "nbformat": 4,
 "nbformat_minor": 5
}
