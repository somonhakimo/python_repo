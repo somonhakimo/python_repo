{
 "cells": [
  {
   "cell_type": "code",
   "execution_count": 1,
   "id": "b9f5e23f",
   "metadata": {},
   "outputs": [],
   "source": [
    "# binary, hex, oct"
   ]
  },
  {
   "cell_type": "code",
   "execution_count": 2,
   "id": "a097fb71",
   "metadata": {},
   "outputs": [],
   "source": [
    "# for loop until 5\n",
    "# print \n",
    "\n",
    "# iterator = variable used within loop the value of which changes based on the sequence\n",
    "# sequence data type = data type that has start point and end point\n",
    "# string indexing. through indexing we can get the start of the string and end of the strings\n",
    "#\n",
    "\n",
    "# for <iterator> in <sequence_data type>:\n",
    "#     <code that needs to be repeated>\n"
   ]
  },
  {
   "cell_type": "code",
   "execution_count": 14,
   "id": "37ee23b8",
   "metadata": {},
   "outputs": [],
   "source": [
    "inp = input('input: ')\n",
    "inp2 = input('put your character here: ')\n",
    "\n",
    "for char in inp:\n",
    "    if char==inp2:\n",
    "        print(char)\n",
    "\n"
   ]
  },
  {
   "cell_type": "code",
   "execution_count": 18,
   "id": "073e655a",
   "metadata": {},
   "outputs": [
    {
     "name": "stdout",
     "output_type": "stream",
     "text": [
      "0\n"
     ]
    }
   ],
   "source": [
    "#character counter.\n",
    "a = 0\n",
    "inp1 = input('input: ')\n",
    "inp2 = input('input2: ')\n",
    "\n",
    "for char in inp1:\n",
    "    if char ==inp2:\n",
    "        a += 1\n",
    "print(a)"
   ]
  },
  {
   "cell_type": "code",
   "execution_count": 21,
   "id": "217a92ec",
   "metadata": {},
   "outputs": [
    {
     "name": "stdout",
     "output_type": "stream",
     "text": [
      "10\n",
      "10\n",
      "10\n",
      "10\n",
      "10\n",
      "10\n",
      "10\n",
      "10\n",
      "10\n",
      "10\n"
     ]
    }
   ],
   "source": [
    "for num in range(10):\n",
    "    print(10)"
   ]
  },
  {
   "cell_type": "code",
   "execution_count": 22,
   "id": "4567f4a0",
   "metadata": {},
   "outputs": [
    {
     "name": "stdout",
     "output_type": "stream",
     "text": [
      "0\n",
      "1\n",
      "2\n",
      "3\n",
      "4\n",
      "5\n",
      "6\n",
      "7\n",
      "8\n",
      "9\n"
     ]
    }
   ],
   "source": [
    "for num in range(10):\n",
    "    print(num)"
   ]
  },
  {
   "cell_type": "code",
   "execution_count": 24,
   "id": "6b7407f5",
   "metadata": {},
   "outputs": [
    {
     "name": "stdout",
     "output_type": "stream",
     "text": [
      "bgi dega haha\n",
      "bgi dega haha\n",
      "bgi dega haha\n",
      "bgi dega haha\n",
      "bgi dega haha\n",
      "bgi dega haha\n",
      "bgi dega haha\n",
      "bgi dega haha\n",
      "bgi dega haha\n",
      "bgi dega haha\n"
     ]
    }
   ],
   "source": [
    "for num in range(1, 11):\n",
    "    print('bgi dega haha')"
   ]
  },
  {
   "cell_type": "code",
   "execution_count": 28,
   "id": "71c796b9",
   "metadata": {},
   "outputs": [
    {
     "name": "stdout",
     "output_type": "stream",
     "text": [
      "0\n",
      "2\n",
      "4\n",
      "6\n",
      "8\n",
      "10\n",
      "12\n",
      "14\n"
     ]
    }
   ],
   "source": [
    "inp = int(input('number here: '))\n",
    "\n",
    "for num in range(0, inp, 2):\n",
    "    print(num)\n"
   ]
  },
  {
   "cell_type": "code",
   "execution_count": 31,
   "id": "6d18f05d",
   "metadata": {},
   "outputs": [
    {
     "name": "stdout",
     "output_type": "stream",
     "text": [
      "0\n",
      "2\n",
      "4\n",
      "6\n",
      "8\n",
      "10\n",
      "12\n",
      "14\n"
     ]
    }
   ],
   "source": [
    "inp = int(input('number here: '))\n",
    "for num in range(inp):\n",
    "    if num%2 == 0:\n",
    "        print(num)"
   ]
  },
  {
   "cell_type": "code",
   "execution_count": 32,
   "id": "1b89b83e",
   "metadata": {},
   "outputs": [
    {
     "name": "stdout",
     "output_type": "stream",
     "text": [
      "range(0, 10)\n"
     ]
    }
   ],
   "source": [
    "print(range(10))"
   ]
  },
  {
   "cell_type": "code",
   "execution_count": 33,
   "id": "2784f853",
   "metadata": {},
   "outputs": [],
   "source": [
    "# for loop, iterator, sequence data types \n",
    "# while loops, unlike for loop, while does not have a start or End.  \n",
    "# while loops are based on conditions \n",
    "# if the condition is true: code will be repeated until it turns False \n"
   ]
  },
  {
   "cell_type": "code",
   "execution_count": 35,
   "id": "a2d652e0",
   "metadata": {},
   "outputs": [
    {
     "name": "stdout",
     "output_type": "stream",
     "text": [
      "0\n",
      "1\n",
      "2\n",
      "3\n",
      "4\n",
      "5\n"
     ]
    }
   ],
   "source": [
    "# while <condition>: num1 < num2\n",
    "#     <code>\n",
    "\n",
    "inp = int(input('put you number here: '))\n",
    "start = 0\n",
    "while start < inp:\n",
    "    print(start)\n",
    "    start += 1"
   ]
  },
  {
   "cell_type": "code",
   "execution_count": null,
   "id": "92424936",
   "metadata": {},
   "outputs": [
    {
     "name": "stdout",
     "output_type": "stream",
     "text": [
      "0\n",
      "-------\n",
      "1\n",
      "-------\n",
      "2\n",
      "-------\n",
      "3\n",
      "-------\n"
     ]
    }
   ],
   "source": [
    "# break / continue - used with loops only\n",
    "# break - stops a loop\n",
    "# continue - skips the element, it does not stop.\n",
    "\n",
    "for i in range(4):\n",
    "    for num in range(1,10):\n",
    "        if i == 5:\n",
    "            break\n",
    "    else:\n",
    "        print(i)\n",
    "    print(\"-------\")\n"
   ]
  },
  {
   "cell_type": "code",
   "execution_count": 38,
   "id": "31275901",
   "metadata": {},
   "outputs": [
    {
     "name": "stdout",
     "output_type": "stream",
     "text": [
      "1\n",
      "2\n",
      "3\n",
      "4\n",
      "6\n",
      "7\n",
      "8\n",
      "9\n"
     ]
    }
   ],
   "source": [
    "for i in range(1, 10):\n",
    "    if i ==5:\n",
    "        continue\n",
    "    else: \n",
    "        print(i)"
   ]
  },
  {
   "cell_type": "code",
   "execution_count": null,
   "id": "81416e0c",
   "metadata": {},
   "outputs": [],
   "source": []
  },
  {
   "cell_type": "code",
   "execution_count": 43,
   "id": "e332d7a9",
   "metadata": {},
   "outputs": [
    {
     "name": "stdout",
     "output_type": "stream",
     "text": [
      "out of range\n",
      "out of range\n",
      "2\n"
     ]
    }
   ],
   "source": [
    "inp1 = int(input('put here input 1: until what number to print '))\n",
    "inp2 = int(input('put input2 here:  where to break'))\n",
    "\n",
    "counter = 0\n",
    "for i in range(inp1):\n",
    "    if i == inp2:\n",
    "        print(i)\n",
    "        break\n",
    "\n",
    "    print('out of range')\n",
    "\n"
   ]
  },
  {
   "cell_type": "code",
   "execution_count": 51,
   "id": "d3b0bc7f",
   "metadata": {},
   "outputs": [
    {
     "name": "stdout",
     "output_type": "stream",
     "text": [
      "['hello', 'haha', 10, 10.5, True, ['haha', 19, 'lala', 'Test']]\n"
     ]
    }
   ],
   "source": [
    "# list\n",
    "# string, float, integers, boolean ---> they can hold only a single value\n",
    "# int = 19\n",
    "# float = 40.5\n",
    "# bool = True | False\n",
    "# string = 'hello'\n",
    "# list is a data type can hold 0 or more values\n",
    "# list starts with []\n",
    "# you can store any data types in a list.\n",
    "\n",
    "listor = ['hello', 'haha', 10 , 10.5, True, ['haha', 19, 'lala', 'Test']]\n",
    "print(listor)"
   ]
  },
  {
   "cell_type": "code",
   "execution_count": 46,
   "id": "44861b6c",
   "metadata": {},
   "outputs": [
    {
     "name": "stdout",
     "output_type": "stream",
     "text": [
      "hello\n"
     ]
    }
   ],
   "source": [
    "# how to access elements in a list.\n",
    "print(listor[0])"
   ]
  },
  {
   "cell_type": "code",
   "execution_count": 47,
   "id": "3904b509",
   "metadata": {},
   "outputs": [
    {
     "name": "stdout",
     "output_type": "stream",
     "text": [
      "['haha', 19, 'lala', True]\n"
     ]
    }
   ],
   "source": [
    "print(listor[-1])"
   ]
  },
  {
   "cell_type": "code",
   "execution_count": 56,
   "id": "ad32a3ab",
   "metadata": {},
   "outputs": [
    {
     "name": "stdout",
     "output_type": "stream",
     "text": [
      "Test\n"
     ]
    }
   ],
   "source": [
    "print(listor[-1] [-1])"
   ]
  },
  {
   "cell_type": "code",
   "execution_count": 57,
   "id": "5a44dfa6",
   "metadata": {},
   "outputs": [
    {
     "name": "stdout",
     "output_type": "stream",
     "text": [
      "h\n"
     ]
    }
   ],
   "source": [
    "print(listor[1][2])"
   ]
  },
  {
   "cell_type": "code",
   "execution_count": 68,
   "id": "5f628448",
   "metadata": {},
   "outputs": [
    {
     "name": "stdout",
     "output_type": "stream",
     "text": [
      "Fruit: pear\n",
      "Fruit: apple\n",
      "Fruit: peach\n",
      "Fruit: barry\n",
      "Fruit: banana\n",
      "Fruit: grape\n"
     ]
    }
   ],
   "source": [
    "lst_fruits = ['pineapple', 'pear', 'apple', 'peach', 'barry']\n",
    "lst_fruits.append('banana')\n",
    "lst_fruits.append('grape') # we can add one single element at a time and it adds to the end of the list\n",
    "lst_fruits.insert(1, 'orange') # if we want in between we need to specify the location first, then element itself\n",
    "lst_fruits.pop(1) # it removes it from the specific place\n",
    "lst_fruits.remove('pineapple') # it removes the name that i specify.\n",
    "\n",
    "for fruit in lst_fruits:\n",
    "    print(f'Fruit: {fruit}')"
   ]
  },
  {
   "cell_type": "code",
   "execution_count": 69,
   "id": "d0d3e1e5",
   "metadata": {},
   "outputs": [
    {
     "name": "stdout",
     "output_type": "stream",
     "text": [
      "['apple', 'peach', 'barry']\n"
     ]
    }
   ],
   "source": [
    "print(lst_fruits[1:4])"
   ]
  },
  {
   "cell_type": "code",
   "execution_count": 70,
   "id": "4abdaa80",
   "metadata": {},
   "outputs": [
    {
     "name": "stdout",
     "output_type": "stream",
     "text": [
      "['pear', 'peach', 'banana']\n"
     ]
    }
   ],
   "source": [
    "print(lst_fruits[::2])"
   ]
  },
  {
   "cell_type": "code",
   "execution_count": 10,
   "id": "0924f7af",
   "metadata": {},
   "outputs": [
    {
     "name": "stdout",
     "output_type": "stream",
     "text": [
      "no fruit with the that letter\n",
      "no fruit with the that letter\n",
      "no fruit with the that letter\n",
      "no fruit with the that letter\n",
      "no fruit with the that letter\n",
      "no fruit with the that letter\n",
      "no fruit with the that letter\n",
      "no fruit with the that letter\n"
     ]
    }
   ],
   "source": [
    "lst_fruit = ['pineapple', 'pear', 'kiwi', 'apricot', 'peach', 'pear', 'cheery', 'melon']\n",
    "\n",
    "\n",
    "# take an input of a charachter\n",
    "# print fruits that contains this character\n",
    "# Example: input a\n",
    "# output: pear, all those fruits that have the letter a...\n",
    "\n",
    "# new_list = []\n",
    "inp1 = input('provide a letter: ')\n",
    "# for i in lst_fruit:\n",
    "#     for b in i:\n",
    "#         if b== inp1:\n",
    "#             new_list.append(i)\n",
    "# print(new_list) \n",
    "#           elif len(new_list) ==0:\n",
    "num = 0\n",
    "for fruit in lst_fruit:\n",
    "    if inp1 in fruit:\n",
    "        print(fruit)\n",
    "    else:\n",
    "        print('no fruit with the that letter')"
   ]
  },
  {
   "cell_type": "code",
   "execution_count": null,
   "id": "9c99b53c",
   "metadata": {},
   "outputs": [],
   "source": []
  },
  {
   "cell_type": "code",
   "execution_count": null,
   "id": "80ed700d",
   "metadata": {},
   "outputs": [],
   "source": []
  }
 ],
 "metadata": {
  "kernelspec": {
   "display_name": "py311env",
   "language": "python",
   "name": "python3"
  },
  "language_info": {
   "codemirror_mode": {
    "name": "ipython",
    "version": 3
   },
   "file_extension": ".py",
   "mimetype": "text/x-python",
   "name": "python",
   "nbconvert_exporter": "python",
   "pygments_lexer": "ipython3",
   "version": "3.12.3"
  }
 },
 "nbformat": 4,
 "nbformat_minor": 5
}
