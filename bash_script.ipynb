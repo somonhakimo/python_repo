{
 "cells": [
  {
   "cell_type": "code",
   "execution_count": 1,
   "id": "750711d7",
   "metadata": {},
   "outputs": [],
   "source": [
    "# # # compliant with wider veriety\n",
    "# # of shell\n",
    "\n",
    "# # function_name() {\n",
    "# #     # code block\n",
    "# # }\n",
    "\n",
    "# limited to bash and zsh\n",
    "# function function_name {\n",
    "#     code block\n",
    "# }"
   ]
  },
  {
   "cell_type": "code",
   "execution_count": 3,
   "id": "61ba14a1",
   "metadata": {},
   "outputs": [],
   "source": [
    "# say_hello() {\n",
    "#     echo \"Hello!\"\n",
    "# }\n",
    "\n",
    "# say_hello # this will execute the function\n"
   ]
  },
  {
   "cell_type": "code",
   "execution_count": 4,
   "id": "405c7d2e",
   "metadata": {},
   "outputs": [],
   "source": [
    "# print_full_name() {\n",
    "#     echo \"first name: $1\"\n",
    "#     echo \"last name: $2\"\n",
    "# }\n",
    "\n",
    "# print_full_name \"somon\" \"hakimov\""
   ]
  },
  {
   "cell_type": "code",
   "execution_count": 5,
   "id": "bad86189",
   "metadata": {},
   "outputs": [],
   "source": [
    "# output \n",
    "\n",
    "# first name: somon\n",
    "# last name: hakimov\n"
   ]
  },
  {
   "cell_type": "code",
   "execution_count": 6,
   "id": "65885081",
   "metadata": {},
   "outputs": [],
   "source": [
    "# is_even() {\n",
    "#     if (($1 % 2 == 0)); then\n",
    "#         return 0\n",
    "#     else\n",
    "#         return 1\n",
    "#     fi\n",
    "# }"
   ]
  },
  {
   "cell_type": "code",
   "execution_count": 7,
   "id": "4beb0ebd",
   "metadata": {},
   "outputs": [],
   "source": [
    "# square() {\n",
    "#     echo $(( $1 * $1))\n",
    "# }\n",
    "\n",
    "# result=$(square 4)\n",
    "# # echo \"square is : $result\""
   ]
  },
  {
   "cell_type": "code",
   "execution_count": 8,
   "id": "ba1b1d2a",
   "metadata": {},
   "outputs": [],
   "source": [
    "# my_function() {\n",
    "#     local local_var=\"I'm local\"\n",
    "#     global_var=\"I'm global\"\n",
    "# }\n",
    "\n",
    "# my_function\n",
    "# echo \"$local_var\" #will print nothing (not visible)\n",
    "# echo \"$global_var\" # will print: I'm global\n",
    "\n"
   ]
  },
  {
   "cell_type": "code",
   "execution_count": null,
   "id": "e6d768c5",
   "metadata": {},
   "outputs": [],
   "source": []
  }
 ],
 "metadata": {
  "kernelspec": {
   "display_name": "py311env",
   "language": "python",
   "name": "python3"
  },
  "language_info": {
   "codemirror_mode": {
    "name": "ipython",
    "version": 3
   },
   "file_extension": ".py",
   "mimetype": "text/x-python",
   "name": "python",
   "nbconvert_exporter": "python",
   "pygments_lexer": "ipython3",
   "version": "3.12.3"
  }
 },
 "nbformat": 4,
 "nbformat_minor": 5
}
