{
 "cells": [
  {
   "cell_type": "code",
   "execution_count": 1,
   "id": "c85876a1",
   "metadata": {},
   "outputs": [
    {
     "name": "stdout",
     "output_type": "stream",
     "text": [
      "hello world\n"
     ]
    }
   ],
   "source": [
    "print('hello world')"
   ]
  },
  {
   "cell_type": "code",
   "execution_count": null,
   "id": "1419f39f",
   "metadata": {},
   "outputs": [],
   "source": [
    "\n",
    "# compiled program is\n",
    "# 1. faster on execution\n",
    "# 2. works without\n",
    "# 3. with binary file or compiled file the full file should be correct, it cannot run partially.\n",
    "# 4. it creates a separate binary file\n",
    "# 5. a bit more complicated to interpreted \n",
    "# 6. compiles the whole file (cpu is used to convert binary), then run your binary. Benefits, no CPU taken to convert the program.\n",
    "# 7. you can use your compiled program, code, and use it many times.\n",
    "# 8. i can share the binary to anyone and it will work the same everywhere.\n",
    "# 9. Go, Java, C, C++, etc.."
   ]
  },
  {
   "cell_type": "code",
   "execution_count": 3,
   "id": "2e0cdfd2",
   "metadata": {},
   "outputs": [],
   "source": [
    "# python is kind of interpreted but it also can be compiled\n",
    "# interpreted program\n",
    "# 1. slower on execution\n",
    "# 2. needs an interpreter\n",
    "# 3. no need for a separate file\n",
    "# 4. easy\n",
    "# 5. for example reads a single line, converts to binary, executes the line, jumps to next line\n",
    "# 6. if your program consists of 10000 lines, it may take minutes to hours to run. \n",
    "# 7. Example: python, javaScript, Bash, etc..."
   ]
  },
  {
   "cell_type": "code",
   "execution_count": null,
   "id": "e319e8bd",
   "metadata": {},
   "outputs": [],
   "source": []
  }
 ],
 "metadata": {
  "kernelspec": {
   "display_name": "py311env",
   "language": "python",
   "name": "python3"
  },
  "language_info": {
   "codemirror_mode": {
    "name": "ipython",
    "version": 3
   },
   "file_extension": ".py",
   "mimetype": "text/x-python",
   "name": "python",
   "nbconvert_exporter": "python",
   "pygments_lexer": "ipython3",
   "version": "3.12.3"
  }
 },
 "nbformat": 4,
 "nbformat_minor": 5
}
