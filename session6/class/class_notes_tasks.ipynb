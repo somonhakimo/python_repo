{
 "cells": [
  {
   "cell_type": "code",
   "execution_count": null,
   "id": "d5c75087",
   "metadata": {},
   "outputs": [
    {
     "data": {
      "text/plain": [
       "'hello, alice!'"
      ]
     },
     "execution_count": 1,
     "metadata": {},
     "output_type": "execute_result"
    }
   ],
   "source": [
    "def greet(name):\n",
    "    return \"hello, \" + name + '!'\n",
    "    "
   ]
  },
  {
   "cell_type": "code",
   "execution_count": 4,
   "id": "7e9b3018",
   "metadata": {},
   "outputs": [
    {
     "name": "stdout",
     "output_type": "stream",
     "text": [
      "hello, alice !\n",
      "None\n"
     ]
    }
   ],
   "source": [
    "def greet(name):\n",
    "    print(f\"hello, {name} !\")\n",
    "\n",
    "\n",
    "print(greet('alice'))"
   ]
  },
  {
   "cell_type": "code",
   "execution_count": 8,
   "id": "b0f0a34c",
   "metadata": {},
   "outputs": [
    {
     "name": "stdout",
     "output_type": "stream",
     "text": [
      "{'name': 'abdul', 'age': 25}\n",
      "{'name': 'somon', 'age': 30}\n"
     ]
    }
   ],
   "source": [
    "def greet(name, age):\n",
    "    return {\n",
    "        'name': name,\n",
    "        'age': age\n",
    "    }\n",
    "\n",
    "print(greet('abdul', 25))\n",
    "print(greet(age=30, name='somon'))"
   ]
  },
  {
   "cell_type": "code",
   "execution_count": 17,
   "id": "ebf09f6d",
   "metadata": {},
   "outputs": [
    {
     "data": {
      "text/plain": [
       "'pilav'"
      ]
     },
     "execution_count": 17,
     "metadata": {},
     "output_type": "execute_result"
    }
   ],
   "source": [
    "# define 2 functions asking 2 different questions\n",
    "# return answers\n",
    "# save answers as variable\n",
    "# define 3rd function which takes 2 values and returns dictionary of the arguments provided\n",
    "\n",
    "def dream(number):\n",
    "    return number\n",
    "\n",
    "\n",
    "def dream2(food):\n",
    "    return food\n",
    "\n",
    "dream('2')\n",
    "dream2('pilav')\n",
    "\n"
   ]
  },
  {
   "cell_type": "code",
   "execution_count": 18,
   "id": "c6183c69",
   "metadata": {},
   "outputs": [
    {
     "ename": "SyntaxError",
     "evalue": "invalid syntax (2394897788.py, line 3)",
     "output_type": "error",
     "traceback": [
      "  \u001b[36mCell\u001b[39m\u001b[36m \u001b[39m\u001b[32mIn[18]\u001b[39m\u001b[32m, line 3\u001b[39m\n\u001b[31m    \u001b[39m\u001b[31mreturn dictionary[dream] = dream2\u001b[39m\n                             ^\n\u001b[31mSyntaxError\u001b[39m\u001b[31m:\u001b[39m invalid syntax\n"
     ]
    }
   ],
   "source": [
    "def combo():\n",
    "    dictionary = {}\n",
    "    return dictionary[dream] = dream2 \n"
   ]
  },
  {
   "cell_type": "code",
   "execution_count": 20,
   "id": "a5c54060",
   "metadata": {},
   "outputs": [
    {
     "name": "stdout",
     "output_type": "stream",
     "text": [
      "{'name': 'somon', 'age': '30'}\n"
     ]
    }
   ],
   "source": [
    "def function1():\n",
    "    name = input('enter name: ')\n",
    "    return name\n",
    "def function2():\n",
    "    age = input('enter age: ')\n",
    "    return age\n",
    "def function3(name, age):\n",
    "    return {\n",
    "        'name': name,\n",
    "        'age': age \n",
    "    }\n",
    "\n",
    "name = function1()\n",
    "age = function2()\n",
    "print(function3(name,age))"
   ]
  },
  {
   "cell_type": "code",
   "execution_count": null,
   "id": "5fb5a24f",
   "metadata": {},
   "outputs": [
    {
     "name": "stdout",
     "output_type": "stream",
     "text": [
      "{'name': 'abdul', 'age': '25'}\n"
     ]
    }
   ],
   "source": [
    "def function1():\n",
    "    return input('enter name: ')\n",
    "   \n",
    "def function2():\n",
    "    return input('enter age: ')\n",
    "\n",
    "def function3(name, age):\n",
    "    return {\n",
    "        'name': name,\n",
    "        'age': age \n",
    "    }\n",
    "\n",
    "print(function3(function1(),function2()))"
   ]
  },
  {
   "cell_type": "code",
   "execution_count": 22,
   "id": "8cb93481",
   "metadata": {},
   "outputs": [
    {
     "name": "stdout",
     "output_type": "stream",
     "text": [
      "{'name': 'somon', 'age': '23'}\n"
     ]
    }
   ],
   "source": [
    "def function1():\n",
    "    return input('enter name: ')\n",
    "   \n",
    "def function2():\n",
    "    return input('enter age: ')\n",
    "\n",
    "def function3(name: str, age: int) -> dict:\n",
    "    return {\n",
    "        'name': name,\n",
    "        'age': age \n",
    "    }\n",
    "\n",
    "print(function3(function1(),function2()))"
   ]
  },
  {
   "cell_type": "code",
   "execution_count": 25,
   "id": "df3efff8",
   "metadata": {},
   "outputs": [
    {
     "name": "stdout",
     "output_type": "stream",
     "text": [
      "24\n"
     ]
    }
   ],
   "source": [
    "def factorial(n):\n",
    "    if n == 1:\n",
    "        return 1\n",
    "    return n * factorial(n-1)\n",
    "\n",
    "print(factorial(4))"
   ]
  },
  {
   "cell_type": "code",
   "execution_count": 26,
   "id": "0cefdd08",
   "metadata": {},
   "outputs": [
    {
     "ename": "SyntaxError",
     "evalue": "expected ':' (1859741542.py, line 2)",
     "output_type": "error",
     "traceback": [
      "  \u001b[36mCell\u001b[39m\u001b[36m \u001b[39m\u001b[32mIn[26]\u001b[39m\u001b[32m, line 2\u001b[39m\n\u001b[31m    \u001b[39m\u001b[31mif x == c\u001b[39m\n             ^\n\u001b[31mSyntaxError\u001b[39m\u001b[31m:\u001b[39m expected ':'\n"
     ]
    }
   ],
   "source": [
    "def febenacci(n, i, c):\n",
    "    if x == c\n",
    "        return 1\n",
    "    a = i + n \n",
    "    b = i + a\n",
    "    t = a + b\n",
    "    return febanacci(n=i, i = n + i)\n",
    "return n, i\n",
    "    "
   ]
  },
  {
   "cell_type": "code",
   "execution_count": null,
   "id": "881da74f",
   "metadata": {},
   "outputs": [],
   "source": [
    "inp1 = int(input('put a small number here: '))\n",
    "    inp2 = int(input('put your second larger number here: '))\n",
    "    inp3 = int(input('put the number you want it to stop: '))\n",
    "\n",
    "def fubinachi(inp3=20, inp1=0,inp2=1):\n",
    "    \n",
    "    inp4 = 0\n",
    "    lst = [inp1, inp2]\n",
    "    while inp4 < inp3:\n",
    "        inp4 = inp1 + inp2\n",
    "        inp1 = inp2\n",
    "        inp2 = inp4\n",
    "        if inp4 < inp3:\n",
    "            lst.append(inp4)\n",
    "    print(lst)\n"
   ]
  },
  {
   "cell_type": "code",
   "execution_count": 36,
   "id": "bbdd9fe2",
   "metadata": {},
   "outputs": [],
   "source": [
    "inp1, inp2 = (inp1 + inp2), inp1"
   ]
  },
  {
   "cell_type": "code",
   "execution_count": 58,
   "id": "09cabcc6",
   "metadata": {},
   "outputs": [
    {
     "name": "stdout",
     "output_type": "stream",
     "text": [
      "please enter non-zero integer value\n"
     ]
    }
   ],
   "source": [
    "try:\n",
    "    num = int(input('enter a number: '))\n",
    "    print(10/num)\n",
    "except ValueError:\n",
    "    print('you cannot put letters')\n",
    "except ZeroDivisionError:\n",
    "    print('please enter non-zero integer value')\n",
    "except:\n",
    "    print('something went wrong')"
   ]
  },
  {
   "cell_type": "code",
   "execution_count": 59,
   "id": "d3ec2c26",
   "metadata": {},
   "outputs": [
    {
     "name": "stdout",
     "output_type": "stream",
     "text": [
      "File not found.\n"
     ]
    },
    {
     "ename": "NameError",
     "evalue": "name 'file' is not defined",
     "output_type": "error",
     "traceback": [
      "\u001b[31m---------------------------------------------------------------------------\u001b[39m",
      "\u001b[31mNameError\u001b[39m                                 Traceback (most recent call last)",
      "\u001b[36mCell\u001b[39m\u001b[36m \u001b[39m\u001b[32mIn[59]\u001b[39m\u001b[32m, line 7\u001b[39m\n\u001b[32m      5\u001b[39m     \u001b[38;5;28mprint\u001b[39m(\u001b[33m'\u001b[39m\u001b[33mFile not found.\u001b[39m\u001b[33m'\u001b[39m)\n\u001b[32m      6\u001b[39m \u001b[38;5;28;01mfinally\u001b[39;00m:\n\u001b[32m----> \u001b[39m\u001b[32m7\u001b[39m     \u001b[43mfile\u001b[49m.close()\n",
      "\u001b[31mNameError\u001b[39m: name 'file' is not defined"
     ]
    }
   ],
   "source": [
    "try:\n",
    "    file = open('sample.txt', 'r')\n",
    "    content = file.read()\n",
    "except FileNotFoundError:\n",
    "    print('File not found.')\n",
    "finally:\n",
    "    file.close()"
   ]
  },
  {
   "cell_type": "code",
   "execution_count": null,
   "id": "9f305bea",
   "metadata": {},
   "outputs": [
    {
     "name": "stdout",
     "output_type": "stream",
     "text": [
      "The name is not in the dictionary\n"
     ]
    }
   ],
   "source": [
    "# Dictionary looup with Error HandlingCreate a dictionary with \n",
    "# student names as keys and scores as values.\n",
    "\n",
    "# prompt the user to enter a student's name.\n",
    "# Use try-except to handle cases where the entered name does not exist in the dictionary.\n",
    "\n"
   ]
  },
  {
   "cell_type": "code",
   "execution_count": 70,
   "id": "afffc2a2",
   "metadata": {},
   "outputs": [
    {
     "name": "stdout",
     "output_type": "stream",
     "text": [
      "A\n"
     ]
    }
   ],
   "source": [
    "\n",
    "dictionary = {\n",
    "        'somon': 'A',\n",
    "        'yunus': 'B',\n",
    "        'elsu': '-A',\n",
    "        'jonathan': '+A',\n",
    "        'merim': 'C',\n",
    "        'abdul': 'F'\n",
    "    }\n",
    "\n",
    "def function(dictionary):\n",
    "    try:\n",
    "        inp = input('put the name of a student: ')\n",
    "        print(dictionary[inp])\n",
    "    except KeyError:\n",
    "        print('The name is not in the dictionary')\n",
    "\n",
    "function(dictionary)"
   ]
  },
  {
   "cell_type": "code",
   "execution_count": 71,
   "id": "f86f50d2",
   "metadata": {},
   "outputs": [
    {
     "name": "stdout",
     "output_type": "stream",
     "text": [
      "A\n"
     ]
    }
   ],
   "source": [
    "function(dictionary)"
   ]
  },
  {
   "cell_type": "code",
   "execution_count": 72,
   "id": "cda4c727",
   "metadata": {},
   "outputs": [
    {
     "data": {
      "text/plain": [
       "'A'"
      ]
     },
     "execution_count": 72,
     "metadata": {},
     "output_type": "execute_result"
    }
   ],
   "source": [
    "\n",
    "dictionary = {\n",
    "        'somon': 'A',\n",
    "        'yunus': 'B',\n",
    "        'elsu': '-A',\n",
    "        'jonathan': '+A',\n",
    "        'merim': 'C',\n",
    "        'abdul': 'F'\n",
    "    }\n",
    "\n",
    "def function(dictionary):\n",
    "    try:\n",
    "        inp = input('put the name of a student: ')\n",
    "        return dictionary[inp]\n",
    "    except KeyError:\n",
    "        print('The name is not in the dictionary')\n",
    "\n",
    "function(dictionary)"
   ]
  },
  {
   "cell_type": "code",
   "execution_count": 73,
   "id": "fed470bf",
   "metadata": {},
   "outputs": [
    {
     "data": {
      "text/plain": [
       "'B'"
      ]
     },
     "execution_count": 73,
     "metadata": {},
     "output_type": "execute_result"
    }
   ],
   "source": [
    "function(dictionary)"
   ]
  },
  {
   "cell_type": "code",
   "execution_count": 74,
   "id": "d230269f",
   "metadata": {},
   "outputs": [
    {
     "data": {
      "text/plain": [
       "'A'"
      ]
     },
     "execution_count": 74,
     "metadata": {},
     "output_type": "execute_result"
    }
   ],
   "source": [
    "\n",
    "dictionary = {\n",
    "        'somon': 'A',\n",
    "        'yunus': 'B',\n",
    "        'elsu': '-A',\n",
    "        'jonathan': '+A',\n",
    "        'merim': 'C',\n",
    "        'abdul': 'F'\n",
    "    }\n",
    "\n",
    "def function():\n",
    "    try:\n",
    "        inp = input('put the name of a student: ')\n",
    "        return dictionary[inp]\n",
    "    except KeyError:\n",
    "        print('The name is not in the dictionary')\n",
    "\n",
    "function()"
   ]
  },
  {
   "cell_type": "code",
   "execution_count": 75,
   "id": "2bec7bb3",
   "metadata": {},
   "outputs": [
    {
     "data": {
      "text/plain": [
       "'B'"
      ]
     },
     "execution_count": 75,
     "metadata": {},
     "output_type": "execute_result"
    }
   ],
   "source": [
    "function()"
   ]
  },
  {
   "cell_type": "code",
   "execution_count": null,
   "id": "8152b828",
   "metadata": {},
   "outputs": [],
   "source": []
  }
 ],
 "metadata": {
  "kernelspec": {
   "display_name": "py311env",
   "language": "python",
   "name": "python3"
  },
  "language_info": {
   "codemirror_mode": {
    "name": "ipython",
    "version": 3
   },
   "file_extension": ".py",
   "mimetype": "text/x-python",
   "name": "python",
   "nbconvert_exporter": "python",
   "pygments_lexer": "ipython3",
   "version": "3.12.3"
  }
 },
 "nbformat": 4,
 "nbformat_minor": 5
}
