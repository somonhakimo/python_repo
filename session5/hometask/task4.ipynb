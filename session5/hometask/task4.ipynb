{
 "cells": [
  {
   "cell_type": "code",
   "execution_count": 3,
   "id": "e60721ce",
   "metadata": {},
   "outputs": [],
   "source": [
    "product_data = {\n",
    "    \"store\": \"TechNova\",\n",
    "    \"location\": {\n",
    "        \"city\": \"San Francisco\",\n",
    "        \"country\": \"USA\"\n",
    "    },\n",
    "    \"products\": [\n",
    "        {\n",
    "            \"id\": \"P1001\",\n",
    "            \"name\": \"Wireless Mouse\",\n",
    "            \"brand\": \"LogiTech\",\n",
    "            \"price\": 29.99,\n",
    "            \"currency\": \"USD\",\n",
    "            \"stock\": 134,\n",
    "            \"specs\": {\n",
    "                \"color\": \"Black\",\n",
    "                \"connectivity\": \"Bluetooth\",\n",
    "                \"battery_life\": \"12 months\"\n",
    "            },\n",
    "            \"ratings\": {\n",
    "                \"average\": 4.5,\n",
    "                \"count\": 240\n",
    "            }\n",
    "        },\n",
    "        {\n",
    "            \"id\": \"P1002\",\n",
    "            \"name\": \"Mechanical Keyboard\",\n",
    "            \"brand\": \"KeyChron\",\n",
    "            \"price\": 79.99,\n",
    "            \"currency\": \"USD\",\n",
    "            \"stock\": 57,\n",
    "            \"specs\": {\n",
    "                \"color\": \"White\",\n",
    "                \"switch_type\": \"Gateron Brown\",\n",
    "                \"backlight\": \"RGB\"\n",
    "            },\n",
    "            \"ratings\": {\n",
    "                \"average\": 4.7,\n",
    "                \"count\": 145\n",
    "            }\n",
    "        },\n",
    "        {\n",
    "            \"id\": \"P1003\",\n",
    "            \"name\": \"Sony Wireless Noise-Canceling Headphones\",\n",
    "            \"brand\": \"Sony\",\n",
    "            \"price\": 199.99,\n",
    "            \"currency\": \"USD\",\n",
    "            \"stock\": 23,\n",
    "            \"specs\": {\n",
    "                \"color\": \"Black\",\n",
    "                \"connectivity\": \"Bluetooth\",\n",
    "                \"noise_cancellation\": \"Active\",\n",
    "                \"battery_life\": \"30 hours\"\n",
    "            },\n",
    "            \"ratings\": {\n",
    "                \"average\": 4.8,\n",
    "                \"count\": 529\n",
    "            }\n",
    "        }\n",
    "    ]\n",
    "}"
   ]
  },
  {
   "cell_type": "code",
   "execution_count": 1,
   "id": "ec6aaeea",
   "metadata": {},
   "outputs": [],
   "source": [
    "# Task 4: Show Discounted Prices for All Products\n",
    "# Apply a 10% discount to every product and print the name, original price, and discounted price.\n",
    "# Example Output:\n",
    "#  Wireless Mouse - Original: $29.99 | Discounted: $26.99\n",
    "#  Mechanical Keyboard - Original: $79.99 | Discounted: $71.99"
   ]
  },
  {
   "cell_type": "code",
   "execution_count": 6,
   "id": "5a62165f",
   "metadata": {},
   "outputs": [
    {
     "name": "stdout",
     "output_type": "stream",
     "text": [
      "Wireless Mouse - Original: 29.99 | Discounted: 26.991\n",
      "Mechanical Keyboard - Original: 79.99 | Discounted: 71.991\n",
      "Sony Wireless Noise-Canceling Headphones - Original: 199.99 | Discounted: 179.991\n"
     ]
    }
   ],
   "source": [
    "for i in range(0,3):\n",
    "    print(f'{product_data['products'][i]['name']} - Original: {product_data['products'][i]['price']} | Discounted: {product_data['products'][i]['price'] * 0.9}')"
   ]
  },
  {
   "cell_type": "code",
   "execution_count": null,
   "id": "3b31bcf6",
   "metadata": {},
   "outputs": [],
   "source": []
  }
 ],
 "metadata": {
  "kernelspec": {
   "display_name": "py311env",
   "language": "python",
   "name": "python3"
  },
  "language_info": {
   "codemirror_mode": {
    "name": "ipython",
    "version": 3
   },
   "file_extension": ".py",
   "mimetype": "text/x-python",
   "name": "python",
   "nbconvert_exporter": "python",
   "pygments_lexer": "ipython3",
   "version": "3.12.3"
  }
 },
 "nbformat": 4,
 "nbformat_minor": 5
}
