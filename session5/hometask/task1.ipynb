{
 "cells": [
  {
   "cell_type": "code",
   "execution_count": 20,
   "id": "d84fa932",
   "metadata": {},
   "outputs": [],
   "source": [
    "\n",
    "product_data = {\n",
    "    \"store\": \"TechNova\",\n",
    "    \"location\": {\n",
    "        \"city\": \"San Francisco\",\n",
    "        \"country\": \"USA\"\n",
    "    },\n",
    "    \"products\": [\n",
    "        {\n",
    "            \"id\": \"P1001\",\n",
    "            \"name\": \"Wireless Mouse\",\n",
    "            \"brand\": \"LogiTech\",\n",
    "            \"price\": 29.99,\n",
    "            \"currency\": \"USD\",\n",
    "            \"stock\": 0,\n",
    "            \"specs\": {\n",
    "                \"color\": \"Black\",\n",
    "                \"connectivity\": \"Bluetooth\",\n",
    "                \"battery_life\": \"12 months\"\n",
    "            },\n",
    "            \"ratings\": {\n",
    "                \"average\": 4.5,\n",
    "                \"count\": 240\n",
    "            }\n",
    "        },\n",
    "        {\n",
    "            \"id\": \"P1002\",\n",
    "            \"name\": \"Mechanical Keyboard\",\n",
    "            \"brand\": \"KeyChron\",\n",
    "            \"price\": 79.99,\n",
    "            \"currency\": \"USD\",\n",
    "            \"stock\": 0,\n",
    "            \"specs\": {\n",
    "                \"color\": \"White\",\n",
    "                \"switch_type\": \"Gateron Brown\",\n",
    "                \"backlight\": \"RGB\"\n",
    "            },\n",
    "            \"ratings\": {\n",
    "                \"average\": 4.7,\n",
    "                \"count\": 145\n",
    "            }\n",
    "        },\n",
    "        {\n",
    "            \"id\": \"P1003\",\n",
    "            \"name\": \"Sony Wireless Noise-Canceling Headphones\",\n",
    "            \"brand\": \"Sony\",\n",
    "            \"price\": 199.99,\n",
    "            \"currency\": \"USD\",\n",
    "            \"stock\": 0,\n",
    "            \"specs\": {\n",
    "                \"color\": \"Black\",\n",
    "                \"connectivity\": \"Bluetooth\",\n",
    "                \"noise_cancellation\": \"Active\",\n",
    "                \"battery_life\": \"30 hours\"\n",
    "            },\n",
    "            \"ratings\": {\n",
    "                \"average\": 4.8,\n",
    "                \"count\": 529\n",
    "            }\n",
    "        }\n",
    "    ]\n",
    "}"
   ]
  },
  {
   "cell_type": "code",
   "execution_count": 21,
   "id": "8d38635c",
   "metadata": {},
   "outputs": [],
   "source": [
    "# Task 1: Print All Out-of-Stock Products\n",
    "# Note: Change some of the stock items to 0 in the dictionary\n",
    "# Use the product_data dictionary and print the names of products that are out of stock (i.e., stock is 0).\n",
    "# Example Output:\n",
    "#  Out of stock: Bluetooth Speaker\n",
    "#  Out of stock: Wireless Charger"
   ]
  },
  {
   "cell_type": "code",
   "execution_count": 22,
   "id": "b4c5a114",
   "metadata": {},
   "outputs": [
    {
     "name": "stdout",
     "output_type": "stream",
     "text": [
      "out of stock: Wireless Mouse\n",
      "out of stock: Mechanical Keyboard\n",
      "out of stock: Sony Wireless Noise-Canceling Headphones\n"
     ]
    }
   ],
   "source": [
    "\n",
    "for i in range(0,3):\n",
    "    if product_data['products'][i]['stock'] == 0:\n",
    "        print(f'out of stock: {product_data['products'][i]['name']}')"
   ]
  }
 ],
 "metadata": {
  "kernelspec": {
   "display_name": "py311env",
   "language": "python",
   "name": "python3"
  },
  "language_info": {
   "codemirror_mode": {
    "name": "ipython",
    "version": 3
   },
   "file_extension": ".py",
   "mimetype": "text/x-python",
   "name": "python",
   "nbconvert_exporter": "python",
   "pygments_lexer": "ipython3",
   "version": "3.12.3"
  }
 },
 "nbformat": 4,
 "nbformat_minor": 5
}
