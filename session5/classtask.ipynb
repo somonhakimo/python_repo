{
 "cells": [
  {
   "cell_type": "code",
   "execution_count": 1,
   "id": "d99522dc",
   "metadata": {},
   "outputs": [],
   "source": [
    "# session 5\n",
    "# Dictionaries\n",
    "# Sets --What is sets?\n",
    "# functions\n",
    "\n",
    "# what is a dictionary?\n",
    "# dictionary is the data type that can hold multiple key and value pairs.\n",
    "# Ii is mutable data type\n",
    "# Mutable - list, dict\n",
    "# Immutable - string, tuple, int, float, bool,.."
   ]
  },
  {
   "cell_type": "code",
   "execution_count": 13,
   "id": "8e12e2d7",
   "metadata": {},
   "outputs": [],
   "source": [
    "# create a dictionary structure for laptop\n",
    "laptop = {\n",
    "    \"Dell\": {\n",
    "        \"software\": {\n",
    "            \"os\": \"Linux Mint\",\n",
    "            \"version\": \"22.04\",\n",
    "            \"applications\": [\"python\", \"vscode\", \"slack\"]\n",
    "        },\n",
    "\n",
    "        \"hardware\": {\n",
    "            \"model\": \"XPS 15\",\n",
    "            \"cpu\": \"Inter Core i5, (6 cores)\",\n",
    "            \"ram\": \"8gb\",\n",
    "            \"storage\": \"256gb\",\n",
    "            \"screen\": \"ips\"\n",
    "        }\n",
    "    },\n",
    "\n",
    "    \"MacBook\": {\n",
    "        \"software\": {\n",
    "            \"os\": \"Mac OS\",\n",
    "            \"version\": \"Sequoia 15.01\",\n",
    "            \"applications\": [\"telegram\", \"slack\", \"ms teams\"]\n",
    "        },\n",
    "\n",
    "        \"hardware\": {\n",
    "            \"model\": \"macbook air\",\n",
    "            \"cpu\": \"M1 8(cores)\",\n",
    "            \"ram\": \"8gb\",\n",
    "            \"storage\": \"512gb\",\n",
    "            \"screen\": \"ips\"\n",
    "        }\n",
    "    },\n",
    "\n",
    "    \"Acer\": {\n",
    "        \"software\": {\n",
    "            \"os\": \"Linux Ubuntu\",\n",
    "            \"version\": \"22.04\",\n",
    "            \"applications\": [\"python\", \"nodejs\", \"slack\"]\n",
    "        },\n",
    "\n",
    "        \"hardware\": {\n",
    "            \"model\": \"Swift 16\",\n",
    "            \"cpu\": \"Inter Core i9, (16 cores)\",\n",
    "            \"ram\": \"32gb\",\n",
    "            \"storage\": \"1tb\",\n",
    "            \"screen\": \"oled\"\n",
    "        }\n",
    "    }\n",
    "}\n",
    "\n"
   ]
  },
  {
   "cell_type": "code",
   "execution_count": 3,
   "id": "89b03d6c",
   "metadata": {},
   "outputs": [
    {
     "name": "stdout",
     "output_type": "stream",
     "text": [
      "['Dell', 'MacBook', 'Acer']\n"
     ]
    }
   ],
   "source": [
    "# task1: get all the laptop manufactures(names)\n",
    "# output: it should be a different list\n",
    "# laptops = ['dell', 'acer', 'macbook']\n",
    "names_of_laptops = []\n",
    "for i in laptop:\n",
    "    if i not in names_of_laptops:\n",
    "        names_of_laptops.append(i)\n",
    "print(names_of_laptops)\n"
   ]
  },
  {
   "cell_type": "code",
   "execution_count": null,
   "id": "e23c2332",
   "metadata": {},
   "outputs": [
    {
     "name": "stdout",
     "output_type": "stream",
     "text": [
      "Linux Mint\n"
     ]
    }
   ],
   "source": [
    "# task 2: print all the specs in software\n",
    "\n",
    "# output: \n",
    "# laptop: dell\n",
    "# OS: linux mint\n",
    "# version: 22.04\n",
    "\n",
    "# laptop: Dell\n",
    "# os: linux ubuntu\n",
    "# version: 22.1"
   ]
  },
  {
   "cell_type": "code",
   "execution_count": 28,
   "id": "aabe58f5",
   "metadata": {},
   "outputs": [
    {
     "name": "stdout",
     "output_type": "stream",
     "text": [
      "Linux Mint\n"
     ]
    }
   ],
   "source": [
    "print(laptop['Dell']['software']['os'])"
   ]
  },
  {
   "cell_type": "code",
   "execution_count": 29,
   "id": "022308f6",
   "metadata": {},
   "outputs": [],
   "source": [
    "# for key, value in info.items():\n",
    "#         print(f'hello I am, {value['fi']}, {value['l']}. I was born in, {value['d']}')\n",
    "#         print(f'I am student number, {key}')\n",
    "\n",
    "# grades = {}\n",
    "# grades['john'] = 'A-'\n",
    "# grades['somon'] = 'B'\n",
    "# print(grades)\n",
    "# for i in grades.values():\n",
    "#     print(i)"
   ]
  },
  {
   "cell_type": "code",
   "execution_count": 30,
   "id": "1cd47624",
   "metadata": {},
   "outputs": [
    {
     "name": "stdout",
     "output_type": "stream",
     "text": [
      "{'os': 'Linux Mint', 'version': '22.04', 'applications': ['python', 'vscode', 'slack']}\n",
      "{'model': 'XPS 15', 'cpu': 'Inter Core i5, (6 cores)', 'ram': '8gb', 'storage': '256gb', 'screen': 'ips'}\n",
      "{'os': 'Mac OS', 'version': 'Sequoia 15.01', 'applications': ['telegram', 'slack', 'ms teams']}\n",
      "{'model': 'macbook air', 'cpu': 'M1 8(cores)', 'ram': '8gb', 'storage': '512gb', 'screen': 'ips'}\n",
      "{'os': 'Linux Ubuntu', 'version': '22.04', 'applications': ['python', 'nodejs', 'slack']}\n",
      "{'model': 'Swift 16', 'cpu': 'Inter Core i9, (16 cores)', 'ram': '32gb', 'storage': '1tb', 'screen': 'oled'}\n"
     ]
    }
   ],
   "source": [
    "for key, value in laptop.items():\n",
    "    for k, v in value.items():\n",
    "        print(v)"
   ]
  },
  {
   "cell_type": "code",
   "execution_count": 32,
   "id": "238a8155",
   "metadata": {},
   "outputs": [
    {
     "name": "stdout",
     "output_type": "stream",
     "text": [
      "latpot: Dell\n",
      "os: Linux Mint\n",
      "version: 22.04\n",
      "latpot: MacBook\n",
      "os: Mac OS\n",
      "version: Sequoia 15.01\n",
      "latpot: Acer\n",
      "os: Linux Ubuntu\n",
      "version: 22.04\n"
     ]
    }
   ],
   "source": [
    "for key, value in laptop.items():\n",
    "    print(f'latpot: {key}')\n",
    "    print(f'os: {value['software']['os']}')\n",
    "    print(f'version: {value['software']['version']}')"
   ]
  },
  {
   "cell_type": "code",
   "execution_count": 42,
   "id": "e387ae13",
   "metadata": {},
   "outputs": [
    {
     "name": "stdout",
     "output_type": "stream",
     "text": [
      "Laptop: Dell\n",
      "Applications:pythonvscodeslack\n",
      "Laptop: MacBook\n",
      "Applications:telegramslackms teams\n",
      "Laptop: Acer\n",
      "Applications:pythonnodejsslack\n"
     ]
    }
   ],
   "source": [
    "# task3: \n",
    "# Output:\n",
    "# laptop: Dell\n",
    "# Application: python, node, slack Use: end and sep for print\n",
    "\n",
    "for key, value in laptop.items():\n",
    "    print(f'Laptop: {key}')\n",
    "    print('Applications:', end = '')\n",
    "    for i in value['software']['applications']:\n",
    "        print(i, end='')\n",
    "    print()\n",
    "        \n"
   ]
  },
  {
   "cell_type": "code",
   "execution_count": 44,
   "id": "cff392f7",
   "metadata": {},
   "outputs": [
    {
     "name": "stdout",
     "output_type": "stream",
     "text": [
      "{'banana': 2, 'apple': 1, 'pear': 3, 'cherry': 2, 'pineapple': 4}\n"
     ]
    }
   ],
   "source": [
    "fruits = {'banana': 2, 'apple': 1, 'pear': 3}\n",
    "fruits['cherry'] = 2\n",
    "fruits['pineapple'] = 4\n",
    "print(fruits)\n"
   ]
  },
  {
   "cell_type": "code",
   "execution_count": null,
   "id": "527c0168",
   "metadata": {},
   "outputs": [
    {
     "ename": "KeyError",
     "evalue": "'apple'",
     "output_type": "error",
     "traceback": [
      "\u001b[31m---------------------------------------------------------------------------\u001b[39m",
      "\u001b[31mKeyError\u001b[39m                                  Traceback (most recent call last)",
      "\u001b[36mCell\u001b[39m\u001b[36m \u001b[39m\u001b[32mIn[48]\u001b[39m\u001b[32m, line 1\u001b[39m\n\u001b[32m----> \u001b[39m\u001b[32m1\u001b[39m \u001b[43mfruits\u001b[49m\u001b[43m.\u001b[49m\u001b[43mpop\u001b[49m\u001b[43m(\u001b[49m\u001b[33;43m\"\u001b[39;49m\u001b[33;43mapple\u001b[39;49m\u001b[33;43m\"\u001b[39;49m\u001b[43m)\u001b[49m\n\u001b[32m      2\u001b[39m \u001b[38;5;28mprint\u001b[39m(fruits)\n",
      "\u001b[31mKeyError\u001b[39m: 'apple'"
     ]
    }
   ],
   "source": [
    "del fruits['banana']\n",
    "fruits.pop(\"apple\")\n",
    "print(fruits)"
   ]
  },
  {
   "cell_type": "code",
   "execution_count": null,
   "id": "13db2bc0",
   "metadata": {},
   "outputs": [
    {
     "name": "stdout",
     "output_type": "stream",
     "text": [
      "{'value1'}\n",
      "{10, 'value2', 'value1'}\n"
     ]
    }
   ],
   "source": [
    "var = {'key': 'value'}\n",
    "sets = { 'value1', 'value2', 10} # mutable, stores only values, lists can hold duplicates, but not sets, set stores only unique values, it changes the order of numbers.\n",
    "setss = {'value1', 'value1'}\n",
    "lists = [1, 1, 1, 1, -1, -10]\n",
    "print(setss)\n",
    "print(sets)"
   ]
  },
  {
   "cell_type": "code",
   "execution_count": 60,
   "id": "1b4b7059",
   "metadata": {},
   "outputs": [
    {
     "name": "stdout",
     "output_type": "stream",
     "text": [
      "hello\n",
      "hello\n",
      "jaha\n"
     ]
    }
   ],
   "source": [
    "# functions\n",
    "#a function is a block of reusable code designed to preform a specific task. \n",
    "# Helps in organizing code, making it readable, modular, and reusable. \n",
    "# if the same logic going to repaet than we are making it into a function. and use that flor fuctiona every time.\n",
    "# instead of writing the logic afaing the we just call the logic.\n",
    "\n",
    "def greet():\n",
    "    print('hello')\n",
    "inp = input('what is your  name? ')\n",
    "\n",
    "greet()\n",
    "greet()\n",
    "print(inp)"
   ]
  },
  {
   "cell_type": "code",
   "execution_count": 62,
   "id": "54d3d550",
   "metadata": {},
   "outputs": [
    {
     "name": "stdout",
     "output_type": "stream",
     "text": [
      "hello, somon\n",
      "hello, somon\n"
     ]
    }
   ],
   "source": [
    "def greet(name):\n",
    "    print(f'hello, {name}')\n",
    "\n",
    "inp = input('what is your name? ')\n",
    "\n",
    "greet(inp)\n",
    "greet(inp)"
   ]
  },
  {
   "cell_type": "code",
   "execution_count": null,
   "id": "25216ea6",
   "metadata": {},
   "outputs": [
    {
     "name": "stdout",
     "output_type": "stream",
     "text": [
      "hello, somon\n",
      "None\n"
     ]
    }
   ],
   "source": [
    "def greet(name):\n",
    "    print(f'hello, {name}')\n",
    "\n",
    "inp = input('what is your name? ')\n",
    "\n",
    "print(greet(inp)) # instead of this just write \"return\"\n",
    "# what is return -> python keyward that is used only in functions.\n",
    "# return is used to output a data type\n"
   ]
  },
  {
   "cell_type": "code",
   "execution_count": 70,
   "id": "5cfd5c1e",
   "metadata": {},
   "outputs": [
    {
     "ename": "NameError",
     "evalue": "name 'name' is not defined",
     "output_type": "error",
     "traceback": [
      "\u001b[31m---------------------------------------------------------------------------\u001b[39m",
      "\u001b[31mNameError\u001b[39m                                 Traceback (most recent call last)",
      "\u001b[36mCell\u001b[39m\u001b[36m \u001b[39m\u001b[32mIn[70]\u001b[39m\u001b[32m, line 5\u001b[39m\n\u001b[32m      2\u001b[39m     \u001b[38;5;28;01mreturn\u001b[39;00m \u001b[33mf\u001b[39m\u001b[33m'\u001b[39m\u001b[33mhello, \u001b[39m\u001b[38;5;132;01m{\u001b[39;00mname\u001b[38;5;132;01m}\u001b[39;00m\u001b[33m'\u001b[39m\n\u001b[32m      3\u001b[39m inp = \u001b[38;5;28minput\u001b[39m(\u001b[33m'\u001b[39m\u001b[33mwhat is your name? \u001b[39m\u001b[33m'\u001b[39m)\n\u001b[32m----> \u001b[39m\u001b[32m5\u001b[39m greet(\u001b[43mname\u001b[49m)\n",
      "\u001b[31mNameError\u001b[39m: name 'name' is not defined"
     ]
    }
   ],
   "source": [
    "def greet(name):\n",
    "    return f'hello, {name}'\n",
    "inp = input('what is your name? ')\n",
    "        \n",
    "greet(name)"
   ]
  },
  {
   "cell_type": "code",
   "execution_count": null,
   "id": "b5141eca",
   "metadata": {},
   "outputs": [],
   "source": [
    "def add(num1, num2):\n",
    "    print(num1 + num2)\n",
    "\n",
    "sum = add(5, 10)"
   ]
  }
 ],
 "metadata": {
  "kernelspec": {
   "display_name": "py311env",
   "language": "python",
   "name": "python3"
  },
  "language_info": {
   "codemirror_mode": {
    "name": "ipython",
    "version": 3
   },
   "file_extension": ".py",
   "mimetype": "text/x-python",
   "name": "python",
   "nbconvert_exporter": "python",
   "pygments_lexer": "ipython3",
   "version": "3.12.3"
  }
 },
 "nbformat": 4,
 "nbformat_minor": 5
}
